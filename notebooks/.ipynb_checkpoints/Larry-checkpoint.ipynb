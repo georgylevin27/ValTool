{
 "cells": [
  {
   "cell_type": "markdown",
   "metadata": {},
   "source": [
    "## Data Cleaning"
   ]
  },
  {
   "cell_type": "markdown",
   "metadata": {},
   "source": [
    "### Imports "
   ]
  },
  {
   "cell_type": "code",
   "execution_count": 1,
   "metadata": {},
   "outputs": [],
   "source": [
    "import pandas as pd\n",
    "import numpy as np\n",
    "import matplotlib.pyplot as plt\n",
    "import seaborn as sns\n",
    "import statsmodels.formula.api as smf\n",
    "from sklearn.model_selection import train_test_split\n",
    "from sklearn.preprocessing import StandardScaler\n",
    "from sklearn.neighbors import KNeighborsRegressor\n",
    "from sklearn.metrics import mean_squared_error, r2_score"
   ]
  },
  {
   "cell_type": "markdown",
   "metadata": {},
   "source": [
    "### Read and explore Data.csv"
   ]
  },
  {
   "cell_type": "code",
   "execution_count": 2,
   "metadata": {},
   "outputs": [
    {
     "data": {
      "text/html": [
       "<div>\n",
       "<style scoped>\n",
       "    .dataframe tbody tr th:only-of-type {\n",
       "        vertical-align: middle;\n",
       "    }\n",
       "\n",
       "    .dataframe tbody tr th {\n",
       "        vertical-align: top;\n",
       "    }\n",
       "\n",
       "    .dataframe thead th {\n",
       "        text-align: right;\n",
       "    }\n",
       "</style>\n",
       "<table border=\"1\" class=\"dataframe\">\n",
       "  <thead>\n",
       "    <tr style=\"text-align: right;\">\n",
       "      <th></th>\n",
       "      <th>Date</th>\n",
       "      <th>Target_Name</th>\n",
       "      <th>Target_Industry_Macro</th>\n",
       "      <th>Target_Industry_Mid</th>\n",
       "      <th>Target_Nation</th>\n",
       "      <th>Buyer_Name</th>\n",
       "      <th>Buyer_Industry_Macro</th>\n",
       "      <th>Buyer_Industry_Mid</th>\n",
       "      <th>Buyer_Nation</th>\n",
       "      <th>Target_Revenues</th>\n",
       "      <th>Target_EBITDA</th>\n",
       "      <th>Target_EV</th>\n",
       "      <th>Target_Industry_Detailed</th>\n",
       "      <th>Target_Status</th>\n",
       "      <th>Year</th>\n",
       "      <th>EV_Rev</th>\n",
       "      <th>EV_EBITDA</th>\n",
       "    </tr>\n",
       "  </thead>\n",
       "  <tbody>\n",
       "    <tr>\n",
       "      <th>0</th>\n",
       "      <td>14/08/2024</td>\n",
       "      <td>Sarsys-Asft AB</td>\n",
       "      <td>Industrials</td>\n",
       "      <td>Other Industrials</td>\n",
       "      <td>Sweden</td>\n",
       "      <td>Grundbulten 137100 AB</td>\n",
       "      <td>Financials</td>\n",
       "      <td>Other Financials</td>\n",
       "      <td>Sweden</td>\n",
       "      <td>3.76</td>\n",
       "      <td>-0.23</td>\n",
       "      <td>2.88</td>\n",
       "      <td>Measuring, Medical, Photo Equipment; Clocks</td>\n",
       "      <td>Public</td>\n",
       "      <td>2,024.00</td>\n",
       "      <td>0.77</td>\n",
       "      <td>-12.55</td>\n",
       "    </tr>\n",
       "    <tr>\n",
       "      <th>1</th>\n",
       "      <td>08/08/2024</td>\n",
       "      <td>GSE Systems Inc</td>\n",
       "      <td>High Technology</td>\n",
       "      <td>Software</td>\n",
       "      <td>United States</td>\n",
       "      <td>Nuclear Engineering Holdings LLC</td>\n",
       "      <td>Financials</td>\n",
       "      <td>Other Financials</td>\n",
       "      <td>United States</td>\n",
       "      <td>41.81</td>\n",
       "      <td>-1.02</td>\n",
       "      <td>13.17</td>\n",
       "      <td>Prepackaged Software</td>\n",
       "      <td>Public</td>\n",
       "      <td>2,024.00</td>\n",
       "      <td>0.32</td>\n",
       "      <td>-12.91</td>\n",
       "    </tr>\n",
       "    <tr>\n",
       "      <th>2</th>\n",
       "      <td>06/08/2024</td>\n",
       "      <td>INEO Tech Corp</td>\n",
       "      <td>Consumer Products and Services</td>\n",
       "      <td>Professional Services</td>\n",
       "      <td>Canada</td>\n",
       "      <td>Coenda Investment Holdings Corp</td>\n",
       "      <td>Financials</td>\n",
       "      <td>Other Financials</td>\n",
       "      <td>Canada</td>\n",
       "      <td>0.98</td>\n",
       "      <td>-1.78</td>\n",
       "      <td>3.91</td>\n",
       "      <td>Business Services</td>\n",
       "      <td>Public</td>\n",
       "      <td>2,024.00</td>\n",
       "      <td>3.97</td>\n",
       "      <td>-2.19</td>\n",
       "    </tr>\n",
       "    <tr>\n",
       "      <th>3</th>\n",
       "      <td>03/08/2024</td>\n",
       "      <td>Big Cheese Studio SA</td>\n",
       "      <td>High Technology</td>\n",
       "      <td>Software</td>\n",
       "      <td>Poland</td>\n",
       "      <td>Investor Group</td>\n",
       "      <td>Financials</td>\n",
       "      <td>Other Financials</td>\n",
       "      <td>Poland</td>\n",
       "      <td>2.71</td>\n",
       "      <td>1.05</td>\n",
       "      <td>11.29</td>\n",
       "      <td>Prepackaged Software</td>\n",
       "      <td>Public</td>\n",
       "      <td>2,024.00</td>\n",
       "      <td>4.16</td>\n",
       "      <td>10.72</td>\n",
       "    </tr>\n",
       "    <tr>\n",
       "      <th>4</th>\n",
       "      <td>01/08/2024</td>\n",
       "      <td>Braille Energy Systems Inc</td>\n",
       "      <td>Energy and Power</td>\n",
       "      <td>Other Energy &amp; Power</td>\n",
       "      <td>Canada</td>\n",
       "      <td>Undisclosed Acquiror</td>\n",
       "      <td>Financials</td>\n",
       "      <td>Brokerage</td>\n",
       "      <td>Unknown</td>\n",
       "      <td>2.43</td>\n",
       "      <td>-1.35</td>\n",
       "      <td>5.86</td>\n",
       "      <td>Electronic and Electrical Equipment</td>\n",
       "      <td>Public</td>\n",
       "      <td>2,024.00</td>\n",
       "      <td>2.41</td>\n",
       "      <td>-4.33</td>\n",
       "    </tr>\n",
       "  </tbody>\n",
       "</table>\n",
       "</div>"
      ],
      "text/plain": [
       "         Date                 Target_Name           Target_Industry_Macro  \\\n",
       "0  14/08/2024              Sarsys-Asft AB                     Industrials   \n",
       "1  08/08/2024             GSE Systems Inc                 High Technology   \n",
       "2  06/08/2024              INEO Tech Corp  Consumer Products and Services   \n",
       "3  03/08/2024        Big Cheese Studio SA                 High Technology   \n",
       "4  01/08/2024  Braille Energy Systems Inc                Energy and Power   \n",
       "\n",
       "     Target_Industry_Mid  Target_Nation                        Buyer_Name  \\\n",
       "0      Other Industrials         Sweden             Grundbulten 137100 AB   \n",
       "1               Software  United States  Nuclear Engineering Holdings LLC   \n",
       "2  Professional Services         Canada   Coenda Investment Holdings Corp   \n",
       "3               Software         Poland                    Investor Group   \n",
       "4   Other Energy & Power         Canada              Undisclosed Acquiror   \n",
       "\n",
       "  Buyer_Industry_Macro Buyer_Industry_Mid   Buyer_Nation Target_Revenues  \\\n",
       "0           Financials   Other Financials         Sweden            3.76   \n",
       "1           Financials   Other Financials  United States           41.81   \n",
       "2           Financials   Other Financials         Canada            0.98   \n",
       "3           Financials   Other Financials         Poland            2.71   \n",
       "4           Financials          Brokerage        Unknown            2.43   \n",
       "\n",
       "  Target_EBITDA Target_EV                     Target_Industry_Detailed  \\\n",
       "0         -0.23      2.88  Measuring, Medical, Photo Equipment; Clocks   \n",
       "1         -1.02     13.17                         Prepackaged Software   \n",
       "2         -1.78      3.91                            Business Services   \n",
       "3          1.05     11.29                         Prepackaged Software   \n",
       "4         -1.35      5.86          Electronic and Electrical Equipment   \n",
       "\n",
       "  Target_Status      Year  EV_Rev  EV_EBITDA  \n",
       "0        Public  2,024.00    0.77     -12.55  \n",
       "1        Public  2,024.00    0.32     -12.91  \n",
       "2        Public  2,024.00    3.97      -2.19  \n",
       "3        Public  2,024.00    4.16      10.72  \n",
       "4        Public  2,024.00    2.41      -4.33  "
      ]
     },
     "execution_count": 2,
     "metadata": {},
     "output_type": "execute_result"
    }
   ],
   "source": [
    "df = pd.read_csv(\"/Users/Tomas/code/tbenaventegh/ValTool/data/Data.csv\")\n",
    "df.head()"
   ]
  },
  {
   "cell_type": "code",
   "execution_count": 3,
   "metadata": {},
   "outputs": [
    {
     "data": {
      "text/plain": [
       "Date                         object\n",
       "Target_Name                  object\n",
       "Target_Industry_Macro        object\n",
       "Target_Industry_Mid          object\n",
       "Target_Nation                object\n",
       "Buyer_Name                   object\n",
       "Buyer_Industry_Macro         object\n",
       "Buyer_Industry_Mid           object\n",
       "Buyer_Nation                 object\n",
       "Target_Revenues              object\n",
       "Target_EBITDA                object\n",
       "Target_EV                    object\n",
       "Target_Industry_Detailed     object\n",
       "Target_Status                object\n",
       "Year                         object\n",
       "EV_Rev                      float64\n",
       "EV_EBITDA                   float64\n",
       "dtype: object"
      ]
     },
     "execution_count": 3,
     "metadata": {},
     "output_type": "execute_result"
    }
   ],
   "source": [
    "df.dtypes"
   ]
  },
  {
   "cell_type": "markdown",
   "metadata": {},
   "source": [
    "### Need to change some objects into floats and ints"
   ]
  },
  {
   "cell_type": "code",
   "execution_count": 4,
   "metadata": {},
   "outputs": [
    {
     "data": {
      "text/html": [
       "<div>\n",
       "<style scoped>\n",
       "    .dataframe tbody tr th:only-of-type {\n",
       "        vertical-align: middle;\n",
       "    }\n",
       "\n",
       "    .dataframe tbody tr th {\n",
       "        vertical-align: top;\n",
       "    }\n",
       "\n",
       "    .dataframe thead th {\n",
       "        text-align: right;\n",
       "    }\n",
       "</style>\n",
       "<table border=\"1\" class=\"dataframe\">\n",
       "  <thead>\n",
       "    <tr style=\"text-align: right;\">\n",
       "      <th></th>\n",
       "      <th>Date</th>\n",
       "      <th>Target_Name</th>\n",
       "      <th>Target_Industry_Macro</th>\n",
       "      <th>Target_Industry_Mid</th>\n",
       "      <th>Target_Nation</th>\n",
       "      <th>Buyer_Name</th>\n",
       "      <th>Buyer_Industry_Macro</th>\n",
       "      <th>Buyer_Industry_Mid</th>\n",
       "      <th>Buyer_Nation</th>\n",
       "      <th>Target_Revenues</th>\n",
       "      <th>Target_EBITDA</th>\n",
       "      <th>Target_EV</th>\n",
       "      <th>Target_Industry_Detailed</th>\n",
       "      <th>Target_Status</th>\n",
       "      <th>Year</th>\n",
       "      <th>EV_Rev</th>\n",
       "      <th>EV_EBITDA</th>\n",
       "    </tr>\n",
       "  </thead>\n",
       "  <tbody>\n",
       "    <tr>\n",
       "      <th>0</th>\n",
       "      <td>14/08/2024</td>\n",
       "      <td>Sarsys-Asft AB</td>\n",
       "      <td>Industrials</td>\n",
       "      <td>Other Industrials</td>\n",
       "      <td>Sweden</td>\n",
       "      <td>Grundbulten 137100 AB</td>\n",
       "      <td>Financials</td>\n",
       "      <td>Other Financials</td>\n",
       "      <td>Sweden</td>\n",
       "      <td>3.76</td>\n",
       "      <td>-0.23</td>\n",
       "      <td>2.88</td>\n",
       "      <td>Measuring, Medical, Photo Equipment; Clocks</td>\n",
       "      <td>Public</td>\n",
       "      <td>2024</td>\n",
       "      <td>0.77</td>\n",
       "      <td>-12.55</td>\n",
       "    </tr>\n",
       "    <tr>\n",
       "      <th>1</th>\n",
       "      <td>08/08/2024</td>\n",
       "      <td>GSE Systems Inc</td>\n",
       "      <td>High Technology</td>\n",
       "      <td>Software</td>\n",
       "      <td>United States</td>\n",
       "      <td>Nuclear Engineering Holdings LLC</td>\n",
       "      <td>Financials</td>\n",
       "      <td>Other Financials</td>\n",
       "      <td>United States</td>\n",
       "      <td>41.81</td>\n",
       "      <td>-1.02</td>\n",
       "      <td>13.17</td>\n",
       "      <td>Prepackaged Software</td>\n",
       "      <td>Public</td>\n",
       "      <td>2024</td>\n",
       "      <td>0.32</td>\n",
       "      <td>-12.91</td>\n",
       "    </tr>\n",
       "    <tr>\n",
       "      <th>2</th>\n",
       "      <td>06/08/2024</td>\n",
       "      <td>INEO Tech Corp</td>\n",
       "      <td>Consumer Products and Services</td>\n",
       "      <td>Professional Services</td>\n",
       "      <td>Canada</td>\n",
       "      <td>Coenda Investment Holdings Corp</td>\n",
       "      <td>Financials</td>\n",
       "      <td>Other Financials</td>\n",
       "      <td>Canada</td>\n",
       "      <td>0.98</td>\n",
       "      <td>-1.78</td>\n",
       "      <td>3.91</td>\n",
       "      <td>Business Services</td>\n",
       "      <td>Public</td>\n",
       "      <td>2024</td>\n",
       "      <td>3.97</td>\n",
       "      <td>-2.19</td>\n",
       "    </tr>\n",
       "    <tr>\n",
       "      <th>3</th>\n",
       "      <td>03/08/2024</td>\n",
       "      <td>Big Cheese Studio SA</td>\n",
       "      <td>High Technology</td>\n",
       "      <td>Software</td>\n",
       "      <td>Poland</td>\n",
       "      <td>Investor Group</td>\n",
       "      <td>Financials</td>\n",
       "      <td>Other Financials</td>\n",
       "      <td>Poland</td>\n",
       "      <td>2.71</td>\n",
       "      <td>1.05</td>\n",
       "      <td>11.29</td>\n",
       "      <td>Prepackaged Software</td>\n",
       "      <td>Public</td>\n",
       "      <td>2024</td>\n",
       "      <td>4.16</td>\n",
       "      <td>10.72</td>\n",
       "    </tr>\n",
       "    <tr>\n",
       "      <th>4</th>\n",
       "      <td>01/08/2024</td>\n",
       "      <td>Braille Energy Systems Inc</td>\n",
       "      <td>Energy and Power</td>\n",
       "      <td>Other Energy &amp; Power</td>\n",
       "      <td>Canada</td>\n",
       "      <td>Undisclosed Acquiror</td>\n",
       "      <td>Financials</td>\n",
       "      <td>Brokerage</td>\n",
       "      <td>Unknown</td>\n",
       "      <td>2.43</td>\n",
       "      <td>-1.35</td>\n",
       "      <td>5.86</td>\n",
       "      <td>Electronic and Electrical Equipment</td>\n",
       "      <td>Public</td>\n",
       "      <td>2024</td>\n",
       "      <td>2.41</td>\n",
       "      <td>-4.33</td>\n",
       "    </tr>\n",
       "  </tbody>\n",
       "</table>\n",
       "</div>"
      ],
      "text/plain": [
       "         Date                 Target_Name           Target_Industry_Macro  \\\n",
       "0  14/08/2024              Sarsys-Asft AB                     Industrials   \n",
       "1  08/08/2024             GSE Systems Inc                 High Technology   \n",
       "2  06/08/2024              INEO Tech Corp  Consumer Products and Services   \n",
       "3  03/08/2024        Big Cheese Studio SA                 High Technology   \n",
       "4  01/08/2024  Braille Energy Systems Inc                Energy and Power   \n",
       "\n",
       "     Target_Industry_Mid  Target_Nation                        Buyer_Name  \\\n",
       "0      Other Industrials         Sweden             Grundbulten 137100 AB   \n",
       "1               Software  United States  Nuclear Engineering Holdings LLC   \n",
       "2  Professional Services         Canada   Coenda Investment Holdings Corp   \n",
       "3               Software         Poland                    Investor Group   \n",
       "4   Other Energy & Power         Canada              Undisclosed Acquiror   \n",
       "\n",
       "  Buyer_Industry_Macro Buyer_Industry_Mid   Buyer_Nation  Target_Revenues  \\\n",
       "0           Financials   Other Financials         Sweden             3.76   \n",
       "1           Financials   Other Financials  United States            41.81   \n",
       "2           Financials   Other Financials         Canada             0.98   \n",
       "3           Financials   Other Financials         Poland             2.71   \n",
       "4           Financials          Brokerage        Unknown             2.43   \n",
       "\n",
       "   Target_EBITDA  Target_EV                     Target_Industry_Detailed  \\\n",
       "0          -0.23       2.88  Measuring, Medical, Photo Equipment; Clocks   \n",
       "1          -1.02      13.17                         Prepackaged Software   \n",
       "2          -1.78       3.91                            Business Services   \n",
       "3           1.05      11.29                         Prepackaged Software   \n",
       "4          -1.35       5.86          Electronic and Electrical Equipment   \n",
       "\n",
       "  Target_Status  Year  EV_Rev  EV_EBITDA  \n",
       "0        Public  2024    0.77     -12.55  \n",
       "1        Public  2024    0.32     -12.91  \n",
       "2        Public  2024    3.97      -2.19  \n",
       "3        Public  2024    4.16      10.72  \n",
       "4        Public  2024    2.41      -4.33  "
      ]
     },
     "execution_count": 4,
     "metadata": {},
     "output_type": "execute_result"
    }
   ],
   "source": [
    "df['Target_Revenues']=df['Target_Revenues'].str.replace(',','')\n",
    "df['Target_Revenues'] = df.Target_Revenues.astype(float)\n",
    "\n",
    "df['Target_EBITDA']=df['Target_EBITDA'].str.replace(',','')\n",
    "df['Target_EBITDA']=df.Target_EBITDA.astype(float)\n",
    "\n",
    "df['Target_EV']=df['Target_EV'].str.replace(',','')\n",
    "df['Target_EV']=df.Target_EV.astype(float)\n",
    "\n",
    "df['Year']=df['Year'].str.replace(',','')\n",
    "df['Year']=df.Year.astype(float)\n",
    "df['Year']=df.Year.astype(int)\n",
    "\n",
    "df.head()"
   ]
  },
  {
   "cell_type": "markdown",
   "metadata": {},
   "source": [
    "### Change 'Date' from 'object' to 'datetime'"
   ]
  },
  {
   "cell_type": "code",
   "execution_count": 5,
   "metadata": {},
   "outputs": [
    {
     "data": {
      "text/plain": [
       "0       2024-08-14\n",
       "1       2024-08-08\n",
       "2       2024-08-06\n",
       "3       2024-08-03\n",
       "4       2024-08-01\n",
       "           ...    \n",
       "14770   2014-01-14\n",
       "14771   2014-01-13\n",
       "14772   2014-01-13\n",
       "14773   2014-01-03\n",
       "14774   2014-01-01\n",
       "Name: Date, Length: 14775, dtype: datetime64[ns]"
      ]
     },
     "execution_count": 5,
     "metadata": {},
     "output_type": "execute_result"
    }
   ],
   "source": [
    "df['Date'] = pd.to_datetime(df['Date'], format='%d/%m/%Y')\n",
    "df['Date']"
   ]
  },
  {
   "cell_type": "code",
   "execution_count": 6,
   "metadata": {},
   "outputs": [
    {
     "data": {
      "text/plain": [
       "Date                        datetime64[ns]\n",
       "Target_Name                         object\n",
       "Target_Industry_Macro               object\n",
       "Target_Industry_Mid                 object\n",
       "Target_Nation                       object\n",
       "Buyer_Name                          object\n",
       "Buyer_Industry_Macro                object\n",
       "Buyer_Industry_Mid                  object\n",
       "Buyer_Nation                        object\n",
       "Target_Revenues                    float64\n",
       "Target_EBITDA                      float64\n",
       "Target_EV                          float64\n",
       "Target_Industry_Detailed            object\n",
       "Target_Status                       object\n",
       "Year                                 int64\n",
       "EV_Rev                             float64\n",
       "EV_EBITDA                          float64\n",
       "dtype: object"
      ]
     },
     "execution_count": 6,
     "metadata": {},
     "output_type": "execute_result"
    }
   ],
   "source": [
    "df.dtypes"
   ]
  },
  {
   "cell_type": "markdown",
   "metadata": {},
   "source": [
    "### Check counts of target_industry_macro"
   ]
  },
  {
   "cell_type": "code",
   "execution_count": 7,
   "metadata": {},
   "outputs": [
    {
     "data": {
      "text/html": [
       "<div>\n",
       "<style scoped>\n",
       "    .dataframe tbody tr th:only-of-type {\n",
       "        vertical-align: middle;\n",
       "    }\n",
       "\n",
       "    .dataframe tbody tr th {\n",
       "        vertical-align: top;\n",
       "    }\n",
       "\n",
       "    .dataframe thead th {\n",
       "        text-align: right;\n",
       "    }\n",
       "</style>\n",
       "<table border=\"1\" class=\"dataframe\">\n",
       "  <thead>\n",
       "    <tr style=\"text-align: right;\">\n",
       "      <th></th>\n",
       "      <th>Target_Industry_Macro</th>\n",
       "      <th>Count</th>\n",
       "    </tr>\n",
       "  </thead>\n",
       "  <tbody>\n",
       "    <tr>\n",
       "      <th>0</th>\n",
       "      <td>High Technology</td>\n",
       "      <td>2372</td>\n",
       "    </tr>\n",
       "    <tr>\n",
       "      <th>1</th>\n",
       "      <td>Financials</td>\n",
       "      <td>2226</td>\n",
       "    </tr>\n",
       "    <tr>\n",
       "      <th>2</th>\n",
       "      <td>Industrials</td>\n",
       "      <td>1785</td>\n",
       "    </tr>\n",
       "    <tr>\n",
       "      <th>3</th>\n",
       "      <td>Energy and Power</td>\n",
       "      <td>1366</td>\n",
       "    </tr>\n",
       "    <tr>\n",
       "      <th>4</th>\n",
       "      <td>Healthcare</td>\n",
       "      <td>1339</td>\n",
       "    </tr>\n",
       "    <tr>\n",
       "      <th>5</th>\n",
       "      <td>Materials</td>\n",
       "      <td>1257</td>\n",
       "    </tr>\n",
       "    <tr>\n",
       "      <th>6</th>\n",
       "      <td>Consumer Products and Services</td>\n",
       "      <td>1015</td>\n",
       "    </tr>\n",
       "    <tr>\n",
       "      <th>7</th>\n",
       "      <td>Media and Entertainment</td>\n",
       "      <td>818</td>\n",
       "    </tr>\n",
       "    <tr>\n",
       "      <th>8</th>\n",
       "      <td>Real Estate</td>\n",
       "      <td>794</td>\n",
       "    </tr>\n",
       "    <tr>\n",
       "      <th>9</th>\n",
       "      <td>Consumer Staples</td>\n",
       "      <td>783</td>\n",
       "    </tr>\n",
       "    <tr>\n",
       "      <th>10</th>\n",
       "      <td>Retail</td>\n",
       "      <td>638</td>\n",
       "    </tr>\n",
       "    <tr>\n",
       "      <th>11</th>\n",
       "      <td>Telecommunications</td>\n",
       "      <td>373</td>\n",
       "    </tr>\n",
       "    <tr>\n",
       "      <th>12</th>\n",
       "      <td>Government and Agencies</td>\n",
       "      <td>7</td>\n",
       "    </tr>\n",
       "  </tbody>\n",
       "</table>\n",
       "</div>"
      ],
      "text/plain": [
       "             Target_Industry_Macro  Count\n",
       "0                  High Technology   2372\n",
       "1                       Financials   2226\n",
       "2                      Industrials   1785\n",
       "3                 Energy and Power   1366\n",
       "4                       Healthcare   1339\n",
       "5                        Materials   1257\n",
       "6   Consumer Products and Services   1015\n",
       "7          Media and Entertainment    818\n",
       "8                      Real Estate    794\n",
       "9                 Consumer Staples    783\n",
       "10                          Retail    638\n",
       "11              Telecommunications    373\n",
       "12         Government and Agencies      7"
      ]
     },
     "execution_count": 7,
     "metadata": {},
     "output_type": "execute_result"
    }
   ],
   "source": [
    "target_macro_df = df['Target_Industry_Macro'].value_counts().reset_index()\n",
    "target_macro_df.columns = ['Target_Industry_Macro', 'Count']\n",
    "target_macro_df"
   ]
  },
  {
   "cell_type": "markdown",
   "metadata": {},
   "source": [
    "#### Remove 'Government and Agencies' rows"
   ]
  },
  {
   "cell_type": "code",
   "execution_count": 8,
   "metadata": {},
   "outputs": [
    {
     "data": {
      "text/plain": [
       "(14768, 17)"
      ]
     },
     "execution_count": 8,
     "metadata": {},
     "output_type": "execute_result"
    }
   ],
   "source": [
    "df = df[df['Target_Industry_Macro'] != 'Government and Agencies']\n",
    "df.shape"
   ]
  },
  {
   "cell_type": "markdown",
   "metadata": {},
   "source": [
    "### Explore negative EBITDA"
   ]
  },
  {
   "cell_type": "code",
   "execution_count": 9,
   "metadata": {},
   "outputs": [
    {
     "data": {
      "text/plain": [
       "count     14768.000000\n",
       "mean        406.606076\n",
       "std        3047.313145\n",
       "min       -6847.300000\n",
       "25%           0.240000\n",
       "50%          10.710000\n",
       "75%         104.340000\n",
       "max      134717.010000\n",
       "Name: Target_EBITDA, dtype: float64"
      ]
     },
     "execution_count": 9,
     "metadata": {},
     "output_type": "execute_result"
    }
   ],
   "source": [
    "df['Target_EBITDA'].describe()"
   ]
  },
  {
   "cell_type": "code",
   "execution_count": 10,
   "metadata": {},
   "outputs": [
    {
     "data": {
      "text/plain": [
       "13139   -455576.59\n",
       "10469    -91232.65\n",
       "9235     -27581.96\n",
       "14063    -20610.43\n",
       "12600    -13688.70\n",
       "8379     -13414.29\n",
       "2839      -9796.00\n",
       "6214      -8623.98\n",
       "13732     -8232.32\n",
       "4985      -6132.93\n",
       "8257      -5022.23\n",
       "13809     -3660.87\n",
       "11135     -3173.57\n",
       "7340      -3118.51\n",
       "7600      -2939.34\n",
       "5699      -2928.23\n",
       "5914      -2699.98\n",
       "13320     -2533.36\n",
       "4986      -2435.47\n",
       "13046     -2427.50\n",
       "12162     -2423.50\n",
       "9024      -2316.14\n",
       "2125      -2175.54\n",
       "13642     -1919.36\n",
       "3431      -1865.73\n",
       "3975      -1708.61\n",
       "14061     -1682.34\n",
       "10074     -1676.25\n",
       "13629     -1659.94\n",
       "11896     -1659.35\n",
       "6845      -1541.83\n",
       "13938     -1536.85\n",
       "5629      -1508.39\n",
       "7795      -1494.64\n",
       "6765      -1414.16\n",
       "6729      -1397.78\n",
       "4062      -1377.89\n",
       "5580      -1346.17\n",
       "3637      -1238.12\n",
       "3478      -1180.38\n",
       "3471      -1159.75\n",
       "13184     -1156.88\n",
       "6301      -1140.18\n",
       "1871      -1100.92\n",
       "8738      -1087.71\n",
       "3679      -1032.72\n",
       "8082       -971.22\n",
       "11802      -953.07\n",
       "10048      -944.41\n",
       "10114      -918.28\n",
       "Name: EV_EBITDA, dtype: float64"
      ]
     },
     "execution_count": 10,
     "metadata": {},
     "output_type": "execute_result"
    }
   ],
   "source": [
    "df['EV_EBITDA'].nsmallest(50)"
   ]
  },
  {
   "cell_type": "code",
   "execution_count": 11,
   "metadata": {},
   "outputs": [
    {
     "data": {
      "text/plain": [
       "12125   -6847.30\n",
       "13279   -6263.00\n",
       "13430   -5496.80\n",
       "13431   -5496.80\n",
       "14172   -3028.76\n",
       "13746   -2628.25\n",
       "10020   -2487.84\n",
       "13158   -2350.71\n",
       "13432   -2260.02\n",
       "14367   -2053.71\n",
       "Name: Target_EBITDA, dtype: float64"
      ]
     },
     "execution_count": 11,
     "metadata": {},
     "output_type": "execute_result"
    }
   ],
   "source": [
    "df['Target_EBITDA'].nsmallest(10)"
   ]
  },
  {
   "cell_type": "markdown",
   "metadata": {
    "tags": []
   },
   "source": [
    "### Remove outliers"
   ]
  },
  {
   "cell_type": "code",
   "execution_count": 12,
   "metadata": {},
   "outputs": [
    {
     "data": {
      "text/plain": [
       "(14045, 17)"
      ]
     },
     "execution_count": 12,
     "metadata": {},
     "output_type": "execute_result"
    }
   ],
   "source": [
    "#Keep EV_Rev < 100\n",
    "df = df[df['EV_Rev'] < 100] # was 100\n",
    "#Keep EV_EBITDA >-100 and <500\n",
    "df = df[df['EV_EBITDA'] > -1000] # was -100\n",
    "df = df[df['EV_EBITDA'] < 100] # was 500\n",
    "df.shape"
   ]
  },
  {
   "cell_type": "markdown",
   "metadata": {},
   "source": [
    "### Remove  nulls"
   ]
  },
  {
   "cell_type": "code",
   "execution_count": 13,
   "metadata": {},
   "outputs": [
    {
     "name": "stdout",
     "output_type": "stream",
     "text": [
      "Date                        0\n",
      "Target_Name                 0\n",
      "Target_Industry_Macro       0\n",
      "Target_Industry_Mid         0\n",
      "Target_Nation               0\n",
      "Buyer_Name                  0\n",
      "Buyer_Industry_Macro        0\n",
      "Buyer_Industry_Mid          0\n",
      "Buyer_Nation                0\n",
      "Target_Revenues             0\n",
      "Target_EBITDA               0\n",
      "Target_EV                   0\n",
      "Target_Industry_Detailed    0\n",
      "Target_Status               0\n",
      "Year                        0\n",
      "EV_Rev                      0\n",
      "EV_EBITDA                   0\n",
      "dtype: int64\n",
      "\n",
      "New shape: (14043, 17)\n"
     ]
    }
   ],
   "source": [
    "df = df.dropna()\n",
    "\n",
    "nan_count=df.isnull().sum()\n",
    "print(nan_count)\n",
    "print('')\n",
    "print('New shape:', df.shape)"
   ]
  },
  {
   "cell_type": "markdown",
   "metadata": {},
   "source": [
    "### One hot encoding"
   ]
  },
  {
   "cell_type": "code",
   "execution_count": 14,
   "metadata": {},
   "outputs": [],
   "source": [
    "country_to_region = {\n",
    "    'United States': 'North America',\n",
    "    'Canada': 'North America',\n",
    "    'Greenland': 'North America',\n",
    "    'France': 'Western Europe',\n",
    "    'Germany': 'Western Europe',\n",
    "    'Netherlands': 'Western Europe',\n",
    "    'Belgium': 'Western Europe',\n",
    "    'Luxembourg': 'Western Europe',\n",
    "    'Switzerland': 'Western Europe',\n",
    "    'Austria': 'Western Europe',\n",
    "    'Liechtenstein': 'Western Europe',\n",
    "    'Monaco': 'Western Europe',\n",
    "    'United Kingdom': 'UK',\n",
    "    'Jersey': 'UK',\n",
    "    'Guernsey': 'UK',\n",
    "    'Isle of Man': 'UK',\n",
    "    'Ireland': 'UK',\n",
    "    'Sweden': 'Nordics',\n",
    "    'Norway': 'Nordics',\n",
    "    'Denmark': 'Nordics',\n",
    "    'Finland': 'Nordics',\n",
    "    'Iceland': 'Nordics',\n",
    "    'Poland': 'Eastern Europe',\n",
    "    'Bosnia and Herzegovina': 'Eastern Europe',\n",
    "    'Lithuania': 'Eastern Europe',\n",
    "    'Bulgaria': 'Eastern Europe',\n",
    "    'Russia': 'Eastern Europe',\n",
    "    'Estonia': 'Eastern Europe',\n",
    "    'Latvia': 'Eastern Europe',\n",
    "    'Hungary': 'Eastern Europe',\n",
    "    'Romania': 'Eastern Europe',\n",
    "    'Ukraine': 'Eastern Europe',\n",
    "    'Moldova': 'Eastern Europe',\n",
    "    'Serbia': 'Eastern Europe',\n",
    "    'Slovenia': 'Eastern Europe',\n",
    "    'North Macedonia': 'Eastern Europe',\n",
    "    'Montenegro': 'Eastern Europe',\n",
    "    'Slovakia': 'Eastern Europe',\n",
    "    'Czech Republic': 'Eastern Europe',\n",
    "    'Portugal': 'Southern Europe',\n",
    "    'Italy': 'Southern Europe',\n",
    "    'Spain': 'Southern Europe',\n",
    "    'Greece': 'Southern Europe',\n",
    "    'Croatia': 'Southern Europe',\n",
    "    'Cyprus': 'Southern Europe',\n",
    "    'Malta': 'Southern Europe',\n",
    "    'Gibraltar': 'Southern Europe',\n",
    "    'Turkey': 'Southern Europe'\n",
    "}\n",
    "\n",
    "# Apply the updated mapping to create a new column\n",
    "df['Target_Region'] = df['Target_Nation'].map(country_to_region)\n",
    "\n",
    "# One-hot encode the columns\n",
    "df['Target_Region_A'] = df['Target_Region']\n",
    "df['Target_Macro_A'] = df['Target_Industry_Macro']\n",
    "df['Target_Status_A'] = df['Target_Status']\n",
    "df = pd.get_dummies(df, columns=['Target_Region'])\n",
    "df = pd.get_dummies(df, columns=['Target_Industry_Macro'])\n",
    "df = pd.get_dummies(df, columns=['Target_Status'])"
   ]
  },
  {
   "cell_type": "code",
   "execution_count": 15,
   "metadata": {},
   "outputs": [
    {
     "data": {
      "text/html": [
       "<div>\n",
       "<style scoped>\n",
       "    .dataframe tbody tr th:only-of-type {\n",
       "        vertical-align: middle;\n",
       "    }\n",
       "\n",
       "    .dataframe tbody tr th {\n",
       "        vertical-align: top;\n",
       "    }\n",
       "\n",
       "    .dataframe thead th {\n",
       "        text-align: right;\n",
       "    }\n",
       "</style>\n",
       "<table border=\"1\" class=\"dataframe\">\n",
       "  <thead>\n",
       "    <tr style=\"text-align: right;\">\n",
       "      <th></th>\n",
       "      <th>Date</th>\n",
       "      <th>Target_Name</th>\n",
       "      <th>Target_Industry_Mid</th>\n",
       "      <th>Target_Nation</th>\n",
       "      <th>Buyer_Name</th>\n",
       "      <th>Buyer_Industry_Macro</th>\n",
       "      <th>Buyer_Industry_Mid</th>\n",
       "      <th>Buyer_Nation</th>\n",
       "      <th>Target_Revenues</th>\n",
       "      <th>Target_EBITDA</th>\n",
       "      <th>...</th>\n",
       "      <th>Target_Industry_Macro_Financials</th>\n",
       "      <th>Target_Industry_Macro_Healthcare</th>\n",
       "      <th>Target_Industry_Macro_High Technology</th>\n",
       "      <th>Target_Industry_Macro_Industrials</th>\n",
       "      <th>Target_Industry_Macro_Materials</th>\n",
       "      <th>Target_Industry_Macro_Media and Entertainment</th>\n",
       "      <th>Target_Industry_Macro_Real Estate</th>\n",
       "      <th>Target_Industry_Macro_Retail</th>\n",
       "      <th>Target_Industry_Macro_Telecommunications</th>\n",
       "      <th>Target_Status_Public</th>\n",
       "    </tr>\n",
       "  </thead>\n",
       "  <tbody>\n",
       "    <tr>\n",
       "      <th>0</th>\n",
       "      <td>2024-08-14</td>\n",
       "      <td>Sarsys-Asft AB</td>\n",
       "      <td>Other Industrials</td>\n",
       "      <td>Sweden</td>\n",
       "      <td>Grundbulten 137100 AB</td>\n",
       "      <td>Financials</td>\n",
       "      <td>Other Financials</td>\n",
       "      <td>Sweden</td>\n",
       "      <td>3.76</td>\n",
       "      <td>-0.23</td>\n",
       "      <td>...</td>\n",
       "      <td>0</td>\n",
       "      <td>0</td>\n",
       "      <td>0</td>\n",
       "      <td>1</td>\n",
       "      <td>0</td>\n",
       "      <td>0</td>\n",
       "      <td>0</td>\n",
       "      <td>0</td>\n",
       "      <td>0</td>\n",
       "      <td>1</td>\n",
       "    </tr>\n",
       "    <tr>\n",
       "      <th>1</th>\n",
       "      <td>2024-08-08</td>\n",
       "      <td>GSE Systems Inc</td>\n",
       "      <td>Software</td>\n",
       "      <td>United States</td>\n",
       "      <td>Nuclear Engineering Holdings LLC</td>\n",
       "      <td>Financials</td>\n",
       "      <td>Other Financials</td>\n",
       "      <td>United States</td>\n",
       "      <td>41.81</td>\n",
       "      <td>-1.02</td>\n",
       "      <td>...</td>\n",
       "      <td>0</td>\n",
       "      <td>0</td>\n",
       "      <td>1</td>\n",
       "      <td>0</td>\n",
       "      <td>0</td>\n",
       "      <td>0</td>\n",
       "      <td>0</td>\n",
       "      <td>0</td>\n",
       "      <td>0</td>\n",
       "      <td>1</td>\n",
       "    </tr>\n",
       "    <tr>\n",
       "      <th>2</th>\n",
       "      <td>2024-08-06</td>\n",
       "      <td>INEO Tech Corp</td>\n",
       "      <td>Professional Services</td>\n",
       "      <td>Canada</td>\n",
       "      <td>Coenda Investment Holdings Corp</td>\n",
       "      <td>Financials</td>\n",
       "      <td>Other Financials</td>\n",
       "      <td>Canada</td>\n",
       "      <td>0.98</td>\n",
       "      <td>-1.78</td>\n",
       "      <td>...</td>\n",
       "      <td>0</td>\n",
       "      <td>0</td>\n",
       "      <td>0</td>\n",
       "      <td>0</td>\n",
       "      <td>0</td>\n",
       "      <td>0</td>\n",
       "      <td>0</td>\n",
       "      <td>0</td>\n",
       "      <td>0</td>\n",
       "      <td>1</td>\n",
       "    </tr>\n",
       "    <tr>\n",
       "      <th>3</th>\n",
       "      <td>2024-08-03</td>\n",
       "      <td>Big Cheese Studio SA</td>\n",
       "      <td>Software</td>\n",
       "      <td>Poland</td>\n",
       "      <td>Investor Group</td>\n",
       "      <td>Financials</td>\n",
       "      <td>Other Financials</td>\n",
       "      <td>Poland</td>\n",
       "      <td>2.71</td>\n",
       "      <td>1.05</td>\n",
       "      <td>...</td>\n",
       "      <td>0</td>\n",
       "      <td>0</td>\n",
       "      <td>1</td>\n",
       "      <td>0</td>\n",
       "      <td>0</td>\n",
       "      <td>0</td>\n",
       "      <td>0</td>\n",
       "      <td>0</td>\n",
       "      <td>0</td>\n",
       "      <td>1</td>\n",
       "    </tr>\n",
       "    <tr>\n",
       "      <th>4</th>\n",
       "      <td>2024-08-01</td>\n",
       "      <td>Braille Energy Systems Inc</td>\n",
       "      <td>Other Energy &amp; Power</td>\n",
       "      <td>Canada</td>\n",
       "      <td>Undisclosed Acquiror</td>\n",
       "      <td>Financials</td>\n",
       "      <td>Brokerage</td>\n",
       "      <td>Unknown</td>\n",
       "      <td>2.43</td>\n",
       "      <td>-1.35</td>\n",
       "      <td>...</td>\n",
       "      <td>0</td>\n",
       "      <td>0</td>\n",
       "      <td>0</td>\n",
       "      <td>0</td>\n",
       "      <td>0</td>\n",
       "      <td>0</td>\n",
       "      <td>0</td>\n",
       "      <td>0</td>\n",
       "      <td>0</td>\n",
       "      <td>1</td>\n",
       "    </tr>\n",
       "    <tr>\n",
       "      <th>...</th>\n",
       "      <td>...</td>\n",
       "      <td>...</td>\n",
       "      <td>...</td>\n",
       "      <td>...</td>\n",
       "      <td>...</td>\n",
       "      <td>...</td>\n",
       "      <td>...</td>\n",
       "      <td>...</td>\n",
       "      <td>...</td>\n",
       "      <td>...</td>\n",
       "      <td>...</td>\n",
       "      <td>...</td>\n",
       "      <td>...</td>\n",
       "      <td>...</td>\n",
       "      <td>...</td>\n",
       "      <td>...</td>\n",
       "      <td>...</td>\n",
       "      <td>...</td>\n",
       "      <td>...</td>\n",
       "      <td>...</td>\n",
       "      <td>...</td>\n",
       "    </tr>\n",
       "    <tr>\n",
       "      <th>14770</th>\n",
       "      <td>2014-01-14</td>\n",
       "      <td>Delphi Automotive PLC</td>\n",
       "      <td>Automobiles &amp; Components</td>\n",
       "      <td>United Kingdom</td>\n",
       "      <td>Delphi Automotive PLC</td>\n",
       "      <td>Industrials</td>\n",
       "      <td>Automobiles &amp; Components</td>\n",
       "      <td>United Kingdom</td>\n",
       "      <td>11984.02</td>\n",
       "      <td>1724.48</td>\n",
       "      <td>...</td>\n",
       "      <td>0</td>\n",
       "      <td>0</td>\n",
       "      <td>0</td>\n",
       "      <td>1</td>\n",
       "      <td>0</td>\n",
       "      <td>0</td>\n",
       "      <td>0</td>\n",
       "      <td>0</td>\n",
       "      <td>0</td>\n",
       "      <td>1</td>\n",
       "    </tr>\n",
       "    <tr>\n",
       "      <th>14771</th>\n",
       "      <td>2014-01-13</td>\n",
       "      <td>Time Warner Cable Inc</td>\n",
       "      <td>Cable</td>\n",
       "      <td>United States</td>\n",
       "      <td>Charter Communications Inc</td>\n",
       "      <td>Telecommunications</td>\n",
       "      <td>Telecommunications Services</td>\n",
       "      <td>United States</td>\n",
       "      <td>16093.18</td>\n",
       "      <td>5805.77</td>\n",
       "      <td>...</td>\n",
       "      <td>0</td>\n",
       "      <td>0</td>\n",
       "      <td>0</td>\n",
       "      <td>0</td>\n",
       "      <td>0</td>\n",
       "      <td>1</td>\n",
       "      <td>0</td>\n",
       "      <td>0</td>\n",
       "      <td>0</td>\n",
       "      <td>1</td>\n",
       "    </tr>\n",
       "    <tr>\n",
       "      <th>14772</th>\n",
       "      <td>2014-01-13</td>\n",
       "      <td>Beam Inc</td>\n",
       "      <td>Food and Beverage</td>\n",
       "      <td>United States</td>\n",
       "      <td>Suntory Holdings Ltd</td>\n",
       "      <td>Consumer Staples</td>\n",
       "      <td>Food and Beverage</td>\n",
       "      <td>Japan</td>\n",
       "      <td>1849.33</td>\n",
       "      <td>575.99</td>\n",
       "      <td>...</td>\n",
       "      <td>0</td>\n",
       "      <td>0</td>\n",
       "      <td>0</td>\n",
       "      <td>0</td>\n",
       "      <td>0</td>\n",
       "      <td>0</td>\n",
       "      <td>0</td>\n",
       "      <td>0</td>\n",
       "      <td>0</td>\n",
       "      <td>1</td>\n",
       "    </tr>\n",
       "    <tr>\n",
       "      <th>14773</th>\n",
       "      <td>2014-01-03</td>\n",
       "      <td>Sirius XM Holdings Inc</td>\n",
       "      <td>Broadcasting</td>\n",
       "      <td>United States</td>\n",
       "      <td>Liberty Media Corp</td>\n",
       "      <td>Media and Entertainment</td>\n",
       "      <td>Broadcasting</td>\n",
       "      <td>United States</td>\n",
       "      <td>2763.99</td>\n",
       "      <td>946.36</td>\n",
       "      <td>...</td>\n",
       "      <td>0</td>\n",
       "      <td>0</td>\n",
       "      <td>0</td>\n",
       "      <td>0</td>\n",
       "      <td>0</td>\n",
       "      <td>1</td>\n",
       "      <td>0</td>\n",
       "      <td>0</td>\n",
       "      <td>0</td>\n",
       "      <td>1</td>\n",
       "    </tr>\n",
       "    <tr>\n",
       "      <th>14774</th>\n",
       "      <td>2014-01-01</td>\n",
       "      <td>Exxon Mobil Corp</td>\n",
       "      <td>Petrochemicals</td>\n",
       "      <td>United States</td>\n",
       "      <td>Exxon Mobil Corp</td>\n",
       "      <td>Energy and Power</td>\n",
       "      <td>Petrochemicals</td>\n",
       "      <td>United States</td>\n",
       "      <td>283920.30</td>\n",
       "      <td>44361.75</td>\n",
       "      <td>...</td>\n",
       "      <td>0</td>\n",
       "      <td>0</td>\n",
       "      <td>0</td>\n",
       "      <td>0</td>\n",
       "      <td>0</td>\n",
       "      <td>0</td>\n",
       "      <td>0</td>\n",
       "      <td>0</td>\n",
       "      <td>0</td>\n",
       "      <td>1</td>\n",
       "    </tr>\n",
       "  </tbody>\n",
       "</table>\n",
       "<p>14043 rows × 37 columns</p>\n",
       "</div>"
      ],
      "text/plain": [
       "            Date                 Target_Name       Target_Industry_Mid  \\\n",
       "0     2024-08-14              Sarsys-Asft AB         Other Industrials   \n",
       "1     2024-08-08             GSE Systems Inc                  Software   \n",
       "2     2024-08-06              INEO Tech Corp     Professional Services   \n",
       "3     2024-08-03        Big Cheese Studio SA                  Software   \n",
       "4     2024-08-01  Braille Energy Systems Inc      Other Energy & Power   \n",
       "...          ...                         ...                       ...   \n",
       "14770 2014-01-14       Delphi Automotive PLC  Automobiles & Components   \n",
       "14771 2014-01-13       Time Warner Cable Inc                     Cable   \n",
       "14772 2014-01-13                    Beam Inc         Food and Beverage   \n",
       "14773 2014-01-03      Sirius XM Holdings Inc              Broadcasting   \n",
       "14774 2014-01-01            Exxon Mobil Corp            Petrochemicals   \n",
       "\n",
       "        Target_Nation                        Buyer_Name  \\\n",
       "0              Sweden             Grundbulten 137100 AB   \n",
       "1       United States  Nuclear Engineering Holdings LLC   \n",
       "2              Canada   Coenda Investment Holdings Corp   \n",
       "3              Poland                    Investor Group   \n",
       "4              Canada              Undisclosed Acquiror   \n",
       "...               ...                               ...   \n",
       "14770  United Kingdom             Delphi Automotive PLC   \n",
       "14771   United States        Charter Communications Inc   \n",
       "14772   United States              Suntory Holdings Ltd   \n",
       "14773   United States                Liberty Media Corp   \n",
       "14774   United States                  Exxon Mobil Corp   \n",
       "\n",
       "          Buyer_Industry_Macro           Buyer_Industry_Mid    Buyer_Nation  \\\n",
       "0                   Financials             Other Financials          Sweden   \n",
       "1                   Financials             Other Financials   United States   \n",
       "2                   Financials             Other Financials          Canada   \n",
       "3                   Financials             Other Financials          Poland   \n",
       "4                   Financials                    Brokerage         Unknown   \n",
       "...                        ...                          ...             ...   \n",
       "14770              Industrials     Automobiles & Components  United Kingdom   \n",
       "14771       Telecommunications  Telecommunications Services   United States   \n",
       "14772         Consumer Staples            Food and Beverage           Japan   \n",
       "14773  Media and Entertainment                 Broadcasting   United States   \n",
       "14774         Energy and Power               Petrochemicals   United States   \n",
       "\n",
       "       Target_Revenues  Target_EBITDA  ...  Target_Industry_Macro_Financials  \\\n",
       "0                 3.76          -0.23  ...                                 0   \n",
       "1                41.81          -1.02  ...                                 0   \n",
       "2                 0.98          -1.78  ...                                 0   \n",
       "3                 2.71           1.05  ...                                 0   \n",
       "4                 2.43          -1.35  ...                                 0   \n",
       "...                ...            ...  ...                               ...   \n",
       "14770         11984.02        1724.48  ...                                 0   \n",
       "14771         16093.18        5805.77  ...                                 0   \n",
       "14772          1849.33         575.99  ...                                 0   \n",
       "14773          2763.99         946.36  ...                                 0   \n",
       "14774        283920.30       44361.75  ...                                 0   \n",
       "\n",
       "      Target_Industry_Macro_Healthcare  Target_Industry_Macro_High Technology  \\\n",
       "0                                    0                                      0   \n",
       "1                                    0                                      1   \n",
       "2                                    0                                      0   \n",
       "3                                    0                                      1   \n",
       "4                                    0                                      0   \n",
       "...                                ...                                    ...   \n",
       "14770                                0                                      0   \n",
       "14771                                0                                      0   \n",
       "14772                                0                                      0   \n",
       "14773                                0                                      0   \n",
       "14774                                0                                      0   \n",
       "\n",
       "       Target_Industry_Macro_Industrials  Target_Industry_Macro_Materials  \\\n",
       "0                                      1                                0   \n",
       "1                                      0                                0   \n",
       "2                                      0                                0   \n",
       "3                                      0                                0   \n",
       "4                                      0                                0   \n",
       "...                                  ...                              ...   \n",
       "14770                                  1                                0   \n",
       "14771                                  0                                0   \n",
       "14772                                  0                                0   \n",
       "14773                                  0                                0   \n",
       "14774                                  0                                0   \n",
       "\n",
       "      Target_Industry_Macro_Media and Entertainment  \\\n",
       "0                                                 0   \n",
       "1                                                 0   \n",
       "2                                                 0   \n",
       "3                                                 0   \n",
       "4                                                 0   \n",
       "...                                             ...   \n",
       "14770                                             0   \n",
       "14771                                             1   \n",
       "14772                                             0   \n",
       "14773                                             1   \n",
       "14774                                             0   \n",
       "\n",
       "      Target_Industry_Macro_Real Estate Target_Industry_Macro_Retail  \\\n",
       "0                                     0                            0   \n",
       "1                                     0                            0   \n",
       "2                                     0                            0   \n",
       "3                                     0                            0   \n",
       "4                                     0                            0   \n",
       "...                                 ...                          ...   \n",
       "14770                                 0                            0   \n",
       "14771                                 0                            0   \n",
       "14772                                 0                            0   \n",
       "14773                                 0                            0   \n",
       "14774                                 0                            0   \n",
       "\n",
       "       Target_Industry_Macro_Telecommunications  Target_Status_Public  \n",
       "0                                             0                     1  \n",
       "1                                             0                     1  \n",
       "2                                             0                     1  \n",
       "3                                             0                     1  \n",
       "4                                             0                     1  \n",
       "...                                         ...                   ...  \n",
       "14770                                         0                     1  \n",
       "14771                                         0                     1  \n",
       "14772                                         0                     1  \n",
       "14773                                         0                     1  \n",
       "14774                                         0                     1  \n",
       "\n",
       "[14043 rows x 37 columns]"
      ]
     },
     "execution_count": 15,
     "metadata": {},
     "output_type": "execute_result"
    }
   ],
   "source": [
    "df = df.drop(columns=['Target_Status_Private'])\n",
    "# Display the updated dataframe\n",
    "df"
   ]
  },
  {
   "cell_type": "markdown",
   "metadata": {},
   "source": [
    "### Log transformations"
   ]
  },
  {
   "cell_type": "code",
   "execution_count": 16,
   "metadata": {},
   "outputs": [],
   "source": [
    "df['log_Target_EV'] = df['Target_EV'].apply(lambda x: np.log(x))\n",
    "df['log_Target_Revenues'] = df['Target_Revenues'].apply(lambda x: np.log(x))\n",
    "\n",
    "#To allow for negative EBITDA, add constant of min(EBITDA) + 1\n",
    "df['log_Target_EBITDA'] = df['Target_EBITDA'].apply(lambda x: np.log(x+6848))"
   ]
  },
  {
   "cell_type": "code",
   "execution_count": 17,
   "metadata": {},
   "outputs": [
    {
     "data": {
      "text/plain": [
       "12125   -6847.3\n",
       "Name: Target_EBITDA, dtype: float64"
      ]
     },
     "execution_count": 17,
     "metadata": {},
     "output_type": "execute_result"
    }
   ],
   "source": [
    "df['Target_EBITDA'].nsmallest(1)"
   ]
  },
  {
   "cell_type": "markdown",
   "metadata": {},
   "source": [
    "### Check for nulls"
   ]
  },
  {
   "cell_type": "code",
   "execution_count": 18,
   "metadata": {},
   "outputs": [
    {
     "data": {
      "text/plain": [
       "Date                                                    0\n",
       "Target_Name                                             0\n",
       "Target_Industry_Mid                                     0\n",
       "Target_Nation                                           0\n",
       "Buyer_Name                                              0\n",
       "Buyer_Industry_Macro                                    0\n",
       "Buyer_Industry_Mid                                      0\n",
       "Buyer_Nation                                            0\n",
       "Target_Revenues                                         0\n",
       "Target_EBITDA                                           0\n",
       "Target_EV                                               0\n",
       "Target_Industry_Detailed                                0\n",
       "Year                                                    0\n",
       "EV_Rev                                                  0\n",
       "EV_EBITDA                                               0\n",
       "Target_Region_A                                         0\n",
       "Target_Macro_A                                          0\n",
       "Target_Status_A                                         0\n",
       "Target_Region_Eastern Europe                            0\n",
       "Target_Region_Nordics                                   0\n",
       "Target_Region_North America                             0\n",
       "Target_Region_Southern Europe                           0\n",
       "Target_Region_UK                                        0\n",
       "Target_Region_Western Europe                            0\n",
       "Target_Industry_Macro_Consumer Products and Services    0\n",
       "Target_Industry_Macro_Consumer Staples                  0\n",
       "Target_Industry_Macro_Energy and Power                  0\n",
       "Target_Industry_Macro_Financials                        0\n",
       "Target_Industry_Macro_Healthcare                        0\n",
       "Target_Industry_Macro_High Technology                   0\n",
       "Target_Industry_Macro_Industrials                       0\n",
       "Target_Industry_Macro_Materials                         0\n",
       "Target_Industry_Macro_Media and Entertainment           0\n",
       "Target_Industry_Macro_Real Estate                       0\n",
       "Target_Industry_Macro_Retail                            0\n",
       "Target_Industry_Macro_Telecommunications                0\n",
       "Target_Status_Public                                    0\n",
       "log_Target_EV                                           0\n",
       "log_Target_Revenues                                     0\n",
       "log_Target_EBITDA                                       0\n",
       "dtype: int64"
      ]
     },
     "execution_count": 18,
     "metadata": {},
     "output_type": "execute_result"
    }
   ],
   "source": [
    "nan_count=df.isnull().sum()\n",
    "nan_count"
   ]
  },
  {
   "cell_type": "code",
   "execution_count": 19,
   "metadata": {},
   "outputs": [
    {
     "data": {
      "text/plain": [
       "(14043, 40)"
      ]
     },
     "execution_count": 19,
     "metadata": {},
     "output_type": "execute_result"
    }
   ],
   "source": [
    "# Full df shape\n",
    "df.shape"
   ]
  },
  {
   "cell_type": "markdown",
   "metadata": {},
   "source": [
    "### Graphs"
   ]
  },
  {
   "cell_type": "code",
   "execution_count": 20,
   "metadata": {},
   "outputs": [
    {
     "data": {
      "image/png": "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",
      "text/plain": [
       "<Figure size 1000x600 with 1 Axes>"
      ]
     },
     "metadata": {},
     "output_type": "display_data"
    }
   ],
   "source": [
    "import seaborn as sns\n",
    "import matplotlib.pyplot as plt\n",
    "\n",
    "plt.figure(figsize=(10, 6))\n",
    "\n",
    "sns.scatterplot(x=df['Target_Revenues'], y=df['Target_EV'], alpha=0.3, color='blue', s=50)\n",
    "\n",
    "plt.xlabel('Revenue')\n",
    "plt.ylabel('Enterprise Value (EV)')\n",
    "plt.title('Scatter Plot of Enterprise Value vs Revenue')\n",
    "\n",
    "plt.xlim(0, 5000)  # Example x-axis limits\n",
    "plt.ylim(0, 5000)  # Example y-axis limits\n",
    "\n",
    "plt.show()"
   ]
  },
  {
   "cell_type": "code",
   "execution_count": 21,
   "metadata": {},
   "outputs": [
    {
     "data": {
      "image/png": "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",
      "text/plain": [
       "<Figure size 1000x600 with 1 Axes>"
      ]
     },
     "metadata": {},
     "output_type": "display_data"
    }
   ],
   "source": [
    "plt.figure(figsize=(10, 6))\n",
    "\n",
    "sns.scatterplot(x=df['Target_EBITDA'], y=df['Target_EV'], alpha=0.3, color='blue', s=50)\n",
    "\n",
    "plt.xlabel('EBITDA')\n",
    "plt.ylabel('Enterprise Value (EV)')\n",
    "plt.title('Scatter Plot of Enterprise Value vs EBITDA')\n",
    "\n",
    "plt.xlim(-1000, 2000)  # Example x-axis limits\n",
    "plt.ylim(0, 10000)  # Example y-axis limits\n",
    "\n",
    "plt.show()"
   ]
  },
  {
   "cell_type": "markdown",
   "metadata": {},
   "source": [
    "### Planning the Features\n",
    "\n",
    "- Target_Revenues (float64)\n",
    "- Target_EBITDA (float64)\n",
    "- Target_Industry (13 encoded)\n",
    "- Target_Region (6 encoded)\n",
    "- Target_Status (Prviate = 0, Public = 1)\n",
    "- Date: *leave out for now*"
   ]
  },
  {
   "cell_type": "markdown",
   "metadata": {},
   "source": [
    "### Cross-correlation matrix"
   ]
  },
  {
   "cell_type": "code",
   "execution_count": 22,
   "metadata": {},
   "outputs": [
    {
     "data": {
      "image/png": "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",
      "text/plain": [
       "<Figure size 640x480 with 2 Axes>"
      ]
     },
     "metadata": {},
     "output_type": "display_data"
    }
   ],
   "source": [
    "plt.figure\n",
    "sns.heatmap(round(df[['Target_Revenues', 'Target_EBITDA', 'Target_EV']].corr(),2),\n",
    "            cmap='coolwarm',\n",
    "            annot = True,\n",
    "            annot_kws = {'size':12}\n",
    "           );"
   ]
  },
  {
   "cell_type": "markdown",
   "metadata": {},
   "source": [
    "### Dumb Model\n",
    "- y-pred = average of y values\n",
    "- RMSE as evaluation metric "
   ]
  },
  {
   "cell_type": "code",
   "execution_count": null,
   "metadata": {},
   "outputs": [],
   "source": []
  },
  {
   "cell_type": "markdown",
   "metadata": {},
   "source": [
    "### First Regression"
   ]
  },
  {
   "cell_type": "markdown",
   "metadata": {},
   "source": [
    "**We need 'statsmodels' as a requirement!**"
   ]
  },
  {
   "cell_type": "code",
<<<<<<< HEAD
   "execution_count": 25,
   "metadata": {},
   "outputs": [
    {
     "name": "stdout",
     "output_type": "stream",
     "text": [
      "Requirement already satisfied: statsmodels in /Users/Tomas/.pyenv/versions/3.10.6/envs/ValToolenv/lib/python3.10/site-packages (0.14.2)\n",
      "Requirement already satisfied: scipy!=1.9.2,>=1.8 in /Users/Tomas/.pyenv/versions/3.10.6/envs/ValToolenv/lib/python3.10/site-packages (from statsmodels) (1.8.1)\n",
      "Requirement already satisfied: pandas!=2.1.0,>=1.4 in /Users/Tomas/.pyenv/versions/3.10.6/envs/ValToolenv/lib/python3.10/site-packages (from statsmodels) (1.4.4)\n",
      "Requirement already satisfied: packaging>=21.3 in /Users/Tomas/.pyenv/versions/3.10.6/envs/ValToolenv/lib/python3.10/site-packages (from statsmodels) (24.1)\n",
      "Requirement already satisfied: patsy>=0.5.6 in /Users/Tomas/.pyenv/versions/3.10.6/envs/ValToolenv/lib/python3.10/site-packages (from statsmodels) (0.5.6)\n",
      "Requirement already satisfied: numpy>=1.22.3 in /Users/Tomas/.pyenv/versions/3.10.6/envs/ValToolenv/lib/python3.10/site-packages (from statsmodels) (1.23.4)\n",
      "Requirement already satisfied: python-dateutil>=2.8.1 in /Users/Tomas/.pyenv/versions/3.10.6/envs/ValToolenv/lib/python3.10/site-packages (from pandas!=2.1.0,>=1.4->statsmodels) (2.9.0.post0)\n",
      "Requirement already satisfied: pytz>=2020.1 in /Users/Tomas/.pyenv/versions/3.10.6/envs/ValToolenv/lib/python3.10/site-packages (from pandas!=2.1.0,>=1.4->statsmodels) (2024.1)\n",
      "Requirement already satisfied: six in /Users/Tomas/.pyenv/versions/3.10.6/envs/ValToolenv/lib/python3.10/site-packages (from patsy>=0.5.6->statsmodels) (1.16.0)\n",
      "\n",
      "\u001b[1m[\u001b[0m\u001b[34;49mnotice\u001b[0m\u001b[1;39;49m]\u001b[0m\u001b[39;49m A new release of pip available: \u001b[0m\u001b[31;49m22.2.1\u001b[0m\u001b[39;49m -> \u001b[0m\u001b[32;49m24.2\u001b[0m\n",
      "\u001b[1m[\u001b[0m\u001b[34;49mnotice\u001b[0m\u001b[1;39;49m]\u001b[0m\u001b[39;49m To update, run: \u001b[0m\u001b[32;49mpip install --upgrade pip\u001b[0m\n",
      "Note: you may need to restart the kernel to use updated packages.\n"
     ]
    }
   ],
   "source": [
    "pip install statsmodels"
   ]
  },
  {
   "cell_type": "code",
   "execution_count": 26,
   "metadata": {},
   "outputs": [],
   "source": [
    "import statsmodels.formula.api as smf"
   ]
  },
  {
   "cell_type": "code",
   "execution_count": 27,
=======
   "execution_count": 23,
>>>>>>> 53aea0c1d51bc0c4a4cd82dac7a618d60c096d25
   "metadata": {},
   "outputs": [],
   "source": [
    "X1 = df['Target_Revenues']\n",
    "X2 = df['Target_EBITDA']\n",
    "y = df['Target_EV']"
   ]
  },
  {
   "cell_type": "code",
   "execution_count": 24,
   "metadata": {},
   "outputs": [],
   "source": [
    "model = smf.ols(formula = 'Target_EV ~ Target_Revenues + Target_EBITDA', data=df)\n",
    "model = model.fit()"
   ]
  },
  {
   "cell_type": "code",
   "execution_count": 25,
   "metadata": {},
   "outputs": [
    {
     "data": {
      "text/plain": [
       "Intercept         -182.613511\n",
       "Target_Revenues      0.558471\n",
       "Target_EBITDA        8.779377\n",
       "dtype: float64"
      ]
     },
     "execution_count": 25,
     "metadata": {},
     "output_type": "execute_result"
    }
   ],
   "source": [
    "model.params"
   ]
  },
  {
   "cell_type": "code",
   "execution_count": 26,
   "metadata": {},
   "outputs": [
    {
     "data": {
      "text/html": [
       "<table class=\"simpletable\">\n",
       "<caption>OLS Regression Results</caption>\n",
       "<tr>\n",
       "  <th>Dep. Variable:</th>        <td>Target_EV</td>    <th>  R-squared:         </th>  <td>   0.645</td>  \n",
       "</tr>\n",
       "<tr>\n",
       "  <th>Model:</th>                   <td>OLS</td>       <th>  Adj. R-squared:    </th>  <td>   0.645</td>  \n",
       "</tr>\n",
       "<tr>\n",
       "  <th>Method:</th>             <td>Least Squares</td>  <th>  F-statistic:       </th>  <td>1.277e+04</td> \n",
       "</tr>\n",
       "<tr>\n",
       "  <th>Date:</th>             <td>Wed, 04 Sep 2024</td> <th>  Prob (F-statistic):</th>   <td>  0.00</td>   \n",
       "</tr>\n",
       "<tr>\n",
<<<<<<< HEAD
       "  <th>Time:</th>                 <td>11:05:02</td>     <th>  Log-Likelihood:    </th> <td>-1.2498e+05</td>\n",
=======
       "  <th>Time:</th>                 <td>16:59:07</td>     <th>  Log-Likelihood:    </th> <td>-1.6176e+05</td>\n",
>>>>>>> 53aea0c1d51bc0c4a4cd82dac7a618d60c096d25
       "</tr>\n",
       "<tr>\n",
       "  <th>No. Observations:</th>      <td> 14043</td>      <th>  AIC:               </th>  <td>3.235e+05</td> \n",
       "</tr>\n",
       "<tr>\n",
       "  <th>Df Residuals:</th>          <td> 14040</td>      <th>  BIC:               </th>  <td>3.235e+05</td> \n",
       "</tr>\n",
       "<tr>\n",
       "  <th>Df Model:</th>              <td>     2</td>      <th>                     </th>      <td> </td>     \n",
       "</tr>\n",
       "<tr>\n",
       "  <th>Covariance Type:</th>      <td>nonrobust</td>    <th>                     </th>      <td> </td>     \n",
       "</tr>\n",
       "</table>\n",
       "<table class=\"simpletable\">\n",
       "<tr>\n",
       "         <td></td>            <th>coef</th>     <th>std err</th>      <th>t</th>      <th>P>|t|</th>  <th>[0.025</th>    <th>0.975]</th>  \n",
       "</tr>\n",
       "<tr>\n",
       "  <th>Intercept</th>       <td> -182.6135</td> <td>  208.609</td> <td>   -0.875</td> <td> 0.381</td> <td> -591.515</td> <td>  226.288</td>\n",
       "</tr>\n",
       "<tr>\n",
       "  <th>Target_Revenues</th> <td>    0.5585</td> <td>    0.025</td> <td>   22.222</td> <td> 0.000</td> <td>    0.509</td> <td>    0.608</td>\n",
       "</tr>\n",
       "<tr>\n",
       "  <th>Target_EBITDA</th>   <td>    8.7794</td> <td>    0.099</td> <td>   88.985</td> <td> 0.000</td> <td>    8.586</td> <td>    8.973</td>\n",
       "</tr>\n",
       "</table>\n",
       "<table class=\"simpletable\">\n",
       "<tr>\n",
       "  <th>Omnibus:</th>       <td>28238.346</td> <th>  Durbin-Watson:     </th>    <td>   1.898</td>   \n",
       "</tr>\n",
       "<tr>\n",
       "  <th>Prob(Omnibus):</th>  <td> 0.000</td>   <th>  Jarque-Bera (JB):  </th> <td>1603329816.077</td>\n",
       "</tr>\n",
       "<tr>\n",
       "  <th>Skew:</th>           <td>15.233</td>   <th>  Prob(JB):          </th>    <td>    0.00</td>   \n",
       "</tr>\n",
       "<tr>\n",
       "  <th>Kurtosis:</th>      <td>1658.059</td>  <th>  Cond. No.          </th>    <td>1.29e+04</td>   \n",
       "</tr>\n",
       "</table><br/><br/>Notes:<br/>[1] Standard Errors assume that the covariance matrix of the errors is correctly specified.<br/>[2] The condition number is large, 1.29e+04. This might indicate that there are<br/>strong multicollinearity or other numerical problems."
      ],
      "text/latex": [
       "\\begin{center}\n",
       "\\begin{tabular}{lclc}\n",
       "\\toprule\n",
<<<<<<< HEAD
       "\\textbf{Dep. Variable:}    &    Target\\_EV    & \\textbf{  R-squared:         } &       0.651    \\\\\n",
       "\\textbf{Model:}            &       OLS        & \\textbf{  Adj. R-squared:    } &       0.651    \\\\\n",
       "\\textbf{Method:}           &  Least Squares   & \\textbf{  F-statistic:       } &   1.001e+04    \\\\\n",
       "\\textbf{Date:}             & Wed, 04 Sep 2024 & \\textbf{  Prob (F-statistic):} &       0.00     \\\\\n",
       "\\textbf{Time:}             &     11:05:02     & \\textbf{  Log-Likelihood:    } &  -1.2498e+05   \\\\\n",
       "\\textbf{No. Observations:} &       10740      & \\textbf{  AIC:               } &   2.500e+05    \\\\\n",
       "\\textbf{Df Residuals:}     &       10737      & \\textbf{  BIC:               } &   2.500e+05    \\\\\n",
       "\\textbf{Df Model:}         &           2      & \\textbf{                     } &                \\\\\n",
       "\\textbf{Covariance Type:}  &    nonrobust     & \\textbf{                     } &                \\\\\n",
=======
       "\\textbf{Dep. Variable:}    &    Target\\_EV    & \\textbf{  R-squared:         } &       0.645     \\\\\n",
       "\\textbf{Model:}            &       OLS        & \\textbf{  Adj. R-squared:    } &       0.645     \\\\\n",
       "\\textbf{Method:}           &  Least Squares   & \\textbf{  F-statistic:       } &   1.277e+04     \\\\\n",
       "\\textbf{Date:}             & Tue, 03 Sep 2024 & \\textbf{  Prob (F-statistic):} &       0.00      \\\\\n",
       "\\textbf{Time:}             &     16:59:07     & \\textbf{  Log-Likelihood:    } &  -1.6176e+05    \\\\\n",
       "\\textbf{No. Observations:} &       14043      & \\textbf{  AIC:               } &   3.235e+05     \\\\\n",
       "\\textbf{Df Residuals:}     &       14040      & \\textbf{  BIC:               } &   3.235e+05     \\\\\n",
       "\\textbf{Df Model:}         &           2      & \\textbf{                     } &                 \\\\\n",
       "\\textbf{Covariance Type:}  &    nonrobust     & \\textbf{                     } &                 \\\\\n",
>>>>>>> 53aea0c1d51bc0c4a4cd82dac7a618d60c096d25
       "\\bottomrule\n",
       "\\end{tabular}\n",
       "\\begin{tabular}{lcccccc}\n",
       "                          & \\textbf{coef} & \\textbf{std err} & \\textbf{t} & \\textbf{P$> |$t$|$} & \\textbf{[0.025} & \\textbf{0.975]}  \\\\\n",
       "\\midrule\n",
       "\\textbf{Intercept}        &    -182.6135  &      208.609     &    -0.875  &         0.381        &     -591.515    &      226.288     \\\\\n",
       "\\textbf{Target\\_Revenues} &       0.5585  &        0.025     &    22.222  &         0.000        &        0.509    &        0.608     \\\\\n",
       "\\textbf{Target\\_EBITDA}   &       8.7794  &        0.099     &    88.985  &         0.000        &        8.586    &        8.973     \\\\\n",
       "\\bottomrule\n",
       "\\end{tabular}\n",
       "\\begin{tabular}{lclc}\n",
       "\\textbf{Omnibus:}       & 28238.346 & \\textbf{  Durbin-Watson:     } &       1.898     \\\\\n",
       "\\textbf{Prob(Omnibus):} &    0.000  & \\textbf{  Jarque-Bera (JB):  } & 1603329816.077  \\\\\n",
       "\\textbf{Skew:}          &   15.233  & \\textbf{  Prob(JB):          } &        0.00     \\\\\n",
       "\\textbf{Kurtosis:}      &  1658.059 & \\textbf{  Cond. No.          } &    1.29e+04     \\\\\n",
       "\\bottomrule\n",
       "\\end{tabular}\n",
       "%\\caption{OLS Regression Results}\n",
       "\\end{center}\n",
       "\n",
       "Notes: \\newline\n",
       " [1] Standard Errors assume that the covariance matrix of the errors is correctly specified. \\newline\n",
       " [2] The condition number is large, 1.29e+04. This might indicate that there are \\newline\n",
       " strong multicollinearity or other numerical problems."
      ],
      "text/plain": [
       "<class 'statsmodels.iolib.summary.Summary'>\n",
       "\"\"\"\n",
       "                            OLS Regression Results                            \n",
       "==============================================================================\n",
<<<<<<< HEAD
       "Dep. Variable:              Target_EV   R-squared:                       0.651\n",
       "Model:                            OLS   Adj. R-squared:                  0.651\n",
       "Method:                 Least Squares   F-statistic:                 1.001e+04\n",
       "Date:                Wed, 04 Sep 2024   Prob (F-statistic):               0.00\n",
       "Time:                        11:05:02   Log-Likelihood:            -1.2498e+05\n",
       "No. Observations:               10740   AIC:                         2.500e+05\n",
       "Df Residuals:                   10737   BIC:                         2.500e+05\n",
=======
       "Dep. Variable:              Target_EV   R-squared:                       0.645\n",
       "Model:                            OLS   Adj. R-squared:                  0.645\n",
       "Method:                 Least Squares   F-statistic:                 1.277e+04\n",
       "Date:                Tue, 03 Sep 2024   Prob (F-statistic):               0.00\n",
       "Time:                        16:59:07   Log-Likelihood:            -1.6176e+05\n",
       "No. Observations:               14043   AIC:                         3.235e+05\n",
       "Df Residuals:                   14040   BIC:                         3.235e+05\n",
>>>>>>> 53aea0c1d51bc0c4a4cd82dac7a618d60c096d25
       "Df Model:                           2                                         \n",
       "Covariance Type:            nonrobust                                         \n",
       "===================================================================================\n",
       "                      coef    std err          t      P>|t|      [0.025      0.975]\n",
       "-----------------------------------------------------------------------------------\n",
       "Intercept        -182.6135    208.609     -0.875      0.381    -591.515     226.288\n",
       "Target_Revenues     0.5585      0.025     22.222      0.000       0.509       0.608\n",
       "Target_EBITDA       8.7794      0.099     88.985      0.000       8.586       8.973\n",
       "==============================================================================\n",
       "Omnibus:                    28238.346   Durbin-Watson:                   1.898\n",
       "Prob(Omnibus):                  0.000   Jarque-Bera (JB):       1603329816.077\n",
       "Skew:                          15.233   Prob(JB):                         0.00\n",
       "Kurtosis:                    1658.059   Cond. No.                     1.29e+04\n",
       "==============================================================================\n",
       "\n",
       "Notes:\n",
       "[1] Standard Errors assume that the covariance matrix of the errors is correctly specified.\n",
       "[2] The condition number is large, 1.29e+04. This might indicate that there are\n",
       "strong multicollinearity or other numerical problems.\n",
       "\"\"\""
      ]
     },
     "execution_count": 26,
     "metadata": {},
     "output_type": "execute_result"
    }
   ],
   "source": [
    "model.summary()"
   ]
  },
  {
   "cell_type": "code",
   "execution_count": 27,
   "metadata": {},
   "outputs": [],
   "source": [
    "from statsmodels.tools.eval_measures import rmse"
   ]
  },
  {
   "cell_type": "code",
   "execution_count": 28,
   "metadata": {},
   "outputs": [
    {
     "data": {
      "text/plain": [
       "10295.036070937047"
      ]
     },
     "execution_count": 28,
     "metadata": {},
     "output_type": "execute_result"
    }
   ],
   "source": [
    "rmse(X1,X2, axis=0)"
   ]
  },
  {
   "cell_type": "markdown",
   "metadata": {},
   "source": [
    "rmse(X1, X2, axis=0)"
   ]
  },
  {
   "cell_type": "markdown",
   "metadata": {},
   "source": [
    "#### Adding more features to the regression"
   ]
  },
  {
   "cell_type": "code",
   "execution_count": 29,
   "metadata": {},
   "outputs": [
    {
     "data": {
      "text/html": [
       "<table class=\"simpletable\">\n",
       "<caption>OLS Regression Results</caption>\n",
       "<tr>\n",
       "  <th>Dep. Variable:</th>        <td>Target_EV</td>    <th>  R-squared:         </th>  <td>   0.645</td>  \n",
       "</tr>\n",
       "<tr>\n",
       "  <th>Model:</th>                   <td>OLS</td>       <th>  Adj. R-squared:    </th>  <td>   0.645</td>  \n",
       "</tr>\n",
       "<tr>\n",
       "  <th>Method:</th>             <td>Least Squares</td>  <th>  F-statistic:       </th>  <td>   8516.</td>  \n",
       "</tr>\n",
       "<tr>\n",
       "  <th>Date:</th>             <td>Wed, 04 Sep 2024</td> <th>  Prob (F-statistic):</th>   <td>  0.00</td>   \n",
       "</tr>\n",
       "<tr>\n",
<<<<<<< HEAD
       "  <th>Time:</th>                 <td>11:05:03</td>     <th>  Log-Likelihood:    </th> <td>-1.2498e+05</td>\n",
=======
       "  <th>Time:</th>                 <td>16:59:07</td>     <th>  Log-Likelihood:    </th> <td>-1.6176e+05</td>\n",
>>>>>>> 53aea0c1d51bc0c4a4cd82dac7a618d60c096d25
       "</tr>\n",
       "<tr>\n",
       "  <th>No. Observations:</th>      <td> 14043</td>      <th>  AIC:               </th>  <td>3.235e+05</td> \n",
       "</tr>\n",
       "<tr>\n",
       "  <th>Df Residuals:</th>          <td> 14039</td>      <th>  BIC:               </th>  <td>3.236e+05</td> \n",
       "</tr>\n",
       "<tr>\n",
       "  <th>Df Model:</th>              <td>     3</td>      <th>                     </th>      <td> </td>     \n",
       "</tr>\n",
       "<tr>\n",
       "  <th>Covariance Type:</th>      <td>nonrobust</td>    <th>                     </th>      <td> </td>     \n",
       "</tr>\n",
       "</table>\n",
       "<table class=\"simpletable\">\n",
       "<tr>\n",
       "                <td></td>                  <th>coef</th>     <th>std err</th>      <th>t</th>      <th>P>|t|</th>  <th>[0.025</th>    <th>0.975]</th>  \n",
       "</tr>\n",
       "<tr>\n",
       "  <th>Intercept</th>                    <td>  164.8478</td> <td>  565.562</td> <td>    0.291</td> <td> 0.771</td> <td> -943.728</td> <td> 1273.424</td>\n",
       "</tr>\n",
       "<tr>\n",
       "  <th>C(Target_Status_A)[T.Public]</th> <td> -402.0706</td> <td>  608.300</td> <td>   -0.661</td> <td> 0.509</td> <td>-1594.420</td> <td>  790.279</td>\n",
       "</tr>\n",
       "<tr>\n",
       "  <th>Target_Revenues</th>              <td>    0.5591</td> <td>    0.025</td> <td>   22.230</td> <td> 0.000</td> <td>    0.510</td> <td>    0.608</td>\n",
       "</tr>\n",
       "<tr>\n",
       "  <th>Target_EBITDA</th>                <td>    8.7796</td> <td>    0.099</td> <td>   88.985</td> <td> 0.000</td> <td>    8.586</td> <td>    8.973</td>\n",
       "</tr>\n",
       "</table>\n",
       "<table class=\"simpletable\">\n",
       "<tr>\n",
       "  <th>Omnibus:</th>       <td>28230.189</td> <th>  Durbin-Watson:     </th>    <td>   1.898</td>   \n",
       "</tr>\n",
       "<tr>\n",
       "  <th>Prob(Omnibus):</th>  <td> 0.000</td>   <th>  Jarque-Bera (JB):  </th> <td>1602064421.990</td>\n",
       "</tr>\n",
       "<tr>\n",
       "  <th>Skew:</th>           <td>15.223</td>   <th>  Prob(JB):          </th>    <td>    0.00</td>   \n",
       "</tr>\n",
       "<tr>\n",
       "  <th>Kurtosis:</th>      <td>1657.406</td>  <th>  Cond. No.          </th>    <td>5.03e+04</td>   \n",
       "</tr>\n",
       "</table><br/><br/>Notes:<br/>[1] Standard Errors assume that the covariance matrix of the errors is correctly specified.<br/>[2] The condition number is large, 5.03e+04. This might indicate that there are<br/>strong multicollinearity or other numerical problems."
      ],
      "text/latex": [
       "\\begin{center}\n",
       "\\begin{tabular}{lclc}\n",
       "\\toprule\n",
<<<<<<< HEAD
       "\\textbf{Dep. Variable:}                 &    Target\\_EV    & \\textbf{  R-squared:         } &       0.651    \\\\\n",
       "\\textbf{Model:}                         &       OLS        & \\textbf{  Adj. R-squared:    } &       0.651    \\\\\n",
       "\\textbf{Method:}                        &  Least Squares   & \\textbf{  F-statistic:       } &       6676.    \\\\\n",
       "\\textbf{Date:}                          & Wed, 04 Sep 2024 & \\textbf{  Prob (F-statistic):} &       0.00     \\\\\n",
       "\\textbf{Time:}                          &     11:05:03     & \\textbf{  Log-Likelihood:    } &  -1.2498e+05   \\\\\n",
       "\\textbf{No. Observations:}              &       10740      & \\textbf{  AIC:               } &   2.500e+05    \\\\\n",
       "\\textbf{Df Residuals:}                  &       10736      & \\textbf{  BIC:               } &   2.500e+05    \\\\\n",
       "\\textbf{Df Model:}                      &           3      & \\textbf{                     } &                \\\\\n",
       "\\textbf{Covariance Type:}               &    nonrobust     & \\textbf{                     } &                \\\\\n",
=======
       "\\textbf{Dep. Variable:}                 &    Target\\_EV    & \\textbf{  R-squared:         } &       0.645     \\\\\n",
       "\\textbf{Model:}                         &       OLS        & \\textbf{  Adj. R-squared:    } &       0.645     \\\\\n",
       "\\textbf{Method:}                        &  Least Squares   & \\textbf{  F-statistic:       } &       8516.     \\\\\n",
       "\\textbf{Date:}                          & Tue, 03 Sep 2024 & \\textbf{  Prob (F-statistic):} &       0.00      \\\\\n",
       "\\textbf{Time:}                          &     16:59:07     & \\textbf{  Log-Likelihood:    } &  -1.6176e+05    \\\\\n",
       "\\textbf{No. Observations:}              &       14043      & \\textbf{  AIC:               } &   3.235e+05     \\\\\n",
       "\\textbf{Df Residuals:}                  &       14039      & \\textbf{  BIC:               } &   3.236e+05     \\\\\n",
       "\\textbf{Df Model:}                      &           3      & \\textbf{                     } &                 \\\\\n",
       "\\textbf{Covariance Type:}               &    nonrobust     & \\textbf{                     } &                 \\\\\n",
>>>>>>> 53aea0c1d51bc0c4a4cd82dac7a618d60c096d25
       "\\bottomrule\n",
       "\\end{tabular}\n",
       "\\begin{tabular}{lcccccc}\n",
       "                                        & \\textbf{coef} & \\textbf{std err} & \\textbf{t} & \\textbf{P$> |$t$|$} & \\textbf{[0.025} & \\textbf{0.975]}  \\\\\n",
       "\\midrule\n",
       "\\textbf{Intercept}                      &     164.8478  &      565.562     &     0.291  &         0.771        &     -943.728    &     1273.424     \\\\\n",
       "\\textbf{C(Target\\_Status\\_A)[T.Public]} &    -402.0706  &      608.300     &    -0.661  &         0.509        &    -1594.420    &      790.279     \\\\\n",
       "\\textbf{Target\\_Revenues}               &       0.5591  &        0.025     &    22.230  &         0.000        &        0.510    &        0.608     \\\\\n",
       "\\textbf{Target\\_EBITDA}                 &       8.7796  &        0.099     &    88.985  &         0.000        &        8.586    &        8.973     \\\\\n",
       "\\bottomrule\n",
       "\\end{tabular}\n",
       "\\begin{tabular}{lclc}\n",
       "\\textbf{Omnibus:}       & 28230.189 & \\textbf{  Durbin-Watson:     } &       1.898     \\\\\n",
       "\\textbf{Prob(Omnibus):} &    0.000  & \\textbf{  Jarque-Bera (JB):  } & 1602064421.990  \\\\\n",
       "\\textbf{Skew:}          &   15.223  & \\textbf{  Prob(JB):          } &        0.00     \\\\\n",
       "\\textbf{Kurtosis:}      &  1657.406 & \\textbf{  Cond. No.          } &    5.03e+04     \\\\\n",
       "\\bottomrule\n",
       "\\end{tabular}\n",
       "%\\caption{OLS Regression Results}\n",
       "\\end{center}\n",
       "\n",
       "Notes: \\newline\n",
       " [1] Standard Errors assume that the covariance matrix of the errors is correctly specified. \\newline\n",
       " [2] The condition number is large, 5.03e+04. This might indicate that there are \\newline\n",
       " strong multicollinearity or other numerical problems."
      ],
      "text/plain": [
       "<class 'statsmodels.iolib.summary.Summary'>\n",
       "\"\"\"\n",
       "                            OLS Regression Results                            \n",
       "==============================================================================\n",
<<<<<<< HEAD
       "Dep. Variable:              Target_EV   R-squared:                       0.651\n",
       "Model:                            OLS   Adj. R-squared:                  0.651\n",
       "Method:                 Least Squares   F-statistic:                     6676.\n",
       "Date:                Wed, 04 Sep 2024   Prob (F-statistic):               0.00\n",
       "Time:                        11:05:03   Log-Likelihood:            -1.2498e+05\n",
       "No. Observations:               10740   AIC:                         2.500e+05\n",
       "Df Residuals:                   10736   BIC:                         2.500e+05\n",
=======
       "Dep. Variable:              Target_EV   R-squared:                       0.645\n",
       "Model:                            OLS   Adj. R-squared:                  0.645\n",
       "Method:                 Least Squares   F-statistic:                     8516.\n",
       "Date:                Tue, 03 Sep 2024   Prob (F-statistic):               0.00\n",
       "Time:                        16:59:07   Log-Likelihood:            -1.6176e+05\n",
       "No. Observations:               14043   AIC:                         3.235e+05\n",
       "Df Residuals:                   14039   BIC:                         3.236e+05\n",
>>>>>>> 53aea0c1d51bc0c4a4cd82dac7a618d60c096d25
       "Df Model:                           3                                         \n",
       "Covariance Type:            nonrobust                                         \n",
       "================================================================================================\n",
       "                                   coef    std err          t      P>|t|      [0.025      0.975]\n",
       "------------------------------------------------------------------------------------------------\n",
       "Intercept                      164.8478    565.562      0.291      0.771    -943.728    1273.424\n",
       "C(Target_Status_A)[T.Public]  -402.0706    608.300     -0.661      0.509   -1594.420     790.279\n",
       "Target_Revenues                  0.5591      0.025     22.230      0.000       0.510       0.608\n",
       "Target_EBITDA                    8.7796      0.099     88.985      0.000       8.586       8.973\n",
       "==============================================================================\n",
       "Omnibus:                    28230.189   Durbin-Watson:                   1.898\n",
       "Prob(Omnibus):                  0.000   Jarque-Bera (JB):       1602064421.990\n",
       "Skew:                          15.223   Prob(JB):                         0.00\n",
       "Kurtosis:                    1657.406   Cond. No.                     5.03e+04\n",
       "==============================================================================\n",
       "\n",
       "Notes:\n",
       "[1] Standard Errors assume that the covariance matrix of the errors is correctly specified.\n",
       "[2] The condition number is large, 5.03e+04. This might indicate that there are\n",
       "strong multicollinearity or other numerical problems.\n",
       "\"\"\""
      ]
     },
     "execution_count": 29,
     "metadata": {},
     "output_type": "execute_result"
    }
   ],
   "source": [
    "# Add public_private\n",
    "model2 = smf.ols(formula = 'Target_EV ~ Target_Revenues + Target_EBITDA + C(Target_Status_A)', data=df)\n",
    "model2 = model2.fit()\n",
    "model2.summary()"
   ]
  },
  {
   "cell_type": "code",
   "execution_count": 30,
   "metadata": {},
   "outputs": [
    {
     "data": {
      "text/plain": [
       "Intercept                       164.847786\n",
       "C(Target_Status_A)[T.Public]   -402.070627\n",
       "Target_Revenues                   0.559142\n",
       "Target_EBITDA                     8.779625\n",
       "dtype: float64"
      ]
     },
     "execution_count": 30,
     "metadata": {},
     "output_type": "execute_result"
    }
   ],
   "source": [
    "model2.params"
   ]
  },
  {
   "cell_type": "code",
   "execution_count": 31,
   "metadata": {},
   "outputs": [
    {
     "name": "stdout",
     "output_type": "stream",
     "text": [
      "Intercept                                      -2308.048916\n",
      "C(Target_Macro_A)[T.Consumer Staples]           1751.733745\n",
      "C(Target_Macro_A)[T.Energy and Power]           -528.600962\n",
      "C(Target_Macro_A)[T.Financials]                 4744.850872\n",
      "C(Target_Macro_A)[T.Healthcare]                 2931.320818\n",
      "C(Target_Macro_A)[T.High Technology]            3701.189603\n",
      "C(Target_Macro_A)[T.Industrials]                1483.965979\n",
      "C(Target_Macro_A)[T.Materials]                   159.258869\n",
      "C(Target_Macro_A)[T.Media and Entertainment]    2187.006188\n",
      "C(Target_Macro_A)[T.Real Estate]                3601.079754\n",
      "C(Target_Macro_A)[T.Retail]                      640.410214\n",
      "C(Target_Macro_A)[T.Telecommunications]        -1062.249390\n",
      "Target_Revenues                                    0.568673\n",
      "Target_EBITDA                                      8.757740\n",
      "dtype: float64\n"
     ]
    }
   ],
   "source": [
    "# Add Industry\n",
    "model3 = smf.ols(formula = 'Target_EV ~ Target_Revenues + Target_EBITDA + C(Target_Macro_A)', data=df)\n",
    "model3 = model3.fit()\n",
    "print(model3.params)"
   ]
  },
  {
   "cell_type": "code",
   "execution_count": 32,
   "metadata": {},
   "outputs": [
    {
     "data": {
      "text/html": [
       "<table class=\"simpletable\">\n",
       "<caption>OLS Regression Results</caption>\n",
       "<tr>\n",
       "  <th>Dep. Variable:</th>        <td>Target_EV</td>    <th>  R-squared:         </th>  <td>   0.647</td>  \n",
       "</tr>\n",
       "<tr>\n",
       "  <th>Model:</th>                   <td>OLS</td>       <th>  Adj. R-squared:    </th>  <td>   0.647</td>  \n",
       "</tr>\n",
       "<tr>\n",
       "  <th>Method:</th>             <td>Least Squares</td>  <th>  F-statistic:       </th>  <td>   1981.</td>  \n",
       "</tr>\n",
       "<tr>\n",
       "  <th>Date:</th>             <td>Wed, 04 Sep 2024</td> <th>  Prob (F-statistic):</th>   <td>  0.00</td>   \n",
       "</tr>\n",
       "<tr>\n",
<<<<<<< HEAD
       "  <th>Time:</th>                 <td>11:05:03</td>     <th>  Log-Likelihood:    </th> <td>-1.2495e+05</td>\n",
=======
       "  <th>Time:</th>                 <td>16:59:07</td>     <th>  Log-Likelihood:    </th> <td>-1.6172e+05</td>\n",
>>>>>>> 53aea0c1d51bc0c4a4cd82dac7a618d60c096d25
       "</tr>\n",
       "<tr>\n",
       "  <th>No. Observations:</th>      <td> 14043</td>      <th>  AIC:               </th>  <td>3.235e+05</td> \n",
       "</tr>\n",
       "<tr>\n",
       "  <th>Df Residuals:</th>          <td> 14029</td>      <th>  BIC:               </th>  <td>3.236e+05</td> \n",
       "</tr>\n",
       "<tr>\n",
       "  <th>Df Model:</th>              <td>    13</td>      <th>                     </th>      <td> </td>     \n",
       "</tr>\n",
       "<tr>\n",
       "  <th>Covariance Type:</th>      <td>nonrobust</td>    <th>                     </th>      <td> </td>     \n",
       "</tr>\n",
       "</table>\n",
       "<table class=\"simpletable\">\n",
       "<tr>\n",
       "                        <td></td>                          <th>coef</th>     <th>std err</th>      <th>t</th>      <th>P>|t|</th>  <th>[0.025</th>    <th>0.975]</th>  \n",
       "</tr>\n",
       "<tr>\n",
       "  <th>Intercept</th>                                    <td>-2308.0489</td> <td>  775.295</td> <td>   -2.977</td> <td> 0.003</td> <td>-3827.730</td> <td> -788.368</td>\n",
       "</tr>\n",
       "<tr>\n",
       "  <th>C(Target_Macro_A)[T.Consumer Staples]</th>        <td> 1751.7337</td> <td> 1176.799</td> <td>    1.489</td> <td> 0.137</td> <td> -554.949</td> <td> 4058.416</td>\n",
       "</tr>\n",
       "<tr>\n",
       "  <th>C(Target_Macro_A)[T.Energy and Power]</th>        <td> -528.6010</td> <td> 1024.156</td> <td>   -0.516</td> <td> 0.606</td> <td>-2536.084</td> <td> 1478.882</td>\n",
       "</tr>\n",
       "<tr>\n",
       "  <th>C(Target_Macro_A)[T.Financials]</th>              <td> 4744.8509</td> <td>  937.356</td> <td>    5.062</td> <td> 0.000</td> <td> 2907.507</td> <td> 6582.194</td>\n",
       "</tr>\n",
       "<tr>\n",
       "  <th>C(Target_Macro_A)[T.Healthcare]</th>              <td> 2931.3208</td> <td> 1041.950</td> <td>    2.813</td> <td> 0.005</td> <td>  888.959</td> <td> 4973.682</td>\n",
       "</tr>\n",
       "<tr>\n",
       "  <th>C(Target_Macro_A)[T.High Technology]</th>         <td> 3701.1896</td> <td>  929.032</td> <td>    3.984</td> <td> 0.000</td> <td> 1880.164</td> <td> 5522.215</td>\n",
       "</tr>\n",
       "<tr>\n",
       "  <th>C(Target_Macro_A)[T.Industrials]</th>             <td> 1483.9660</td> <td>  970.139</td> <td>    1.530</td> <td> 0.126</td> <td> -417.635</td> <td> 3385.567</td>\n",
       "</tr>\n",
       "<tr>\n",
       "  <th>C(Target_Macro_A)[T.Materials]</th>               <td>  159.2589</td> <td> 1044.116</td> <td>    0.153</td> <td> 0.879</td> <td>-1887.347</td> <td> 2205.865</td>\n",
       "</tr>\n",
       "<tr>\n",
       "  <th>C(Target_Macro_A)[T.Media and Entertainment]</th> <td> 2187.0062</td> <td> 1162.466</td> <td>    1.881</td> <td> 0.060</td> <td>  -91.581</td> <td> 4465.594</td>\n",
       "</tr>\n",
       "<tr>\n",
       "  <th>C(Target_Macro_A)[T.Real Estate]</th>             <td> 3601.0798</td> <td> 1181.317</td> <td>    3.048</td> <td> 0.002</td> <td> 1285.541</td> <td> 5916.619</td>\n",
       "</tr>\n",
       "<tr>\n",
       "  <th>C(Target_Macro_A)[T.Retail]</th>                  <td>  640.4102</td> <td> 1248.230</td> <td>    0.513</td> <td> 0.608</td> <td>-1806.288</td> <td> 3087.108</td>\n",
       "</tr>\n",
       "<tr>\n",
       "  <th>C(Target_Macro_A)[T.Telecommunications]</th>      <td>-1062.2494</td> <td> 1503.269</td> <td>   -0.707</td> <td> 0.480</td> <td>-4008.856</td> <td> 1884.357</td>\n",
       "</tr>\n",
       "<tr>\n",
       "  <th>Target_Revenues</th>                              <td>    0.5687</td> <td>    0.025</td> <td>   22.598</td> <td> 0.000</td> <td>    0.519</td> <td>    0.618</td>\n",
       "</tr>\n",
       "<tr>\n",
       "  <th>Target_EBITDA</th>                                <td>    8.7577</td> <td>    0.099</td> <td>   88.712</td> <td> 0.000</td> <td>    8.564</td> <td>    8.951</td>\n",
       "</tr>\n",
       "</table>\n",
       "<table class=\"simpletable\">\n",
       "<tr>\n",
       "  <th>Omnibus:</th>       <td>28271.678</td> <th>  Durbin-Watson:     </th>    <td>   1.898</td>   \n",
       "</tr>\n",
       "<tr>\n",
       "  <th>Prob(Omnibus):</th>  <td> 0.000</td>   <th>  Jarque-Bera (JB):  </th> <td>1607684445.748</td>\n",
       "</tr>\n",
       "<tr>\n",
       "  <th>Skew:</th>           <td>15.277</td>   <th>  Prob(JB):          </th>    <td>    0.00</td>   \n",
       "</tr>\n",
       "<tr>\n",
       "  <th>Kurtosis:</th>      <td>1660.304</td>  <th>  Cond. No.          </th>    <td>1.73e+05</td>   \n",
       "</tr>\n",
       "</table><br/><br/>Notes:<br/>[1] Standard Errors assume that the covariance matrix of the errors is correctly specified.<br/>[2] The condition number is large, 1.73e+05. This might indicate that there are<br/>strong multicollinearity or other numerical problems."
      ],
      "text/latex": [
       "\\begin{center}\n",
       "\\begin{tabular}{lclc}\n",
       "\\toprule\n",
<<<<<<< HEAD
       "\\textbf{Dep. Variable:}                                 &    Target\\_EV    & \\textbf{  R-squared:         } &       0.653    \\\\\n",
       "\\textbf{Model:}                                         &       OLS        & \\textbf{  Adj. R-squared:    } &       0.653    \\\\\n",
       "\\textbf{Method:}                                        &  Least Squares   & \\textbf{  F-statistic:       } &       1552.    \\\\\n",
       "\\textbf{Date:}                                          & Wed, 04 Sep 2024 & \\textbf{  Prob (F-statistic):} &       0.00     \\\\\n",
       "\\textbf{Time:}                                          &     11:05:03     & \\textbf{  Log-Likelihood:    } &  -1.2495e+05   \\\\\n",
       "\\textbf{No. Observations:}                              &       10740      & \\textbf{  AIC:               } &   2.499e+05    \\\\\n",
       "\\textbf{Df Residuals:}                                  &       10726      & \\textbf{  BIC:               } &   2.500e+05    \\\\\n",
       "\\textbf{Df Model:}                                      &          13      & \\textbf{                     } &                \\\\\n",
       "\\textbf{Covariance Type:}                               &    nonrobust     & \\textbf{                     } &                \\\\\n",
=======
       "\\textbf{Dep. Variable:}                                 &    Target\\_EV    & \\textbf{  R-squared:         } &       0.647     \\\\\n",
       "\\textbf{Model:}                                         &       OLS        & \\textbf{  Adj. R-squared:    } &       0.647     \\\\\n",
       "\\textbf{Method:}                                        &  Least Squares   & \\textbf{  F-statistic:       } &       1981.     \\\\\n",
       "\\textbf{Date:}                                          & Tue, 03 Sep 2024 & \\textbf{  Prob (F-statistic):} &       0.00      \\\\\n",
       "\\textbf{Time:}                                          &     16:59:07     & \\textbf{  Log-Likelihood:    } &  -1.6172e+05    \\\\\n",
       "\\textbf{No. Observations:}                              &       14043      & \\textbf{  AIC:               } &   3.235e+05     \\\\\n",
       "\\textbf{Df Residuals:}                                  &       14029      & \\textbf{  BIC:               } &   3.236e+05     \\\\\n",
       "\\textbf{Df Model:}                                      &          13      & \\textbf{                     } &                 \\\\\n",
       "\\textbf{Covariance Type:}                               &    nonrobust     & \\textbf{                     } &                 \\\\\n",
>>>>>>> 53aea0c1d51bc0c4a4cd82dac7a618d60c096d25
       "\\bottomrule\n",
       "\\end{tabular}\n",
       "\\begin{tabular}{lcccccc}\n",
       "                                                        & \\textbf{coef} & \\textbf{std err} & \\textbf{t} & \\textbf{P$> |$t$|$} & \\textbf{[0.025} & \\textbf{0.975]}  \\\\\n",
       "\\midrule\n",
       "\\textbf{Intercept}                                      &   -2308.0489  &      775.295     &    -2.977  &         0.003        &    -3827.730    &     -788.368     \\\\\n",
       "\\textbf{C(Target\\_Macro\\_A)[T.Consumer Staples]}        &    1751.7337  &     1176.799     &     1.489  &         0.137        &     -554.949    &     4058.416     \\\\\n",
       "\\textbf{C(Target\\_Macro\\_A)[T.Energy and Power]}        &    -528.6010  &     1024.156     &    -0.516  &         0.606        &    -2536.084    &     1478.882     \\\\\n",
       "\\textbf{C(Target\\_Macro\\_A)[T.Financials]}              &    4744.8509  &      937.356     &     5.062  &         0.000        &     2907.507    &     6582.194     \\\\\n",
       "\\textbf{C(Target\\_Macro\\_A)[T.Healthcare]}              &    2931.3208  &     1041.950     &     2.813  &         0.005        &      888.959    &     4973.682     \\\\\n",
       "\\textbf{C(Target\\_Macro\\_A)[T.High Technology]}         &    3701.1896  &      929.032     &     3.984  &         0.000        &     1880.164    &     5522.215     \\\\\n",
       "\\textbf{C(Target\\_Macro\\_A)[T.Industrials]}             &    1483.9660  &      970.139     &     1.530  &         0.126        &     -417.635    &     3385.567     \\\\\n",
       "\\textbf{C(Target\\_Macro\\_A)[T.Materials]}               &     159.2589  &     1044.116     &     0.153  &         0.879        &    -1887.347    &     2205.865     \\\\\n",
       "\\textbf{C(Target\\_Macro\\_A)[T.Media and Entertainment]} &    2187.0062  &     1162.466     &     1.881  &         0.060        &      -91.581    &     4465.594     \\\\\n",
       "\\textbf{C(Target\\_Macro\\_A)[T.Real Estate]}             &    3601.0798  &     1181.317     &     3.048  &         0.002        &     1285.541    &     5916.619     \\\\\n",
       "\\textbf{C(Target\\_Macro\\_A)[T.Retail]}                  &     640.4102  &     1248.230     &     0.513  &         0.608        &    -1806.288    &     3087.108     \\\\\n",
       "\\textbf{C(Target\\_Macro\\_A)[T.Telecommunications]}      &   -1062.2494  &     1503.269     &    -0.707  &         0.480        &    -4008.856    &     1884.357     \\\\\n",
       "\\textbf{Target\\_Revenues}                               &       0.5687  &        0.025     &    22.598  &         0.000        &        0.519    &        0.618     \\\\\n",
       "\\textbf{Target\\_EBITDA}                                 &       8.7577  &        0.099     &    88.712  &         0.000        &        8.564    &        8.951     \\\\\n",
       "\\bottomrule\n",
       "\\end{tabular}\n",
       "\\begin{tabular}{lclc}\n",
       "\\textbf{Omnibus:}       & 28271.678 & \\textbf{  Durbin-Watson:     } &       1.898     \\\\\n",
       "\\textbf{Prob(Omnibus):} &    0.000  & \\textbf{  Jarque-Bera (JB):  } & 1607684445.748  \\\\\n",
       "\\textbf{Skew:}          &   15.277  & \\textbf{  Prob(JB):          } &        0.00     \\\\\n",
       "\\textbf{Kurtosis:}      &  1660.304 & \\textbf{  Cond. No.          } &    1.73e+05     \\\\\n",
       "\\bottomrule\n",
       "\\end{tabular}\n",
       "%\\caption{OLS Regression Results}\n",
       "\\end{center}\n",
       "\n",
       "Notes: \\newline\n",
       " [1] Standard Errors assume that the covariance matrix of the errors is correctly specified. \\newline\n",
       " [2] The condition number is large, 1.73e+05. This might indicate that there are \\newline\n",
       " strong multicollinearity or other numerical problems."
      ],
      "text/plain": [
       "<class 'statsmodels.iolib.summary.Summary'>\n",
       "\"\"\"\n",
       "                            OLS Regression Results                            \n",
       "==============================================================================\n",
<<<<<<< HEAD
       "Dep. Variable:              Target_EV   R-squared:                       0.653\n",
       "Model:                            OLS   Adj. R-squared:                  0.653\n",
       "Method:                 Least Squares   F-statistic:                     1552.\n",
       "Date:                Wed, 04 Sep 2024   Prob (F-statistic):               0.00\n",
       "Time:                        11:05:03   Log-Likelihood:            -1.2495e+05\n",
       "No. Observations:               10740   AIC:                         2.499e+05\n",
       "Df Residuals:                   10726   BIC:                         2.500e+05\n",
=======
       "Dep. Variable:              Target_EV   R-squared:                       0.647\n",
       "Model:                            OLS   Adj. R-squared:                  0.647\n",
       "Method:                 Least Squares   F-statistic:                     1981.\n",
       "Date:                Tue, 03 Sep 2024   Prob (F-statistic):               0.00\n",
       "Time:                        16:59:07   Log-Likelihood:            -1.6172e+05\n",
       "No. Observations:               14043   AIC:                         3.235e+05\n",
       "Df Residuals:                   14029   BIC:                         3.236e+05\n",
>>>>>>> 53aea0c1d51bc0c4a4cd82dac7a618d60c096d25
       "Df Model:                          13                                         \n",
       "Covariance Type:            nonrobust                                         \n",
       "================================================================================================================\n",
       "                                                   coef    std err          t      P>|t|      [0.025      0.975]\n",
       "----------------------------------------------------------------------------------------------------------------\n",
       "Intercept                                    -2308.0489    775.295     -2.977      0.003   -3827.730    -788.368\n",
       "C(Target_Macro_A)[T.Consumer Staples]         1751.7337   1176.799      1.489      0.137    -554.949    4058.416\n",
       "C(Target_Macro_A)[T.Energy and Power]         -528.6010   1024.156     -0.516      0.606   -2536.084    1478.882\n",
       "C(Target_Macro_A)[T.Financials]               4744.8509    937.356      5.062      0.000    2907.507    6582.194\n",
       "C(Target_Macro_A)[T.Healthcare]               2931.3208   1041.950      2.813      0.005     888.959    4973.682\n",
       "C(Target_Macro_A)[T.High Technology]          3701.1896    929.032      3.984      0.000    1880.164    5522.215\n",
       "C(Target_Macro_A)[T.Industrials]              1483.9660    970.139      1.530      0.126    -417.635    3385.567\n",
       "C(Target_Macro_A)[T.Materials]                 159.2589   1044.116      0.153      0.879   -1887.347    2205.865\n",
       "C(Target_Macro_A)[T.Media and Entertainment]  2187.0062   1162.466      1.881      0.060     -91.581    4465.594\n",
       "C(Target_Macro_A)[T.Real Estate]              3601.0798   1181.317      3.048      0.002    1285.541    5916.619\n",
       "C(Target_Macro_A)[T.Retail]                    640.4102   1248.230      0.513      0.608   -1806.288    3087.108\n",
       "C(Target_Macro_A)[T.Telecommunications]      -1062.2494   1503.269     -0.707      0.480   -4008.856    1884.357\n",
       "Target_Revenues                                  0.5687      0.025     22.598      0.000       0.519       0.618\n",
       "Target_EBITDA                                    8.7577      0.099     88.712      0.000       8.564       8.951\n",
       "==============================================================================\n",
       "Omnibus:                    28271.678   Durbin-Watson:                   1.898\n",
       "Prob(Omnibus):                  0.000   Jarque-Bera (JB):       1607684445.748\n",
       "Skew:                          15.277   Prob(JB):                         0.00\n",
       "Kurtosis:                    1660.304   Cond. No.                     1.73e+05\n",
       "==============================================================================\n",
       "\n",
       "Notes:\n",
       "[1] Standard Errors assume that the covariance matrix of the errors is correctly specified.\n",
       "[2] The condition number is large, 1.73e+05. This might indicate that there are\n",
       "strong multicollinearity or other numerical problems.\n",
       "\"\"\""
      ]
     },
     "execution_count": 32,
     "metadata": {},
     "output_type": "execute_result"
    }
   ],
   "source": [
    "model3.summary()"
   ]
  },
  {
   "cell_type": "markdown",
   "metadata": {},
   "source": [
    "#### Notes\n",
    "- log transform Y\n",
    "- bring log back when explaining np.exp()"
   ]
  },
  {
   "cell_type": "markdown",
   "metadata": {},
   "source": [
    "#### Distribution of Y"
   ]
  },
  {
   "cell_type": "code",
   "execution_count": 33,
   "metadata": {},
   "outputs": [
    {
     "data": {
      "text/plain": [
       "count    1.404300e+04\n",
       "mean     4.762193e+03\n",
       "std      4.087613e+04\n",
       "min      1.100000e-01\n",
       "25%      2.959500e+01\n",
       "50%      2.139900e+02\n",
       "75%      1.465635e+03\n",
       "max      2.540543e+06\n",
       "Name: Target_EV, dtype: float64"
      ]
     },
     "execution_count": 33,
     "metadata": {},
     "output_type": "execute_result"
    }
   ],
   "source": [
    "df['Target_EV'].describe()"
   ]
  },
  {
   "cell_type": "code",
   "execution_count": 34,
   "metadata": {},
   "outputs": [
    {
     "data": {
      "text/plain": [
       "13128    2540542.97\n",
       "13404    2536581.04\n",
       "13750    1152770.86\n",
       "14101     795277.22\n",
       "14289     726066.36\n",
       "Name: Target_EV, dtype: float64"
      ]
     },
     "execution_count": 34,
     "metadata": {},
     "output_type": "execute_result"
    }
   ],
   "source": [
    "df['Target_EV'].nlargest(5)"
   ]
  },
  {
   "cell_type": "code",
   "execution_count": 35,
   "metadata": {},
   "outputs": [
    {
     "data": {
      "image/png": "iVBORw0KGgoAAAANSUhEUgAAAk0AAAGwCAYAAAC0HlECAAAAOXRFWHRTb2Z0d2FyZQBNYXRwbG90bGliIHZlcnNpb24zLjUuMywgaHR0cHM6Ly9tYXRwbG90bGliLm9yZy/NK7nSAAAACXBIWXMAAA9hAAAPYQGoP6dpAAA4mUlEQVR4nO3de3wU9b3/8fdu7lyy4SK5aISIchW5CwFBqJGgwBHFn6JR6DFK9SQUpGqlFQS1cqTcBKloW4lWPSqPCiooEoOAhQgYiBKEeEOhQBLOgWQJQhKy8/sDd2Tl4iYmMxl4PR+PeZid+e7MZ8a4efv9zn7HZRiGIQAAAJyV2+4CAAAAnIDQBAAAEARCEwAAQBAITQAAAEEgNAEAAASB0AQAABAEQhMAAEAQQu0u4Fzh8/m0b98+NW3aVC6Xy+5yAABAEAzD0OHDh5WQkCC3++x9SYSmOrJv3z4lJibaXQYAAKiFPXv26KKLLjprG0JTHWnatKmkExc9Ojq6zvffNnmooobcr5ioUN12ZevTtpl1z1Dt+vqrOj82AADnKq/Xq8TERPPv+NkQmuqIf0guOjq6XkKTOyRU7ohGCokMU2TjJqdv43bXy7EBADjXBXNrDTeCAwAABIHQ5Bg8VxkAADsRmhyG6AQAgD0ITU5hEJcAALAToclpyE4AANiC0AQAABAEQpPD0NEEAIA9CE2OQVwCAMBOhCYAAIAgEJqcgo4mAABsRWgCAAAIAqHJMehqAgDAToQmhzGY5BIAAFsQmpyCsAQAgK0ITQAAAEEgNAEAAASB0OQwDNIBAGAPQpNjEJcAALAToQkAACAIhCan4NtzAADYitDkMGQnAADsQWgCAAAIAqEJAAAgCIQmx2BcDgAAOxGaAAAAgkBocgo6mgAAsBWhyWEM0hMAALawNTStW7dOI0aMUEJCglwul5YtWxaw3TAMTZ06VfHx8YqKilJKSoq+/PLLgDYHDx5UWlqaoqOjFRMTo/T0dJWXlwe0+eyzzzRgwABFRkYqMTFRM2fOPKWWJUuWqEOHDoqMjFSXLl307rvv1vn5/jKEJQAA7GRraDpy5Ii6du2qhQsXnnb7zJkzNX/+fC1atEgbN25U48aNlZqaqmPHjplt0tLStH37dmVnZ2v58uVat26dxo0bZ273er0aMmSIWrdurby8PP35z3/WtGnT9Pzzz5ttNmzYoNtuu03p6enaunWrRo4cqZEjR6qgoKD+Tr62yE4AANjCZRgNY7pEl8ulpUuXauTIkZJO9DIlJCTod7/7nR544AFJUllZmWJjY5WVlaXRo0drx44d6tSpkzZv3qxevXpJklauXKnrr79e//73v5WQkKBnn31Wf/zjH1VUVKTw8HBJ0sMPP6xly5Zp586dkqRbb71VR44c0fLly816+vbtq27dumnRokVB1e/1euXxeFRWVqbo6Oi6uiym2A69FDVyuhqHh+juAZects2TdwzUgeKiOj82AADnqpr8/W6w9zTt2rVLRUVFSklJMdd5PB716dNHubm5kqTc3FzFxMSYgUmSUlJS5Ha7tXHjRrPNwIEDzcAkSampqSosLNShQ4fMNicfx9/Gf5zTqaiokNfrDVis0CASLgAA56EGG5qKik70mMTGxgasj42NNbcVFRWpVatWAdtDQ0PVvHnzgDan28fJxzhTG//205kxY4Y8Ho+5JCYm1vQUa4SwBACAvRpsaGroJk+erLKyMnPZs2eP3SUBAIB61GBDU1xcnCSpuLg4YH1xcbG5LS4uTiUlJQHbjx8/roMHDwa0Od0+Tj7Gmdr4t59ORESEoqOjA5b6daKvqWHcgQYAwPmnwYampKQkxcXFKScnx1zn9Xq1ceNGJScnS5KSk5NVWlqqvLw8s83q1avl8/nUp08fs826detUVVVltsnOzlb79u3VrFkzs83Jx/G38R8HAADA1tBUXl6u/Px85efnSzpx83d+fr52794tl8uliRMn6oknntDbb7+tbdu2acyYMUpISDC/YdexY0cNHTpU99xzjzZt2qT169crMzNTo0ePVkJCgiTp9ttvV3h4uNLT07V9+3a9/vrrevrppzVp0iSzjgkTJmjlypWaPXu2du7cqWnTpumTTz5RZmam1ZfkzOhhAgDAVqF2HvyTTz7R4MGDzdf+IDN27FhlZWXpoYce0pEjRzRu3DiVlpbqqquu0sqVKxUZGWm+55VXXlFmZqauueYaud1ujRo1SvPnzze3ezwerVq1ShkZGerZs6datmypqVOnBszl1K9fP7366qt65JFH9Ic//EGXXXaZli1bpssvv9yCqxAsUhMAAHZqMPM0OV19z9PUqn0PNbrxcUWFhWjcQOZpAgCgLpwT8zThJ8i2AADYitDkMDywFwAAexCaAAAAgkBocho6mgAAsAWhyTFISwAA2InQ5DBEJwAA7EFocgq+PQcAgK0ITQAAAEEgNAEAAASB0OQwDNIBAGAPQpNjEJcAALAToclpyE4AANiC0OQUhCUAAGxFaAIAAAgCockx6GoCAMBOhCaHMQhPAADYgtDkFMwIDgCArQhNAAAAQSA0AQAABIHQ5DCM0gEAYA9Ck2OQlgAAsBOhCQAAIAiEJqegowkAAFsRmhyG7AQAgD0ITY5BXAIAwE6EJgAAgCAQmhyDniYAAOxEaHIashMAALYgNDkFYQkAAFsRmhzGID0BAGALQpNjEJYAALAToQkAACAIhCanMAL+AQAALEZoAgAACAKhyTHoagIAwE6EJscgLQEAYCdCk8MQnQAAsAehySEM0hIAALYiNAEAAASB0OQYdDUBAGAnQhMAAEAQCE1OwU1NAADYitDkQAYBCgAAyxGaHIOgBACAnQhNTnFS75KP/AQAgOUITU5h+H78kV4nAAAsR2hyipPvYyIzAQBgOUKTUzA8BwCArQhNTsHwHAAAtiI0OQXDcwAA2IrQ5Bgn9zQBAACrEZqcIuCeJmITAABWIzQ5EJkJAADrEZocxOWyuwIAAM5fhCYH8WcmhucAALAeoclBXD90NRGZAACwXoMOTdXV1ZoyZYqSkpIUFRWltm3b6vHHH5dxUk+LYRiaOnWq4uPjFRUVpZSUFH355ZcB+zl48KDS0tIUHR2tmJgYpaenq7y8PKDNZ599pgEDBigyMlKJiYmaOXOmJedYE+boHKkJAADLNejQ9NRTT+nZZ5/VM888ox07duipp57SzJkztWDBArPNzJkzNX/+fC1atEgbN25U48aNlZqaqmPHjplt0tLStH37dmVnZ2v58uVat26dxo0bZ273er0aMmSIWrdurby8PP35z3/WtGnT9Pzzz1t6vj/Hf08Tw3MAAFgv1O4CzmbDhg264YYbNGzYMElSmzZt9D//8z/atGmTpBO9TPPmzdMjjzyiG264QZL00ksvKTY2VsuWLdPo0aO1Y8cOrVy5Ups3b1avXr0kSQsWLND111+vWbNmKSEhQa+88ooqKyv1wgsvKDw8XJ07d1Z+fr7mzJkTEK7s5pJLzAcOAIA9GnRPU79+/ZSTk6MvvvhCkvTpp5/qX//6l6677jpJ0q5du1RUVKSUlBTzPR6PR3369FFubq4kKTc3VzExMWZgkqSUlBS53W5t3LjRbDNw4ECFh4ebbVJTU1VYWKhDhw6dtraKigp5vd6Apb6Z354jNQEAYLkG3dP08MMPy+v1qkOHDgoJCVF1dbX+9Kc/KS0tTZJUVFQkSYqNjQ14X2xsrLmtqKhIrVq1CtgeGhqq5s2bB7RJSko6ZR/+bc2aNTulthkzZmj69Ol1cJbB84cmMhMAANZr0D1Nb7zxhl555RW9+uqr2rJli1588UXNmjVLL774ot2lafLkySorKzOXPXv21PsxXT/cCs49TQAAWK9B9zQ9+OCDevjhhzV69GhJUpcuXfTdd99pxowZGjt2rOLi4iRJxcXFio+PN99XXFysbt26SZLi4uJUUlISsN/jx4/r4MGD5vvj4uJUXFwc0Mb/2t/mpyIiIhQREfHLT7IGzJ4mMhMAAJZr0D1N33//vdzuwBJDQkLk8514eG1SUpLi4uKUk5Njbvd6vdq4caOSk5MlScnJySotLVVeXp7ZZvXq1fL5fOrTp4/ZZt26daqqqjLbZGdnq3379qcdmrMLM4IDAGCfBh2aRowYoT/96U9asWKFvv32Wy1dulRz5szRjTfeKOnEZI8TJ07UE088obffflvbtm3TmDFjlJCQoJEjR0qSOnbsqKFDh+qee+7Rpk2btH79emVmZmr06NFKSEiQJN1+++0KDw9Xenq6tm/frtdff11PP/20Jk2aZNepnxbDcwAA2KdBD88tWLBAU6ZM0X/913+ppKRECQkJ+s1vfqOpU6eabR566CEdOXJE48aNU2lpqa666iqtXLlSkZGRZptXXnlFmZmZuuaaa+R2uzVq1CjNnz/f3O7xeLRq1SplZGSoZ8+eatmypaZOndqgphuQuBEcAAA7uQyDbou64PV65fF4VFZWpujo6Drf/wWxcYq/70V5jx3Xrb0SFeeJPKXNk3cM1IHiojo/NgAA56qa/P1u0MNzCPTjs+fIuQAAWI3Q5CD++8B9ZCYAACxHaHIQZgQHAMA+hCYHYXgOAAD7EJochOE5AADsQ2hykB9nBCc1AQBgNUKTg7iYEhwAANsQmhzEvA+cjiYAACxHaHIQf0eTjxvBAQCwHKHJQfzPniMzAQBgPUKTg/DsOQAA7ENocpAfpxwgNgEAYDVCk4O46GoCAMA2hCYHITMBAGAfQpODMDwHAIB9CE0OwvAcAAD2ITQ5CJkJAAD7EJochBnBAQCwD6HJQfzDc8wIDgCA9QhNDmI+rpfMBACA5QhNDmLe00RoAgDAcoQmB/E/e47hOQAArEdochCXeSe4rWUAAHBeIjQ5CFMOAABgH0KTg/iH5wxuagIAwHKEJgfhRnAAAOxDaHIQhucAALAPoclBGJ4DAMA+hCYH8fc0+ewtAwCA8xKhyUGYERwAAPsQmhzE/+w5hucAALAeoclBmNsSAAD7EJochCkHAACwD6HJQczhOfqaAACwHKHJQczhOTITAACWIzQ5CMNzAADYh9DkIAzPAQBgH0KTgzA8BwCAfQhNDsLwHAAA9iE0OYj57DmG5wAAsByhyUHoaQIAwD6EJgdhRnAAAOxDaHIQnj0HAIB9CE0OYg7P2VsGAADnJUKTgzDlAAAA9iE0OQjDcwAA2IfQ5CDcCA4AgH0ITQ7ClAMAANiH0OQgPHsOAAD7EJochBvBAQCwD6HJQRieAwDAPoQmB+HZcwAA2IfQ5CD0NAEAYB9Ck4MwIzgAAPYhNDmIOTxHVxMAAJYjNDkIPU0AANiH0OQgTDkAAIB9Gnxo2rt3r+644w61aNFCUVFR6tKliz755BNzu2EYmjp1quLj4xUVFaWUlBR9+eWXAfs4ePCg0tLSFB0drZiYGKWnp6u8vDygzWeffaYBAwYoMjJSiYmJmjlzpiXnVxM8ew4AAPs06NB06NAh9e/fX2FhYXrvvff0+eefa/bs2WrWrJnZZubMmZo/f74WLVqkjRs3qnHjxkpNTdWxY8fMNmlpadq+fbuys7O1fPlyrVu3TuPGjTO3e71eDRkyRK1bt1ZeXp7+/Oc/a9q0aXr++ectPd+fw/AcAAD2Ca3Nmy655BJt3rxZLVq0CFhfWlqqHj166JtvvqmT4p566iklJiZq8eLF5rqkpCTzZ8MwNG/ePD3yyCO64YYbJEkvvfSSYmNjtWzZMo0ePVo7duzQypUrtXnzZvXq1UuStGDBAl1//fWaNWuWEhIS9Morr6iyslIvvPCCwsPD1blzZ+Xn52vOnDkB4epkFRUVqqioMF97vd46OeezYXgOAAD71Kqn6dtvv1V1dfUp6ysqKrR3795fXJTf22+/rV69eun//b//p1atWql79+7661//am7ftWuXioqKlJKSYq7zeDzq06ePcnNzJUm5ubmKiYkxA5MkpaSkyO12a+PGjWabgQMHKjw83GyTmpqqwsJCHTp06LS1zZgxQx6Px1wSExPr7LzPhOE5AADsU6Oeprffftv8+f3335fH4zFfV1dXKycnR23atKmz4r755hs9++yzmjRpkv7whz9o8+bN+u1vf6vw8HCNHTtWRUVFkqTY2NiA98XGxprbioqK1KpVq4DtoaGhat68eUCbk3uwTt5nUVFRwHCg3+TJkzVp0iTztdfrrffgxPAcAAD2qVFoGjlypKQTPR5jx44N2BYWFqY2bdpo9uzZdVacz+dTr1699OSTT0qSunfvroKCAi1atOiU41stIiJCERERlh6T4TkAAOxTo+E5n88nn8+niy++WCUlJeZrn8+niooKFRYWavjw4XVWXHx8vDp16hSwrmPHjtq9e7ckKS4uTpJUXFwc0Ka4uNjcFhcXp5KSkoDtx48f18GDBwPanG4fJx+jQTB7mkhNAABYrVb3NO3atUstW7as61pO0b9/fxUWFgas++KLL9S6dWtJJ24Kj4uLU05Ojrnd6/Vq48aNSk5OliQlJyertLRUeXl5ZpvVq1fL5/OpT58+Zpt169apqqrKbJOdna327dufdmjOLm5zRnCbCwEA4DxUq2/PSVJOTo5ycnLMHqeTvfDCC7+4MEm6//771a9fPz355JO65ZZbtGnTJj3//PPmVAAul0sTJ07UE088ocsuu0xJSUmaMmWKEhISzKHEjh07aujQobrnnnu0aNEiVVVVKTMzU6NHj1ZCQoIk6fbbb9f06dOVnp6u3//+9yooKNDTTz+tuXPn1sl51BXuaQIAwD61Ck3Tp0/XY489pl69eik+Pt78Vldd6927t5YuXarJkyfrscceU1JSkubNm6e0tDSzzUMPPaQjR45o3LhxKi0t1VVXXaWVK1cqMjLSbPPKK68oMzNT11xzjdxut0aNGqX58+eb2z0ej1atWqWMjAz17NlTLVu21NSpU8843YDd+PYcAADWcxm1+AscHx+vmTNn6s4776yPmhzJ6/XK4/GorKxM0dHRdb7/C2LjdOf8lXpz6161aByuO/q2PqXNk3cM1IHiojo/NgAA56qa/P2u1T1NlZWV6tevX62KQ+0xPAcAgH1qFZruvvtuvfrqq3VdC36GS0xuCQCAXWp1T9OxY8f0/PPP64MPPtAVV1yhsLCwgO1z5sypk+LwE/6eJjITAACWq1Vo+uyzz9StWzdJUkFBQcC2+ropHJKb4TkAAGxTq9D04Ycf1nUdCALDcwAA2KdW9zTBJvQ0AQBgm1r1NA0ePPisw3CrV6+udUE4M3/CpaMJAADr1So0+e9n8quqqlJ+fr4KCgpsf5DuucwfVHn2HAAA1qtVaDrT40WmTZum8vLyX1QQfh49TQAAWK9O72m644476uy5cziVmykHAACwTZ2Gptzc3IBnvqFuMTwHAIB9ajU8d9NNNwW8NgxD+/fv1yeffKIpU6bUSWE4lf/We3qaAACwXq1Ck8fjCXjtdrvVvn17PfbYYxoyZEidFIbTYHgOAADb1Co0LV68uK7rQBDcDM8BAGCbWoUmv7y8PO3YsUOS1LlzZ3Xv3r1OisLpMTwHAIB9ahWaSkpKNHr0aK1Zs0YxMTGSpNLSUg0ePFivvfaaLrjggrqsEX7MCA4AgG1q9e258ePH6/Dhw9q+fbsOHjyogwcPqqCgQF6vV7/97W/rukb8wM2z5wAAsE2teppWrlypDz74QB07djTXderUSQsXLuRG8HrkoqcJAADb1KqnyefzKSws7JT1YWFh8vl8v7gonB0dTQAAWK9WoelXv/qVJkyYoH379pnr9u7dq/vvv1/XXHNNnRWHQCc/I5khOgAArFWr0PTMM8/I6/WqTZs2atu2rdq2baukpCR5vV4tWLCgrmvED9wnpSYiEwAA1qrVPU2JiYnasmWLPvjgA+3cuVOS1LFjR6WkpNRpcQh0UkfTiSE615laAgCAulajnqbVq1erU6dO8nq9crlcuvbaazV+/HiNHz9evXv3VufOnfXRRx/VV61geA4AANvUKDTNmzdP99xzj6Kjo0/Z5vF49Jvf/EZz5syps+IQiOE5AADsU6PQ9Omnn2ro0KFn3D5kyBDl5eX94qJweqcMzwEAAMvUKDQVFxefdqoBv9DQUB04cOAXF4UzOHl4jr4mAAAsVaPQdOGFF6qgoOCM2z/77DPFx8f/4qJweq6TUhM9TQAAWKtGoen666/XlClTdOzYsVO2HT16VI8++qiGDx9eZ8UhkDugpwkAAFipRlMOPPLII3rzzTfVrl07ZWZmqn379pKknTt3auHChaqurtYf//jHeikUgfj2HAAA1qpRaIqNjdWGDRt03333afLkyeYfbpfLpdTUVC1cuFCxsbH1UihOXGc/MhMAANaq8eSWrVu31rvvvqtDhw7pq6++kmEYuuyyy9SsWbP6qA8/4XZJPoPhOQAArFarGcElqVmzZurdu3dd1oIgnLgZ3GB4DgAAi9Xq2XOw0Q8jdGQmAACsRWhyGP9dTWQmAACsRWhyGP+jVBieAwDAWoQmp/EPz9lbBQAA5x1Ck8OYw3OkJgAALEVochiG5wAAsAehyaGITAAAWIvQ5DAuphwAAMAWhCaHMYfn6GsCAMBShCaHoqcJAABrEZochuE5AADsQWhymB9nBCc1AQBgJUKTw7jMKQdsLgQAgPMMoclhXMwIDgCALQhNDvPjjODEJgAArERochg3w3MAANiC0OQ0DM8BAGALQpPDMDwHAIA9CE0OY357zuY6AAA43xCaHObHniZbywAA4LxDaHKYH6ccIDUBAGAlQpPDuMS35wAAsAOhyWF49hwAAPYgNDkMw3MAANjDUaHpv//7v+VyuTRx4kRz3bFjx5SRkaEWLVqoSZMmGjVqlIqLiwPet3v3bg0bNkyNGjVSq1at9OCDD+r48eMBbdasWaMePXooIiJCl156qbKysiw4o5pjeA4AAHs4JjRt3rxZzz33nK644oqA9ffff7/eeecdLVmyRGvXrtW+fft00003mdurq6s1bNgwVVZWasOGDXrxxReVlZWlqVOnmm127dqlYcOGafDgwcrPz9fEiRN199136/3337fs/ILF8BwAAPZwRGgqLy9XWlqa/vrXv6pZs2bm+rKyMv3973/XnDlz9Ktf/Uo9e/bU4sWLtWHDBn388ceSpFWrVunzzz/Xyy+/rG7duum6667T448/roULF6qyslKStGjRIiUlJWn27Nnq2LGjMjMzdfPNN2vu3LlnrKmiokJerzdgsQLDcwAA2MMRoSkjI0PDhg1TSkpKwPq8vDxVVVUFrO/QoYMuvvhi5ebmSpJyc3PVpUsXxcbGmm1SU1Pl9Xq1fft2s81P952ammru43RmzJghj8djLomJib/4PIPh4jkqAADYosGHptdee01btmzRjBkzTtlWVFSk8PBwxcTEBKyPjY1VUVGR2ebkwOTf7t92tjZer1dHjx49bV2TJ09WWVmZuezZs6dW51dT/p4mnyVHAwAAfqF2F3A2e/bs0YQJE5Sdna3IyEi7ywkQERGhiIgIy4/Ls+cAALBHg+5pysvLU0lJiXr06KHQ0FCFhoZq7dq1mj9/vkJDQxUbG6vKykqVlpYGvK+4uFhxcXGSpLi4uFO+Ted//XNtoqOjFRUVVU9nVzs8ew4AAHs06NB0zTXXaNu2bcrPzzeXXr16KS0tzfw5LCxMOTk55nsKCwu1e/duJScnS5KSk5O1bds2lZSUmG2ys7MVHR2tTp06mW1O3oe/jX8fDQnPngMAwB4NeniuadOmuvzyywPWNW7cWC1atDDXp6ena9KkSWrevLmio6M1fvx4JScnq2/fvpKkIUOGqFOnTrrzzjs1c+ZMFRUV6ZFHHlFGRoY5vHbvvffqmWee0UMPPaS77rpLq1ev1htvvKEVK1ZYe8JB+HHKAVITAABWatChKRhz586V2+3WqFGjVFFRodTUVP3lL38xt4eEhGj58uW67777lJycrMaNG2vs2LF67LHHzDZJSUlasWKF7r//fj399NO66KKL9Le//U2pqal2nNJZMTwHAIA9XAZdFnXC6/XK4/GorKxM0dHRdb7/C2Lj9IeX1+ndbfv1ZUm5rm53gbolxgS0efKOgTpQXFTnxwYA4FxVk7/fDfqeJpyK4TkAAOxBaHIYhucAALAHoclh/N+eIzUBAGAtQpPD/DgjOKkJAAArEZocxv/sOW5pAgDAWoQmh3HxvF4AAGxBaHIYnj0HAIA9CE0OY357jswEAIClCE0Ow/AcAAD2IDQ5DFMOAABgD0KTw/iH53yMzwEAYClCk8MwPAcAgD0ITQ7D8BwAAPYgNDmMOTxHagIAwFKEJof5cZ4mW8sAAOC8Q2hyGJeZmmwtAwCA8w6hyWHMZ8+RmgAAsBShyWH8PU0+MhMAAJYiNDnMj1MOkJoAALASoclh/MNzZCYAAKxFaHIYhucAALAHoclhfvzyHKkJAAArEZocxsVzVAAAsAWhyWHM4Tl7ywAA4LxDaHKYH2cEp6sJAAArEZochuE5AADsQWhyGJ6iAgCAPQhNDvPjlAPEJgAArERochhzeA4AAFiK0OQwP94IbmsZAACcdwhNDsPwHAAA9iA0OYz/2XNEJgAArEVochgXX58DAMAWhCaHYZomAADsQWhyGP/wHPc0AQBgLUKTwzA8BwCAPQhNDkNmAgDAHoQmh/FPbsnwHAAA1iI0OQwTggMAYA9Ck8MwIzgAAPYgNDmMf3jO4K4mAAAsRWhyGHqaAACwB6HJYczJLQlNAABYitDkMAzPAQBgD0KTwzA8BwCAPQhNDsPwHAAA9iA0OYz/2XMMzwEAYC1Ck8P4e5p8ZCYAACxFaHIYZgQHAMAehCaHMYfnuKkJAABLEZocxrwR3N4yAAA47xCaHIYpBwAAsAehyWHMyS1JTQAAWIrQ5DAMzwEAYA9Ck8MwPAcAgD0ITQ7D8BwAAPZo0KFpxowZ6t27t5o2bapWrVpp5MiRKiwsDGhz7NgxZWRkqEWLFmrSpIlGjRql4uLigDa7d+/WsGHD1KhRI7Vq1UoPPvigjh8/HtBmzZo16tGjhyIiInTppZcqKyurvk+vVhieAwDAHg06NK1du1YZGRn6+OOPlZ2draqqKg0ZMkRHjhwx29x///165513tGTJEq1du1b79u3TTTfdZG6vrq7WsGHDVFlZqQ0bNujFF19UVlaWpk6darbZtWuXhg0bpsGDBys/P18TJ07U3Xffrffff9/S8w0Gw3MAANjDZThonOfAgQNq1aqV1q5dq4EDB6qsrEwXXHCBXn31Vd18882SpJ07d6pjx47Kzc1V37599d5772n48OHat2+fYmNjJUmLFi3S73//ex04cEDh4eH6/e9/rxUrVqigoMA81ujRo1VaWqqVK1cGVZvX65XH41FZWZmio6Pr/NwviI3TH15ep7KjVcra8K3CQlz6r0GXBrR58o6BOlBcVOfHBgDgXFWTv98Nuqfpp8rKyiRJzZs3lyTl5eWpqqpKKSkpZpsOHTro4osvVm5uriQpNzdXXbp0MQOTJKWmpsrr9Wr79u1mm5P34W/j38fpVFRUyOv1BixWoKcJAAB7OCY0+Xw+TZw4Uf3799fll18uSSoqKlJ4eLhiYmIC2sbGxqqoqMhsc3Jg8m/3bztbG6/Xq6NHj562nhkzZsjj8ZhLYmLiLz7HYHBPEwAA9nBMaMrIyFBBQYFee+01u0uRJE2ePFllZWXmsmfPHkuOy7PnAACwR6jdBQQjMzNTy5cv17p163TRRReZ6+Pi4lRZWanS0tKA3qbi4mLFxcWZbTZt2hSwP/+3605u89Nv3BUXFys6OlpRUVGnrSkiIkIRERG/+NxqyuxpIjMBAGCpBt3TZBiGMjMztXTpUq1evVpJSUkB23v27KmwsDDl5OSY6woLC7V7924lJydLkpKTk7Vt2zaVlJSYbbKzsxUdHa1OnTqZbU7eh7+Nfx8NCcNzAADYo0H3NGVkZOjVV1/VW2+9paZNm5r3IHk8HkVFRcnj8Sg9PV2TJk1S8+bNFR0drfHjxys5OVl9+/aVJA0ZMkSdOnXSnXfeqZkzZ6qoqEiPPPKIMjIyzJ6ie++9V88884weeugh3XXXXVq9erXeeOMNrVixwrZzPxOXeSv4iVDpn+wSAADUrwbd0/Tss8+qrKxMgwYNUnx8vLm8/vrrZpu5c+dq+PDhGjVqlAYOHKi4uDi9+eab5vaQkBAtX75cISEhSk5O1h133KExY8boscceM9skJSVpxYoVys7OVteuXTV79mz97W9/U2pqqqXnG4yTMxJDdAAAWKdB9zQFc7NzZGSkFi5cqIULF56xTevWrfXuu++edT+DBg3S1q1ba1yj1QJCk31lAABw3mnQPU041U+H5wAAgDUITQ5DTxMAAPYgNDnMybd909EEAIB1CE0Oc/K35Qz6mgAAsAyhyWHoaQIAwB6EJodhygEAAOxBaHIYhucAALAHocmB/LGJniYAAKxDaHIgHtoLAID1CE0O5B+iY3gOAADrEJociOE5AACsR2hyIHN4zt4yAAA4rxCaHMj//DmePQcAgHUITQ5ETxMAANYjNDkQ9zQBAGA9QpMDmd+eIzUBAGAZQpMDMTwHAID1CE0OxPAcAADWIzQ5EMNzAABYj9DkYEQmAACsQ2hyIDfPngMAwHKEJgfi2XMAAFiP0ORg9DQBAGAdQpMDMTwHAID1CE0OZD57juE5AAAsQ2hyIBc9TQAAWI7Q5EQ/hCYfqQkAAMsQmhyoUXiIJKm84rjNlQAAcP4gNDlQ80bhkqRDR6psrgQAgPMHocmBmjU+EZoOfl9pcyUAAJw/CE0O5O9pOniE0AQAgFUITQ7U/IeeJu/RKh33+WyuBgCA8wOhyYEahYcoPMQtQ1Lp99zXBACAFQhNDuRyuczepkMM0QEAYAlCk0M1axwmiZvBAQCwCqHJobgZHAAAaxGaHMo/7cAh7mkCAMAShCaHOvmeJoPHqQAAUO8ITQ7liQyT2yUd9xk6fIzHqQAAUN8ITQ7ldrsU04iZwQEAsAqhycGaNTrxDTqmHQAAoP4RmhysRZMISVLJ4QqbKwEA4NxHaHKwBE+kJGlv6VGbKwEA4NxHaHKweE+UXJIOHzuuw8eYegAAgPpEaHKw8FC3Lmh6YoiO3iYAAOoXocnhEmKiJEn7So/ZXAkAAOc2QpPDXWiGJnqaAACoT4Qmh0uIOXEz+P8dqZTCG9tcDQAA5y5Ck8M1Cg8152sKib3U5moAADh3EZrOAf4hOnfsZTZXAgDAuYvQdA7w3wweenF3VVX7bK4GAIBzE6HpHHBJy8aKCguR2xOnv/9rl93lAABwTiI0nQMiwkJ01WUtJUnzPvhCew5+b3NFAACcewhN54iOcU1VvX+njlX5NOWtAh1nmA4AgDpFaDpHuFwuVeS+rLAQl9YUHtB/Zm1W6feVdpcFAMA5g9B0DjHK9mvBbT0UFRaij778X13/9Eea9Hq+FuR8yWNWAAD4hQhNP7Fw4UK1adNGkZGR6tOnjzZt2mR3SUErLS3Tndd008Elj8hX/n/aV3ZMb27dq9nZX6jf4+8qftDturxbD7vLBADAkULtLqAhef311zVp0iQtWrRIffr00bx585SamqrCwkK1atXK7vJ+ls/n0x9eXidJqjherd3/971Kj1Zp1/8e0f4yKaJvmg4f9WrsC5t0WasmatEkQi0ah6tFk3A1bxyuppFhahoZKpekiuM+GYYUGeZWk8hQNQo/9VflWFW1vMeqdEGTCLlcLovPFgAAaxGaTjJnzhzdc889+s///E9J0qJFi7RixQq98MILevjhh22urmYiQkN0WWxTSVKv1s20bW+Z1n/9f6qMitbaLw5o7RcHarS/TvHR6n9pC0WGhejgkUrt2O9VwV6vKqt9io4MVbvYporzRKplkwhFhYcoxOVSiDtwCT3pZ3/I8kctl0tyySVDho5V+XSsqlqhbpdiGoUpKjxUhmHIMCRDP/zTkAzpxHpJOmmb7+R2kvRDmxPv+/Fnn2FI/vUntQ88zhnW/2S/UeEhavFD8DxRzol2P5T2w3FO/OQzDFVU+VRV7VN4qFuRYSGq9p0476NV1TpWVa3K4ye2hYe4FR7qVtgP/wwPdSvU7dKZImpltU9HK6tVVe1TiNutELcU4j7xHvcP/w7qM94aP9+k9vuux50b9Vh5/dZdv4z6LL4e8bti7b6l+v1dPF7tk/dYlUq/r1KH+Gj9R9eEejza2RGaflBZWam8vDxNnjzZXOd2u5WSkqLc3NxT2ldUVKiiosJ8XVZWJknyer31Up/P59OxI+VnbWMYxhnbtGsWqku6X6AnJ4xR9MUd5W56gRTZRK7IJnJFNJErsqlcoRFSWKQkl+SrOvFfQUiYXG63Cr79XgXfFp1236UV0qay+jlvAAD8rrs8ToOSmtTpPv1/t4P6nwQDhmEYxt69ew1JxoYNGwLWP/jgg8aVV155SvtHH33U0A8dECwsLCwsLCzOXvbs2fOzWYGeplqaPHmyJk2aZL72+Xw6ePCgWrRoUef393i9XiUmJmrPnj2Kjo6u032D62sFrnH94xrXP65x/bLr+hqGocOHDysh4eeH/QhNP2jZsqVCQkJUXFwcsL64uFhxcXGntI+IiFBERETAupiYmPosUdHR0fyHWo+4vvWPa1z/uMb1j2tcv+y4vh6PJ6h2TDnwg/DwcPXs2VM5OTnmOp/Pp5ycHCUnJ9tYGQAAaAjoaTrJpEmTNHbsWPXq1UtXXnml5s2bpyNHjpjfpgMAAOcvQtNJbr31Vh04cEBTp05VUVGRunXrppUrVyo2NtbWuiIiIvToo4+eMhyIusH1rX9c4/rHNa5/XOP65YTr6zIMh07EAQAAYCHuaQIAAAgCoQkAACAIhCYAAIAgEJoAAACCQGhqIBYuXKg2bdooMjJSffr00aZNm87afsmSJerQoYMiIyPVpUsXvfvuuxZV6kw1ub5ZWVlyuVwBS2RkpIXVOs+6des0YsQIJSQkyOVyadmyZT/7njVr1qhHjx6KiIjQpZdeqqysrHqv06lqen3XrFlzyu+wy+VSUdHpnx8JacaMGerdu7eaNm2qVq1aaeTIkSosLPzZ9/FZHJzaXN+G+FlMaGoAXn/9dU2aNEmPPvqotmzZoq5duyo1NVUlJSWnbb9hwwbddtttSk9P19atWzVy5EiNHDlSBQUFFlfuDDW9vtKJGWn3799vLt99952FFTvPkSNH1LVrVy1cuDCo9rt27dKwYcM0ePBg5efna+LEibr77rv1/vvv13OlzlTT6+tXWFgY8HvcqlWreqrQ+dauXauMjAx9/PHHys7OVlVVlYYMGaIjR46c8T18FgevNtdXaoCfxXXzuFv8EldeeaWRkZFhvq6urjYSEhKMGTNmnLb9LbfcYgwbNixgXZ8+fYzf/OY39VqnU9X0+i5evNjweDwWVXfukWQsXbr0rG0eeugho3PnzgHrbr31ViM1NbUeKzs3BHN9P/zwQ0OScejQIUtqOheVlJQYkoy1a9eesQ2fxbUXzPVtiJ/F9DTZrLKyUnl5eUpJSTHXud1upaSkKDc397Tvyc3NDWgvSampqWdsfz6rzfWVpPLycrVu3VqJiYm64YYbtH37divKPW/wO2yNbt26KT4+Xtdee63Wr19vdzmOUlZWJklq3rz5Gdvwe1x7wVxfqeF9FhOabPa///u/qq6uPmXW8djY2DPef1BUVFSj9uez2lzf9u3b64UXXtBbb72ll19+WT6fT/369dO///1vK0o+L5zpd9jr9ero0aM2VXXuiI+P16JFi/TPf/5T//znP5WYmKhBgwZpy5YtdpfmCD6fTxMnTlT//v11+eWXn7Edn8W1E+z1bYifxTxGBfiJ5OTkgIc09+vXTx07dtRzzz2nxx9/3MbKgOC0b99e7du3N1/369dPX3/9tebOnat//OMfNlbmDBkZGSooKNC//vUvu0s5JwV7fRviZzE9TTZr2bKlQkJCVFxcHLC+uLhYcXFxp31PXFxcjdqfz2pzfX8qLCxM3bt311dffVUfJZ6XzvQ7HB0draioKJuqOrddeeWV/A4HITMzU8uXL9eHH36oiy666Kxt+SyuuZpc359qCJ/FhCabhYeHq2fPnsrJyTHX+Xw+5eTkBCTskyUnJwe0l6Ts7Owztj+f1eb6/lR1dbW2bdum+Pj4+irzvMPvsPXy8/P5HT4LwzCUmZmppUuXavXq1UpKSvrZ9/B7HLzaXN+fahCfxXbfiQ7DeO2114yIiAgjKyvL+Pzzz41x48YZMTExRlFRkWEYhnHnnXcaDz/8sNl+/fr1RmhoqDFr1ixjx44dxqOPPmqEhYUZ27Zts+sUGrSaXt/p06cb77//vvH1118beXl5xujRo43IyEhj+/btdp1Cg3f48GFj69atxtatWw1Jxpw5c4ytW7ca3333nWEYhvHwww8bd955p9n+m2++MRo1amQ8+OCDxo4dO4yFCxcaISEhxsqVK+06hQatptd37ty5xrJly4wvv/zS2LZtmzFhwgTD7XYbH3zwgV2n0ODdd999hsfjMdasWWPs37/fXL7//nuzDZ/FtVeb69sQP4sJTQ3EggULjIsvvtgIDw83rrzySuPjjz82t1199dXG2LFjA9q/8cYbRrt27Yzw8HCjc+fOxooVKyyu2Flqcn0nTpxoto2NjTWuv/56Y8uWLTZU7Rz+r7j/dPFf17FjxxpXX331Ke/p1q2bER4eblxyySXG4sWLLa/bKWp6fZ966imjbdu2RmRkpNG8eXNj0KBBxurVq+0p3iFOd30lBfxe8llce7W5vg3xs9hlGIZhXb8WAACAM3FPEwAAQBAITQAAAEEgNAEAAASB0AQAABAEQhMAAEAQCE0AAABBIDQBAAAEgdAEAAAarHXr1mnEiBFKSEiQy+XSsmXLarwPwzA0a9YstWvXThEREbrwwgv1pz/9qcb7Ca3xOwAAACxy5MgRde3aVXfddZduuummWu1jwoQJWrVqlWbNmqUuXbro4MGDOnjwYI33Q08TgAbN5XKddZk2bZqttdXk/3qzsrJOew6RkZGSpBEjRmjo0KGnfe9HH30kl8ulzz77rC5KBxzjuuuu0xNPPKEbb7zxtNsrKir0wAMP6MILL1Tjxo3Vp08frVmzxty+Y8cOPfvss3rrrbf0H//xH0pKSlLPnj117bXX1rgWepoANGj79+83f3799dc1depUFRYWmuuaNGlSo/1VVlYqPDy8zuqrqejo6ID6pRPhS5LS09M1atQo/fvf/9ZFF10U0Gbx4sXq1auXrrjiCstqBZwgMzNTn3/+uV577TUlJCRo6dKlGjp0qLZt26bLLrtM77zzji655BItX75cQ4cOlWEYSklJ0cyZM9W8efMaHYueJgANWlxcnLl4PB65XC7z9ZEjR5SWlqbY2Fg1adJEvXv31gcffBDw/jZt2ujxxx/XmDFjFB0drXHjxkmS/vrXvyoxMVGNGjXSjTfeqDlz5igmJibgvW+99ZZ69OihyMhIXXLJJZo+fbqOHz9u7leSbrzxRrlcLvP1zzm5fv8SGxsrSRo+fLguuOACZWVlBbynvLxcS5YsUXp6es0uHnCO2717txYvXqwlS5ZowIABatu2rR544AFdddVVWrx4sSTpm2++0XfffaclS5bopZdeUlZWlvLy8nTzzTfX+HiEJgCOVV5eruuvv145OTnaunWrhg4dqhEjRmj37t0B7WbNmqWuXbtq69atmjJlitavX697771XEyZMUH5+vq699tpTbgr96KOPNGbMGE2YMEGff/65nnvuOWVlZZntNm/eLOlED9D+/fvN179EaGioxowZo6ysLJ38LPUlS5aourpat9122y8+BnAu2bZtm6qrq9WuXTs1adLEXNauXauvv/5akuTz+VRRUaGXXnpJAwYM0KBBg/T3v/9dH3744Sm9vj/LAACHWLx4seHxeM7apnPnzsaCBQvM161btzZGjhwZ0ObWW281hg0bFrAuLS0tYN/XXHON8eSTTwa0+cc//mHEx8ebryUZS5curVH9kozGjRsHLEOHDjXb7Nixw5BkfPjhh+a6AQMGGHfccUfQxwHOVT/9b+61114zQkJCjJ07dxpffvllwLJ//37DMAxj6tSpRmhoaMB+vv/+e0OSsWrVqhodn3uaADhWeXm5pk2bphUrVmj//v06fvy4jh49ekpPU69evQJeFxYWnnJT6ZVXXqnly5ebrz/99FOtX78+oAequrpax44d0/fff69GjRrVquamTZtqy5YtAeuioqLMnzt06KB+/frphRde0KBBg/TVV1/po48+0mOPPVar4wHnsu7du6u6ulolJSUaMGDAadv0799fx48f19dff622bdtKkr744gtJUuvWrWt0PEITAMd64IEHlJ2drVmzZunSSy9VVFSUbr75ZlVWVga0a9y4cY33XV5erunTp5/2K87+b7vVhtvt1qWXXnrWNunp6Ro/frwWLlyoxYsXq23btrr66qtrfUzAycrLy/XVV1+Zr3ft2qX8/Hw1b95c7dq1U1pamsaMGaPZs2ere/fuOnDggHJycnTFFVdo2LBhSklJUY8ePXTXXXdp3rx58vl8ysjI0LXXXqt27drVqBZCEwDHWr9+vX7961+bvUbl5eX69ttvf/Z97du3P+UepJ++7tGjhwoLC88acMLCwlRdXV3zwn/GLbfcogkTJujVV1/VSy+9pPvuu8/8hh1wvvnkk080ePBg8/WkSZMkSWPHjlVWVpYWL16sJ554Qr/73e+0d+9etWzZUn379tXw4cMlnfgflXfeeUfjx4/XwIED1bhxY1133XWaPXt2jWshNAFwrMsuu0xvvvmmRowYIZfLpSlTpsjn8/3s+/wfnnPmzNGIESO0evVqvffeewHBZOrUqRo+fLguvvhi3XzzzXK73fr0009VUFCgJ554QtKJb9Dl5OSof//+ioiIULNmzX722IZhqKio6JT1rVq1ktt94rs5TZo00a233qrJkyfL6/Xq17/+dZBXBDj3DBo0KOCLET8VFham6dOna/r06Wdsk5CQoH/+85+/uBa+PQfAsebMmaNmzZqpX79+GjFihFJTU9WjR4+ffV///v21aNEizZkzR127dtXKlSt1//33Bwy7paamavny5Vq1apV69+6tvn37au7cuQH3QMyePVvZ2dlKTExU9+7dg6rZ6/UqPj7+lKWkpCSgXXp6ug4dOqTU1FQlJCQEeUUA1CeXcbb4BgDniXvuuUc7d+7URx99ZHcpABoohucAnJdmzZqla6+9Vo0bN9Z7772nF198UX/5y1/sLgtAA0ZPE4Dz0i233KI1a9bo8OHDuuSSSzR+/Hjde++9v2ifnTt31nfffXfabc8995zS0tJ+0f4B2IvQBAB15LvvvlNVVdVpt8XGxqpp06YWVwSgLhGaAAAAgsC35wAAAIJAaAIAAAgCoQkAACAIhCYAAIAgEJoAAACCQGgCAAAIAqEJAAAgCP8f9nBoBjpvXhUAAAAASUVORK5CYII=",
      "text/plain": [
       "<Figure size 640x480 with 1 Axes>"
      ]
     },
     "metadata": {},
     "output_type": "display_data"
    }
   ],
   "source": [
    "sns.histplot(data=df, x='Target_EV', bins=50, kde=True)\n",
    "plt.ylim(0,11000);"
   ]
  },
  {
   "cell_type": "markdown",
   "metadata": {},
   "source": [
    "#### Log Transformation of Y"
   ]
  },
  {
   "cell_type": "code",
   "execution_count": 36,
   "metadata": {},
   "outputs": [
    {
     "data": {
      "text/plain": [
       "count    14043.000000\n",
       "mean         5.371595\n",
       "std          2.606664\n",
       "min         -2.207275\n",
       "25%          3.387605\n",
       "50%          5.365929\n",
       "75%          7.290044\n",
       "max         14.747888\n",
       "Name: log_Target_EV, dtype: float64"
      ]
     },
     "execution_count": 36,
     "metadata": {},
     "output_type": "execute_result"
    }
   ],
   "source": [
    "df['log_Target_EV'].describe()"
   ]
  },
  {
   "cell_type": "code",
   "execution_count": 37,
   "metadata": {},
   "outputs": [
    {
     "data": {
      "image/png": "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",
      "text/plain": [
       "<Figure size 640x480 with 1 Axes>"
      ]
     },
     "metadata": {},
     "output_type": "display_data"
    }
   ],
   "source": [
    "sns.histplot(data=df, x='log_Target_EV', bins=50, kde=True);"
   ]
  },
  {
   "cell_type": "markdown",
   "metadata": {},
   "source": [
    "#### Check Continuous Features for Normality"
   ]
  },
  {
   "cell_type": "code",
   "execution_count": 38,
   "metadata": {},
   "outputs": [
    {
     "data": {
      "image/png": "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",
      "text/plain": [
       "<Figure size 640x480 with 1 Axes>"
      ]
     },
     "metadata": {},
     "output_type": "display_data"
    }
   ],
   "source": [
    "#Target_EBITDA\n",
    "sns.histplot(data=df, x='Target_EBITDA', bins=50, kde=True);"
   ]
  },
  {
   "cell_type": "code",
   "execution_count": 39,
   "metadata": {},
   "outputs": [
    {
     "data": {
      "image/png": "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",
      "text/plain": [
       "<Figure size 640x480 with 1 Axes>"
      ]
     },
     "metadata": {},
     "output_type": "display_data"
    }
   ],
   "source": [
    "#Target_Revenues\n",
    "sns.histplot(data=df, x='Target_Revenues', bins=50, kde=True);"
   ]
  },
  {
   "cell_type": "markdown",
   "metadata": {},
   "source": [
    "#### Log transform the continuous features"
   ]
  },
  {
   "cell_type": "code",
   "execution_count": 40,
   "metadata": {},
   "outputs": [
    {
     "data": {
      "image/png": "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",
      "text/plain": [
       "<Figure size 640x480 with 1 Axes>"
      ]
     },
     "metadata": {},
     "output_type": "display_data"
    }
   ],
   "source": [
    "sns.histplot(data=df, x='log_Target_EBITDA', bins=50, kde=True);"
   ]
  },
  {
   "cell_type": "code",
   "execution_count": 41,
   "metadata": {},
   "outputs": [
    {
     "data": {
      "image/png": "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",
      "text/plain": [
       "<Figure size 640x480 with 1 Axes>"
      ]
     },
     "metadata": {},
     "output_type": "display_data"
    }
   ],
   "source": [
    "sns.histplot(data=df, x='log_Target_Revenues', bins=50, kde=True);"
   ]
  },
  {
   "cell_type": "markdown",
   "metadata": {},
   "source": [
    "#### Simplest regression model using Log-Y"
   ]
  },
  {
   "cell_type": "code",
   "execution_count": 42,
   "metadata": {},
   "outputs": [
    {
     "data": {
      "text/plain": [
       "Date                                                    0\n",
       "Target_Name                                             0\n",
       "Target_Industry_Mid                                     0\n",
       "Target_Nation                                           0\n",
       "Buyer_Name                                              0\n",
       "Buyer_Industry_Macro                                    0\n",
       "Buyer_Industry_Mid                                      0\n",
       "Buyer_Nation                                            0\n",
       "Target_Revenues                                         0\n",
       "Target_EBITDA                                           0\n",
       "Target_EV                                               0\n",
       "Target_Industry_Detailed                                0\n",
       "Year                                                    0\n",
       "EV_Rev                                                  0\n",
       "EV_EBITDA                                               0\n",
       "Target_Region_A                                         0\n",
       "Target_Macro_A                                          0\n",
       "Target_Status_A                                         0\n",
       "Target_Region_Eastern Europe                            0\n",
       "Target_Region_Nordics                                   0\n",
       "Target_Region_North America                             0\n",
       "Target_Region_Southern Europe                           0\n",
       "Target_Region_UK                                        0\n",
       "Target_Region_Western Europe                            0\n",
       "Target_Industry_Macro_Consumer Products and Services    0\n",
       "Target_Industry_Macro_Consumer Staples                  0\n",
       "Target_Industry_Macro_Energy and Power                  0\n",
       "Target_Industry_Macro_Financials                        0\n",
       "Target_Industry_Macro_Healthcare                        0\n",
       "Target_Industry_Macro_High Technology                   0\n",
       "Target_Industry_Macro_Industrials                       0\n",
       "Target_Industry_Macro_Materials                         0\n",
       "Target_Industry_Macro_Media and Entertainment           0\n",
       "Target_Industry_Macro_Real Estate                       0\n",
       "Target_Industry_Macro_Retail                            0\n",
       "Target_Industry_Macro_Telecommunications                0\n",
       "Target_Status_Public                                    0\n",
       "log_Target_EV                                           0\n",
       "log_Target_Revenues                                     0\n",
       "log_Target_EBITDA                                       0\n",
       "dtype: int64"
      ]
     },
     "execution_count": 42,
     "metadata": {},
     "output_type": "execute_result"
    }
   ],
   "source": [
    "nan_count=df.isnull().sum()\n",
    "nan_count"
   ]
  },
  {
   "cell_type": "code",
   "execution_count": 43,
   "metadata": {},
   "outputs": [
    {
     "name": "stdout",
     "output_type": "stream",
     "text": [
      "Intercept             -7.471658\n",
      "log_Target_EBITDA      1.018748\n",
      "log_Target_Revenues    0.827493\n",
      "dtype: float64\n"
     ]
    }
   ],
   "source": [
    "logmodel = smf.ols(formula = 'log_Target_EV ~ log_Target_EBITDA + log_Target_Revenues', data=df)\n",
    "logmodel = logmodel.fit()\n",
    "print(logmodel.params)"
   ]
  },
  {
   "cell_type": "code",
   "execution_count": 44,
   "metadata": {},
   "outputs": [
    {
     "data": {
      "text/html": [
       "<table class=\"simpletable\">\n",
       "<caption>OLS Regression Results</caption>\n",
       "<tr>\n",
       "  <th>Dep. Variable:</th>      <td>log_Target_EV</td>  <th>  R-squared:         </th> <td>   0.761</td> \n",
       "</tr>\n",
       "<tr>\n",
       "  <th>Model:</th>                   <td>OLS</td>       <th>  Adj. R-squared:    </th> <td>   0.760</td> \n",
       "</tr>\n",
       "<tr>\n",
       "  <th>Method:</th>             <td>Least Squares</td>  <th>  F-statistic:       </th> <td>2.229e+04</td>\n",
       "</tr>\n",
       "<tr>\n",
       "  <th>Date:</th>             <td>Wed, 04 Sep 2024</td> <th>  Prob (F-statistic):</th>  <td>  0.00</td>  \n",
       "</tr>\n",
       "<tr>\n",
<<<<<<< HEAD
       "  <th>Time:</th>                 <td>11:05:05</td>     <th>  Log-Likelihood:    </th> <td> -13842.</td> \n",
=======
       "  <th>Time:</th>                 <td>16:59:16</td>     <th>  Log-Likelihood:    </th> <td> -23344.</td> \n",
>>>>>>> 53aea0c1d51bc0c4a4cd82dac7a618d60c096d25
       "</tr>\n",
       "<tr>\n",
       "  <th>No. Observations:</th>      <td> 14043</td>      <th>  AIC:               </th> <td>4.669e+04</td>\n",
       "</tr>\n",
       "<tr>\n",
       "  <th>Df Residuals:</th>          <td> 14040</td>      <th>  BIC:               </th> <td>4.672e+04</td>\n",
       "</tr>\n",
       "<tr>\n",
       "  <th>Df Model:</th>              <td>     2</td>      <th>                     </th>     <td> </td>    \n",
       "</tr>\n",
       "<tr>\n",
       "  <th>Covariance Type:</th>      <td>nonrobust</td>    <th>                     </th>     <td> </td>    \n",
       "</tr>\n",
       "</table>\n",
       "<table class=\"simpletable\">\n",
       "<tr>\n",
       "           <td></td>              <th>coef</th>     <th>std err</th>      <th>t</th>      <th>P>|t|</th>  <th>[0.025</th>    <th>0.975]</th>  \n",
       "</tr>\n",
       "<tr>\n",
       "  <th>Intercept</th>           <td>   -7.4717</td> <td>    0.586</td> <td>  -12.747</td> <td> 0.000</td> <td>   -8.621</td> <td>   -6.323</td>\n",
       "</tr>\n",
       "<tr>\n",
       "  <th>log_Target_EBITDA</th>   <td>    1.0187</td> <td>    0.067</td> <td>   15.218</td> <td> 0.000</td> <td>    0.888</td> <td>    1.150</td>\n",
       "</tr>\n",
       "<tr>\n",
       "  <th>log_Target_Revenues</th> <td>    0.8275</td> <td>    0.004</td> <td>  187.483</td> <td> 0.000</td> <td>    0.819</td> <td>    0.836</td>\n",
       "</tr>\n",
       "</table>\n",
       "<table class=\"simpletable\">\n",
       "<tr>\n",
       "  <th>Omnibus:</th>       <td>269.134</td> <th>  Durbin-Watson:     </th> <td>   1.464</td>\n",
       "</tr>\n",
       "<tr>\n",
       "  <th>Prob(Omnibus):</th> <td> 0.000</td>  <th>  Jarque-Bera (JB):  </th> <td> 350.442</td>\n",
       "</tr>\n",
       "<tr>\n",
       "  <th>Skew:</th>          <td>-0.254</td>  <th>  Prob(JB):          </th> <td>7.99e-77</td>\n",
       "</tr>\n",
       "<tr>\n",
       "  <th>Kurtosis:</th>      <td> 3.584</td>  <th>  Cond. No.          </th> <td>    555.</td>\n",
       "</tr>\n",
       "</table><br/><br/>Notes:<br/>[1] Standard Errors assume that the covariance matrix of the errors is correctly specified."
      ],
      "text/latex": [
       "\\begin{center}\n",
       "\\begin{tabular}{lclc}\n",
       "\\toprule\n",
<<<<<<< HEAD
       "\\textbf{Dep. Variable:}        & log\\_Target\\_EV  & \\textbf{  R-squared:         } &     0.879   \\\\\n",
       "\\textbf{Model:}                &       OLS        & \\textbf{  Adj. R-squared:    } &     0.879   \\\\\n",
       "\\textbf{Method:}               &  Least Squares   & \\textbf{  F-statistic:       } & 3.915e+04   \\\\\n",
       "\\textbf{Date:}                 & Wed, 04 Sep 2024 & \\textbf{  Prob (F-statistic):} &     0.00    \\\\\n",
       "\\textbf{Time:}                 &     11:05:05     & \\textbf{  Log-Likelihood:    } &   -13842.   \\\\\n",
       "\\textbf{No. Observations:}     &       10740      & \\textbf{  AIC:               } & 2.769e+04   \\\\\n",
       "\\textbf{Df Residuals:}         &       10737      & \\textbf{  BIC:               } & 2.771e+04   \\\\\n",
=======
       "\\textbf{Dep. Variable:}        & log\\_Target\\_EV  & \\textbf{  R-squared:         } &     0.761   \\\\\n",
       "\\textbf{Model:}                &       OLS        & \\textbf{  Adj. R-squared:    } &     0.760   \\\\\n",
       "\\textbf{Method:}               &  Least Squares   & \\textbf{  F-statistic:       } & 2.229e+04   \\\\\n",
       "\\textbf{Date:}                 & Tue, 03 Sep 2024 & \\textbf{  Prob (F-statistic):} &     0.00    \\\\\n",
       "\\textbf{Time:}                 &     16:59:16     & \\textbf{  Log-Likelihood:    } &   -23344.   \\\\\n",
       "\\textbf{No. Observations:}     &       14043      & \\textbf{  AIC:               } & 4.669e+04   \\\\\n",
       "\\textbf{Df Residuals:}         &       14040      & \\textbf{  BIC:               } & 4.672e+04   \\\\\n",
>>>>>>> 53aea0c1d51bc0c4a4cd82dac7a618d60c096d25
       "\\textbf{Df Model:}             &           2      & \\textbf{                     } &             \\\\\n",
       "\\textbf{Covariance Type:}      &    nonrobust     & \\textbf{                     } &             \\\\\n",
       "\\bottomrule\n",
       "\\end{tabular}\n",
       "\\begin{tabular}{lcccccc}\n",
       "                               & \\textbf{coef} & \\textbf{std err} & \\textbf{t} & \\textbf{P$> |$t$|$} & \\textbf{[0.025} & \\textbf{0.975]}  \\\\\n",
       "\\midrule\n",
       "\\textbf{Intercept}             &      -7.4717  &        0.586     &   -12.747  &         0.000        &       -8.621    &       -6.323     \\\\\n",
       "\\textbf{log\\_Target\\_EBITDA}   &       1.0187  &        0.067     &    15.218  &         0.000        &        0.888    &        1.150     \\\\\n",
       "\\textbf{log\\_Target\\_Revenues} &       0.8275  &        0.004     &   187.483  &         0.000        &        0.819    &        0.836     \\\\\n",
       "\\bottomrule\n",
       "\\end{tabular}\n",
       "\\begin{tabular}{lclc}\n",
       "\\textbf{Omnibus:}       & 269.134 & \\textbf{  Durbin-Watson:     } &    1.464  \\\\\n",
       "\\textbf{Prob(Omnibus):} &   0.000 & \\textbf{  Jarque-Bera (JB):  } &  350.442  \\\\\n",
       "\\textbf{Skew:}          &  -0.254 & \\textbf{  Prob(JB):          } & 7.99e-77  \\\\\n",
       "\\textbf{Kurtosis:}      &   3.584 & \\textbf{  Cond. No.          } &     555.  \\\\\n",
       "\\bottomrule\n",
       "\\end{tabular}\n",
       "%\\caption{OLS Regression Results}\n",
       "\\end{center}\n",
       "\n",
       "Notes: \\newline\n",
       " [1] Standard Errors assume that the covariance matrix of the errors is correctly specified."
      ],
      "text/plain": [
       "<class 'statsmodels.iolib.summary.Summary'>\n",
       "\"\"\"\n",
       "                            OLS Regression Results                            \n",
       "==============================================================================\n",
<<<<<<< HEAD
       "Dep. Variable:          log_Target_EV   R-squared:                       0.879\n",
       "Model:                            OLS   Adj. R-squared:                  0.879\n",
       "Method:                 Least Squares   F-statistic:                 3.915e+04\n",
       "Date:                Wed, 04 Sep 2024   Prob (F-statistic):               0.00\n",
       "Time:                        11:05:05   Log-Likelihood:                -13842.\n",
       "No. Observations:               10740   AIC:                         2.769e+04\n",
       "Df Residuals:                   10737   BIC:                         2.771e+04\n",
=======
       "Dep. Variable:          log_Target_EV   R-squared:                       0.761\n",
       "Model:                            OLS   Adj. R-squared:                  0.760\n",
       "Method:                 Least Squares   F-statistic:                 2.229e+04\n",
       "Date:                Tue, 03 Sep 2024   Prob (F-statistic):               0.00\n",
       "Time:                        16:59:16   Log-Likelihood:                -23344.\n",
       "No. Observations:               14043   AIC:                         4.669e+04\n",
       "Df Residuals:                   14040   BIC:                         4.672e+04\n",
>>>>>>> 53aea0c1d51bc0c4a4cd82dac7a618d60c096d25
       "Df Model:                           2                                         \n",
       "Covariance Type:            nonrobust                                         \n",
       "=======================================================================================\n",
       "                          coef    std err          t      P>|t|      [0.025      0.975]\n",
       "---------------------------------------------------------------------------------------\n",
       "Intercept              -7.4717      0.586    -12.747      0.000      -8.621      -6.323\n",
       "log_Target_EBITDA       1.0187      0.067     15.218      0.000       0.888       1.150\n",
       "log_Target_Revenues     0.8275      0.004    187.483      0.000       0.819       0.836\n",
       "==============================================================================\n",
       "Omnibus:                      269.134   Durbin-Watson:                   1.464\n",
       "Prob(Omnibus):                  0.000   Jarque-Bera (JB):              350.442\n",
       "Skew:                          -0.254   Prob(JB):                     7.99e-77\n",
       "Kurtosis:                       3.584   Cond. No.                         555.\n",
       "==============================================================================\n",
       "\n",
       "Notes:\n",
       "[1] Standard Errors assume that the covariance matrix of the errors is correctly specified.\n",
       "\"\"\""
      ]
     },
     "execution_count": 44,
     "metadata": {},
     "output_type": "execute_result"
    }
   ],
   "source": [
    "logmodel.summary()"
   ]
  },
  {
   "cell_type": "code",
   "execution_count": 45,
   "metadata": {},
   "outputs": [
    {
     "data": {
      "text/plain": [
       "array([[1.      , 0.762579],\n",
       "       [0.762579, 1.      ]])"
      ]
     },
     "execution_count": 45,
     "metadata": {},
     "output_type": "execute_result"
    }
   ],
   "source": [
    "# Re-transform logs to find R^2:\n",
    "np.corrcoef(np.exp(logmodel.fittedvalues),np.exp(df.log_Target_EV))**2"
   ]
  },
  {
   "cell_type": "code",
   "execution_count": 46,
   "metadata": {},
   "outputs": [
    {
     "data": {
      "text/plain": [
       "(14043, 40)"
      ]
     },
     "execution_count": 46,
     "metadata": {},
     "output_type": "execute_result"
    }
   ],
   "source": [
    "# Reminder of number of observations\n",
    "df.shape"
   ]
  },
  {
   "cell_type": "markdown",
   "metadata": {},
   "source": [
    "#### Add categorical features to this model"
   ]
  },
  {
   "cell_type": "code",
   "execution_count": 47,
   "metadata": {},
   "outputs": [],
   "source": [
    "logcatmodel = smf.ols(formula = 'log_Target_EV ~ log_Target_EBITDA + log_Target_Revenues + C(Target_Macro_A) + C(Target_Region_A) + Target_Status_Public', data=df)"
   ]
  },
  {
   "cell_type": "code",
   "execution_count": 48,
   "metadata": {},
   "outputs": [
    {
     "name": "stdout",
     "output_type": "stream",
     "text": [
      "Intercept                                      -8.481893\n",
      "C(Target_Macro_A)[T.Consumer Staples]           0.171122\n",
      "C(Target_Macro_A)[T.Energy and Power]           0.682326\n",
      "C(Target_Macro_A)[T.Financials]                 0.974973\n",
      "C(Target_Macro_A)[T.Healthcare]                 0.857738\n",
      "C(Target_Macro_A)[T.High Technology]            0.387331\n",
      "C(Target_Macro_A)[T.Industrials]                0.143799\n",
      "C(Target_Macro_A)[T.Materials]                  0.200306\n",
      "C(Target_Macro_A)[T.Media and Entertainment]    0.391066\n",
      "C(Target_Macro_A)[T.Real Estate]                1.820201\n",
      "C(Target_Macro_A)[T.Retail]                    -0.132030\n",
      "C(Target_Macro_A)[T.Telecommunications]         0.526966\n",
      "C(Target_Region_A)[T.Nordics]                   0.631735\n",
      "C(Target_Region_A)[T.North America]             0.943287\n",
      "C(Target_Region_A)[T.Southern Europe]           0.668953\n",
      "C(Target_Region_A)[T.UK]                        0.710157\n",
      "C(Target_Region_A)[T.Western Europe]            0.656211\n",
      "log_Target_EBITDA                               0.954386\n",
      "log_Target_Revenues                             0.819070\n",
      "Target_Status_Public                            0.413936\n",
      "dtype: float64\n"
     ]
    }
   ],
   "source": [
    "logcatmodel = logcatmodel.fit()\n",
    "print(logcatmodel.params)"
   ]
  },
  {
   "cell_type": "code",
   "execution_count": 49,
   "metadata": {},
   "outputs": [
    {
     "data": {
      "text/html": [
       "<table class=\"simpletable\">\n",
       "<caption>OLS Regression Results</caption>\n",
       "<tr>\n",
       "  <th>Dep. Variable:</th>      <td>log_Target_EV</td>  <th>  R-squared:         </th> <td>   0.810</td> \n",
       "</tr>\n",
       "<tr>\n",
       "  <th>Model:</th>                   <td>OLS</td>       <th>  Adj. R-squared:    </th> <td>   0.810</td> \n",
       "</tr>\n",
       "<tr>\n",
       "  <th>Method:</th>             <td>Least Squares</td>  <th>  F-statistic:       </th> <td>   3144.</td> \n",
       "</tr>\n",
       "<tr>\n",
       "  <th>Date:</th>             <td>Wed, 04 Sep 2024</td> <th>  Prob (F-statistic):</th>  <td>  0.00</td>  \n",
       "</tr>\n",
       "<tr>\n",
<<<<<<< HEAD
       "  <th>Time:</th>                 <td>11:05:05</td>     <th>  Log-Likelihood:    </th> <td> -13090.</td> \n",
=======
       "  <th>Time:</th>                 <td>16:59:31</td>     <th>  Log-Likelihood:    </th> <td> -21724.</td> \n",
>>>>>>> 53aea0c1d51bc0c4a4cd82dac7a618d60c096d25
       "</tr>\n",
       "<tr>\n",
       "  <th>No. Observations:</th>      <td> 14043</td>      <th>  AIC:               </th> <td>4.349e+04</td>\n",
       "</tr>\n",
       "<tr>\n",
       "  <th>Df Residuals:</th>          <td> 14023</td>      <th>  BIC:               </th> <td>4.364e+04</td>\n",
       "</tr>\n",
       "<tr>\n",
       "  <th>Df Model:</th>              <td>    19</td>      <th>                     </th>     <td> </td>    \n",
       "</tr>\n",
       "<tr>\n",
       "  <th>Covariance Type:</th>      <td>nonrobust</td>    <th>                     </th>     <td> </td>    \n",
       "</tr>\n",
       "</table>\n",
       "<table class=\"simpletable\">\n",
       "<tr>\n",
       "                        <td></td>                          <th>coef</th>     <th>std err</th>      <th>t</th>      <th>P>|t|</th>  <th>[0.025</th>    <th>0.975]</th>  \n",
       "</tr>\n",
       "<tr>\n",
       "  <th>Intercept</th>                                    <td>   -8.4819</td> <td>    0.529</td> <td>  -16.026</td> <td> 0.000</td> <td>   -9.519</td> <td>   -7.444</td>\n",
       "</tr>\n",
       "<tr>\n",
       "  <th>C(Target_Macro_A)[T.Consumer Staples]</th>        <td>    0.1711</td> <td>    0.055</td> <td>    3.091</td> <td> 0.002</td> <td>    0.063</td> <td>    0.280</td>\n",
       "</tr>\n",
       "<tr>\n",
       "  <th>C(Target_Macro_A)[T.Energy and Power]</th>        <td>    0.6823</td> <td>    0.048</td> <td>   14.101</td> <td> 0.000</td> <td>    0.587</td> <td>    0.777</td>\n",
       "</tr>\n",
       "<tr>\n",
       "  <th>C(Target_Macro_A)[T.Financials]</th>              <td>    0.9750</td> <td>    0.044</td> <td>   21.941</td> <td> 0.000</td> <td>    0.888</td> <td>    1.062</td>\n",
       "</tr>\n",
       "<tr>\n",
       "  <th>C(Target_Macro_A)[T.Healthcare]</th>              <td>    0.8577</td> <td>    0.049</td> <td>   17.328</td> <td> 0.000</td> <td>    0.761</td> <td>    0.955</td>\n",
       "</tr>\n",
       "<tr>\n",
       "  <th>C(Target_Macro_A)[T.High Technology]</th>         <td>    0.3873</td> <td>    0.044</td> <td>    8.848</td> <td> 0.000</td> <td>    0.302</td> <td>    0.473</td>\n",
       "</tr>\n",
       "<tr>\n",
       "  <th>C(Target_Macro_A)[T.Industrials]</th>             <td>    0.1438</td> <td>    0.046</td> <td>    3.152</td> <td> 0.002</td> <td>    0.054</td> <td>    0.233</td>\n",
       "</tr>\n",
       "<tr>\n",
       "  <th>C(Target_Macro_A)[T.Materials]</th>               <td>    0.2003</td> <td>    0.049</td> <td>    4.064</td> <td> 0.000</td> <td>    0.104</td> <td>    0.297</td>\n",
       "</tr>\n",
       "<tr>\n",
       "  <th>C(Target_Macro_A)[T.Media and Entertainment]</th> <td>    0.3911</td> <td>    0.055</td> <td>    7.173</td> <td> 0.000</td> <td>    0.284</td> <td>    0.498</td>\n",
       "</tr>\n",
       "<tr>\n",
       "  <th>C(Target_Macro_A)[T.Real Estate]</th>             <td>    1.8202</td> <td>    0.056</td> <td>   32.730</td> <td> 0.000</td> <td>    1.711</td> <td>    1.929</td>\n",
       "</tr>\n",
       "<tr>\n",
       "  <th>C(Target_Macro_A)[T.Retail]</th>                  <td>   -0.1320</td> <td>    0.059</td> <td>   -2.247</td> <td> 0.025</td> <td>   -0.247</td> <td>   -0.017</td>\n",
       "</tr>\n",
       "<tr>\n",
       "  <th>C(Target_Macro_A)[T.Telecommunications]</th>      <td>    0.5270</td> <td>    0.071</td> <td>    7.464</td> <td> 0.000</td> <td>    0.389</td> <td>    0.665</td>\n",
       "</tr>\n",
       "<tr>\n",
       "  <th>C(Target_Region_A)[T.Nordics]</th>                <td>    0.6317</td> <td>    0.048</td> <td>   13.260</td> <td> 0.000</td> <td>    0.538</td> <td>    0.725</td>\n",
       "</tr>\n",
       "<tr>\n",
       "  <th>C(Target_Region_A)[T.North America]</th>          <td>    0.9433</td> <td>    0.037</td> <td>   25.558</td> <td> 0.000</td> <td>    0.871</td> <td>    1.016</td>\n",
       "</tr>\n",
       "<tr>\n",
       "  <th>C(Target_Region_A)[T.Southern Europe]</th>        <td>    0.6690</td> <td>    0.044</td> <td>   15.209</td> <td> 0.000</td> <td>    0.583</td> <td>    0.755</td>\n",
       "</tr>\n",
       "<tr>\n",
       "  <th>C(Target_Region_A)[T.UK]</th>                     <td>    0.7102</td> <td>    0.048</td> <td>   14.933</td> <td> 0.000</td> <td>    0.617</td> <td>    0.803</td>\n",
       "</tr>\n",
       "<tr>\n",
       "  <th>C(Target_Region_A)[T.Western Europe]</th>         <td>    0.6562</td> <td>    0.044</td> <td>   14.926</td> <td> 0.000</td> <td>    0.570</td> <td>    0.742</td>\n",
       "</tr>\n",
       "<tr>\n",
       "  <th>log_Target_EBITDA</th>                            <td>    0.9544</td> <td>    0.060</td> <td>   15.888</td> <td> 0.000</td> <td>    0.837</td> <td>    1.072</td>\n",
       "</tr>\n",
       "<tr>\n",
       "  <th>log_Target_Revenues</th>                          <td>    0.8191</td> <td>    0.004</td> <td>  191.596</td> <td> 0.000</td> <td>    0.811</td> <td>    0.827</td>\n",
       "</tr>\n",
       "<tr>\n",
       "  <th>Target_Status_Public</th>                         <td>    0.4139</td> <td>    0.033</td> <td>   12.464</td> <td> 0.000</td> <td>    0.349</td> <td>    0.479</td>\n",
       "</tr>\n",
       "</table>\n",
       "<table class=\"simpletable\">\n",
       "<tr>\n",
       "  <th>Omnibus:</th>       <td>711.638</td> <th>  Durbin-Watson:     </th> <td>   1.571</td>\n",
       "</tr>\n",
       "<tr>\n",
       "  <th>Prob(Omnibus):</th> <td> 0.000</td>  <th>  Jarque-Bera (JB):  </th> <td>1507.295</td>\n",
       "</tr>\n",
       "<tr>\n",
       "  <th>Skew:</th>          <td>-0.347</td>  <th>  Prob(JB):          </th> <td>    0.00</td>\n",
       "</tr>\n",
       "<tr>\n",
       "  <th>Kurtosis:</th>      <td> 4.447</td>  <th>  Cond. No.          </th> <td>    565.</td>\n",
       "</tr>\n",
       "</table><br/><br/>Notes:<br/>[1] Standard Errors assume that the covariance matrix of the errors is correctly specified."
      ],
      "text/latex": [
       "\\begin{center}\n",
       "\\begin{tabular}{lclc}\n",
       "\\toprule\n",
<<<<<<< HEAD
       "\\textbf{Dep. Variable:}                                 & log\\_Target\\_EV  & \\textbf{  R-squared:         } &     0.895   \\\\\n",
       "\\textbf{Model:}                                         &       OLS        & \\textbf{  Adj. R-squared:    } &     0.895   \\\\\n",
       "\\textbf{Method:}                                        &  Least Squares   & \\textbf{  F-statistic:       } &     4817.   \\\\\n",
       "\\textbf{Date:}                                          & Wed, 04 Sep 2024 & \\textbf{  Prob (F-statistic):} &     0.00    \\\\\n",
       "\\textbf{Time:}                                          &     11:05:05     & \\textbf{  Log-Likelihood:    } &   -13090.   \\\\\n",
       "\\textbf{No. Observations:}                              &       10740      & \\textbf{  AIC:               } & 2.622e+04   \\\\\n",
       "\\textbf{Df Residuals:}                                  &       10720      & \\textbf{  BIC:               } & 2.637e+04   \\\\\n",
=======
       "\\textbf{Dep. Variable:}                                 & log\\_Target\\_EV  & \\textbf{  R-squared:         } &     0.810   \\\\\n",
       "\\textbf{Model:}                                         &       OLS        & \\textbf{  Adj. R-squared:    } &     0.810   \\\\\n",
       "\\textbf{Method:}                                        &  Least Squares   & \\textbf{  F-statistic:       } &     3144.   \\\\\n",
       "\\textbf{Date:}                                          & Tue, 03 Sep 2024 & \\textbf{  Prob (F-statistic):} &     0.00    \\\\\n",
       "\\textbf{Time:}                                          &     16:59:31     & \\textbf{  Log-Likelihood:    } &   -21724.   \\\\\n",
       "\\textbf{No. Observations:}                              &       14043      & \\textbf{  AIC:               } & 4.349e+04   \\\\\n",
       "\\textbf{Df Residuals:}                                  &       14023      & \\textbf{  BIC:               } & 4.364e+04   \\\\\n",
>>>>>>> 53aea0c1d51bc0c4a4cd82dac7a618d60c096d25
       "\\textbf{Df Model:}                                      &          19      & \\textbf{                     } &             \\\\\n",
       "\\textbf{Covariance Type:}                               &    nonrobust     & \\textbf{                     } &             \\\\\n",
       "\\bottomrule\n",
       "\\end{tabular}\n",
       "\\begin{tabular}{lcccccc}\n",
       "                                                        & \\textbf{coef} & \\textbf{std err} & \\textbf{t} & \\textbf{P$> |$t$|$} & \\textbf{[0.025} & \\textbf{0.975]}  \\\\\n",
       "\\midrule\n",
       "\\textbf{Intercept}                                      &      -8.4819  &        0.529     &   -16.026  &         0.000        &       -9.519    &       -7.444     \\\\\n",
       "\\textbf{C(Target\\_Macro\\_A)[T.Consumer Staples]}        &       0.1711  &        0.055     &     3.091  &         0.002        &        0.063    &        0.280     \\\\\n",
       "\\textbf{C(Target\\_Macro\\_A)[T.Energy and Power]}        &       0.6823  &        0.048     &    14.101  &         0.000        &        0.587    &        0.777     \\\\\n",
       "\\textbf{C(Target\\_Macro\\_A)[T.Financials]}              &       0.9750  &        0.044     &    21.941  &         0.000        &        0.888    &        1.062     \\\\\n",
       "\\textbf{C(Target\\_Macro\\_A)[T.Healthcare]}              &       0.8577  &        0.049     &    17.328  &         0.000        &        0.761    &        0.955     \\\\\n",
       "\\textbf{C(Target\\_Macro\\_A)[T.High Technology]}         &       0.3873  &        0.044     &     8.848  &         0.000        &        0.302    &        0.473     \\\\\n",
       "\\textbf{C(Target\\_Macro\\_A)[T.Industrials]}             &       0.1438  &        0.046     &     3.152  &         0.002        &        0.054    &        0.233     \\\\\n",
       "\\textbf{C(Target\\_Macro\\_A)[T.Materials]}               &       0.2003  &        0.049     &     4.064  &         0.000        &        0.104    &        0.297     \\\\\n",
       "\\textbf{C(Target\\_Macro\\_A)[T.Media and Entertainment]} &       0.3911  &        0.055     &     7.173  &         0.000        &        0.284    &        0.498     \\\\\n",
       "\\textbf{C(Target\\_Macro\\_A)[T.Real Estate]}             &       1.8202  &        0.056     &    32.730  &         0.000        &        1.711    &        1.929     \\\\\n",
       "\\textbf{C(Target\\_Macro\\_A)[T.Retail]}                  &      -0.1320  &        0.059     &    -2.247  &         0.025        &       -0.247    &       -0.017     \\\\\n",
       "\\textbf{C(Target\\_Macro\\_A)[T.Telecommunications]}      &       0.5270  &        0.071     &     7.464  &         0.000        &        0.389    &        0.665     \\\\\n",
       "\\textbf{C(Target\\_Region\\_A)[T.Nordics]}                &       0.6317  &        0.048     &    13.260  &         0.000        &        0.538    &        0.725     \\\\\n",
       "\\textbf{C(Target\\_Region\\_A)[T.North America]}          &       0.9433  &        0.037     &    25.558  &         0.000        &        0.871    &        1.016     \\\\\n",
       "\\textbf{C(Target\\_Region\\_A)[T.Southern Europe]}        &       0.6690  &        0.044     &    15.209  &         0.000        &        0.583    &        0.755     \\\\\n",
       "\\textbf{C(Target\\_Region\\_A)[T.UK]}                     &       0.7102  &        0.048     &    14.933  &         0.000        &        0.617    &        0.803     \\\\\n",
       "\\textbf{C(Target\\_Region\\_A)[T.Western Europe]}         &       0.6562  &        0.044     &    14.926  &         0.000        &        0.570    &        0.742     \\\\\n",
       "\\textbf{log\\_Target\\_EBITDA}                            &       0.9544  &        0.060     &    15.888  &         0.000        &        0.837    &        1.072     \\\\\n",
       "\\textbf{log\\_Target\\_Revenues}                          &       0.8191  &        0.004     &   191.596  &         0.000        &        0.811    &        0.827     \\\\\n",
       "\\textbf{Target\\_Status\\_Public}                         &       0.4139  &        0.033     &    12.464  &         0.000        &        0.349    &        0.479     \\\\\n",
       "\\bottomrule\n",
       "\\end{tabular}\n",
       "\\begin{tabular}{lclc}\n",
       "\\textbf{Omnibus:}       & 711.638 & \\textbf{  Durbin-Watson:     } &    1.571  \\\\\n",
       "\\textbf{Prob(Omnibus):} &   0.000 & \\textbf{  Jarque-Bera (JB):  } & 1507.295  \\\\\n",
       "\\textbf{Skew:}          &  -0.347 & \\textbf{  Prob(JB):          } &     0.00  \\\\\n",
       "\\textbf{Kurtosis:}      &   4.447 & \\textbf{  Cond. No.          } &     565.  \\\\\n",
       "\\bottomrule\n",
       "\\end{tabular}\n",
       "%\\caption{OLS Regression Results}\n",
       "\\end{center}\n",
       "\n",
       "Notes: \\newline\n",
       " [1] Standard Errors assume that the covariance matrix of the errors is correctly specified."
      ],
      "text/plain": [
       "<class 'statsmodels.iolib.summary.Summary'>\n",
       "\"\"\"\n",
       "                            OLS Regression Results                            \n",
       "==============================================================================\n",
<<<<<<< HEAD
       "Dep. Variable:          log_Target_EV   R-squared:                       0.895\n",
       "Model:                            OLS   Adj. R-squared:                  0.895\n",
       "Method:                 Least Squares   F-statistic:                     4817.\n",
       "Date:                Wed, 04 Sep 2024   Prob (F-statistic):               0.00\n",
       "Time:                        11:05:05   Log-Likelihood:                -13090.\n",
       "No. Observations:               10740   AIC:                         2.622e+04\n",
       "Df Residuals:                   10720   BIC:                         2.637e+04\n",
=======
       "Dep. Variable:          log_Target_EV   R-squared:                       0.810\n",
       "Model:                            OLS   Adj. R-squared:                  0.810\n",
       "Method:                 Least Squares   F-statistic:                     3144.\n",
       "Date:                Tue, 03 Sep 2024   Prob (F-statistic):               0.00\n",
       "Time:                        16:59:31   Log-Likelihood:                -21724.\n",
       "No. Observations:               14043   AIC:                         4.349e+04\n",
       "Df Residuals:                   14023   BIC:                         4.364e+04\n",
>>>>>>> 53aea0c1d51bc0c4a4cd82dac7a618d60c096d25
       "Df Model:                          19                                         \n",
       "Covariance Type:            nonrobust                                         \n",
       "================================================================================================================\n",
       "                                                   coef    std err          t      P>|t|      [0.025      0.975]\n",
       "----------------------------------------------------------------------------------------------------------------\n",
       "Intercept                                       -8.4819      0.529    -16.026      0.000      -9.519      -7.444\n",
       "C(Target_Macro_A)[T.Consumer Staples]            0.1711      0.055      3.091      0.002       0.063       0.280\n",
       "C(Target_Macro_A)[T.Energy and Power]            0.6823      0.048     14.101      0.000       0.587       0.777\n",
       "C(Target_Macro_A)[T.Financials]                  0.9750      0.044     21.941      0.000       0.888       1.062\n",
       "C(Target_Macro_A)[T.Healthcare]                  0.8577      0.049     17.328      0.000       0.761       0.955\n",
       "C(Target_Macro_A)[T.High Technology]             0.3873      0.044      8.848      0.000       0.302       0.473\n",
       "C(Target_Macro_A)[T.Industrials]                 0.1438      0.046      3.152      0.002       0.054       0.233\n",
       "C(Target_Macro_A)[T.Materials]                   0.2003      0.049      4.064      0.000       0.104       0.297\n",
       "C(Target_Macro_A)[T.Media and Entertainment]     0.3911      0.055      7.173      0.000       0.284       0.498\n",
       "C(Target_Macro_A)[T.Real Estate]                 1.8202      0.056     32.730      0.000       1.711       1.929\n",
       "C(Target_Macro_A)[T.Retail]                     -0.1320      0.059     -2.247      0.025      -0.247      -0.017\n",
       "C(Target_Macro_A)[T.Telecommunications]          0.5270      0.071      7.464      0.000       0.389       0.665\n",
       "C(Target_Region_A)[T.Nordics]                    0.6317      0.048     13.260      0.000       0.538       0.725\n",
       "C(Target_Region_A)[T.North America]              0.9433      0.037     25.558      0.000       0.871       1.016\n",
       "C(Target_Region_A)[T.Southern Europe]            0.6690      0.044     15.209      0.000       0.583       0.755\n",
       "C(Target_Region_A)[T.UK]                         0.7102      0.048     14.933      0.000       0.617       0.803\n",
       "C(Target_Region_A)[T.Western Europe]             0.6562      0.044     14.926      0.000       0.570       0.742\n",
       "log_Target_EBITDA                                0.9544      0.060     15.888      0.000       0.837       1.072\n",
       "log_Target_Revenues                              0.8191      0.004    191.596      0.000       0.811       0.827\n",
       "Target_Status_Public                             0.4139      0.033     12.464      0.000       0.349       0.479\n",
       "==============================================================================\n",
       "Omnibus:                      711.638   Durbin-Watson:                   1.571\n",
       "Prob(Omnibus):                  0.000   Jarque-Bera (JB):             1507.295\n",
       "Skew:                          -0.347   Prob(JB):                         0.00\n",
       "Kurtosis:                       4.447   Cond. No.                         565.\n",
       "==============================================================================\n",
       "\n",
       "Notes:\n",
       "[1] Standard Errors assume that the covariance matrix of the errors is correctly specified.\n",
       "\"\"\""
      ]
     },
     "execution_count": 49,
     "metadata": {},
     "output_type": "execute_result"
    }
   ],
   "source": [
    "logcatmodel.summary()"
   ]
  },
  {
   "cell_type": "code",
   "execution_count": 50,
   "metadata": {},
   "outputs": [
    {
     "data": {
      "text/plain": [
       "array([[1.        , 0.76620885],\n",
       "       [0.76620885, 1.        ]])"
      ]
     },
     "execution_count": 50,
     "metadata": {},
     "output_type": "execute_result"
    }
   ],
   "source": [
    "# Re-transform logs to find R^2:\n",
    "np.corrcoef(np.exp(logcatmodel.fittedvalues),np.exp(df.log_Target_EV))**2"
   ]
  },
  {
   "cell_type": "markdown",
   "metadata": {},
   "source": [
    "## KNN Model"
   ]
  },
  {
   "cell_type": "code",
   "execution_count": 56,
   "metadata": {},
   "outputs": [],
   "source": [
    "# Step 1: Prepare the Data\n",
    "# Assuming df is already in your environment\n",
    "X = df[['log_Target_Revenues', 'log_Target_EBITDA', 'Target_Status_Public', 'Target_Region_Eastern Europe', 'Target_Region_Nordics', 'Target_Region_North America', 'Target_Region_Southern Europe', 'Target_Region_UK', 'Target_Region_Western Europe', 'Target_Industry_Macro_Consumer Products and Services', 'Target_Industry_Macro_Consumer Staples','Target_Industry_Macro_Energy and Power','Target_Industry_Macro_Financials','Target_Industry_Macro_Healthcare','Target_Industry_Macro_High Technology','Target_Industry_Macro_Industrials','Target_Industry_Macro_Materials','Target_Industry_Macro_Media and Entertainment','Target_Industry_Macro_Real Estate','Target_Industry_Macro_Retail','Target_Industry_Macro_Telecommunications']]\n",
    "y = df['log_Target_EV']"
   ]
  },
  {
   "cell_type": "code",
   "execution_count": 57,
   "metadata": {},
   "outputs": [],
   "source": [
    "# Step 2: Split the Data into Training and Testing Sets\n",
    "X_train, X_test, y_train, y_test = train_test_split(X, y, test_size=0.2, random_state=42)"
   ]
  },
  {
   "cell_type": "code",
   "execution_count": 58,
   "metadata": {},
   "outputs": [],
   "source": [
    "# Step 3: Standardize the Data (important for KNN)\n",
    "scaler = StandardScaler()\n",
    "X_train_scaled = scaler.fit_transform(X_train)\n",
    "X_test_scaled = scaler.transform(X_test)"
   ]
  },
  {
   "cell_type": "code",
   "execution_count": 59,
   "metadata": {},
   "outputs": [
    {
     "data": {
      "text/html": [
       "<style>#sk-container-id-1 {\n",
       "  /* Definition of color scheme common for light and dark mode */\n",
       "  --sklearn-color-text: black;\n",
       "  --sklearn-color-line: gray;\n",
       "  /* Definition of color scheme for unfitted estimators */\n",
       "  --sklearn-color-unfitted-level-0: #fff5e6;\n",
       "  --sklearn-color-unfitted-level-1: #f6e4d2;\n",
       "  --sklearn-color-unfitted-level-2: #ffe0b3;\n",
       "  --sklearn-color-unfitted-level-3: chocolate;\n",
       "  /* Definition of color scheme for fitted estimators */\n",
       "  --sklearn-color-fitted-level-0: #f0f8ff;\n",
       "  --sklearn-color-fitted-level-1: #d4ebff;\n",
       "  --sklearn-color-fitted-level-2: #b3dbfd;\n",
       "  --sklearn-color-fitted-level-3: cornflowerblue;\n",
       "\n",
       "  /* Specific color for light theme */\n",
       "  --sklearn-color-text-on-default-background: var(--sg-text-color, var(--theme-code-foreground, var(--jp-content-font-color1, black)));\n",
       "  --sklearn-color-background: var(--sg-background-color, var(--theme-background, var(--jp-layout-color0, white)));\n",
       "  --sklearn-color-border-box: var(--sg-text-color, var(--theme-code-foreground, var(--jp-content-font-color1, black)));\n",
       "  --sklearn-color-icon: #696969;\n",
       "\n",
       "  @media (prefers-color-scheme: dark) {\n",
       "    /* Redefinition of color scheme for dark theme */\n",
       "    --sklearn-color-text-on-default-background: var(--sg-text-color, var(--theme-code-foreground, var(--jp-content-font-color1, white)));\n",
       "    --sklearn-color-background: var(--sg-background-color, var(--theme-background, var(--jp-layout-color0, #111)));\n",
       "    --sklearn-color-border-box: var(--sg-text-color, var(--theme-code-foreground, var(--jp-content-font-color1, white)));\n",
       "    --sklearn-color-icon: #878787;\n",
       "  }\n",
       "}\n",
       "\n",
       "#sk-container-id-1 {\n",
       "  color: var(--sklearn-color-text);\n",
       "}\n",
       "\n",
       "#sk-container-id-1 pre {\n",
       "  padding: 0;\n",
       "}\n",
       "\n",
       "#sk-container-id-1 input.sk-hidden--visually {\n",
       "  border: 0;\n",
       "  clip: rect(1px 1px 1px 1px);\n",
       "  clip: rect(1px, 1px, 1px, 1px);\n",
       "  height: 1px;\n",
       "  margin: -1px;\n",
       "  overflow: hidden;\n",
       "  padding: 0;\n",
       "  position: absolute;\n",
       "  width: 1px;\n",
       "}\n",
       "\n",
       "#sk-container-id-1 div.sk-dashed-wrapped {\n",
       "  border: 1px dashed var(--sklearn-color-line);\n",
       "  margin: 0 0.4em 0.5em 0.4em;\n",
       "  box-sizing: border-box;\n",
       "  padding-bottom: 0.4em;\n",
       "  background-color: var(--sklearn-color-background);\n",
       "}\n",
       "\n",
       "#sk-container-id-1 div.sk-container {\n",
       "  /* jupyter's `normalize.less` sets `[hidden] { display: none; }`\n",
       "     but bootstrap.min.css set `[hidden] { display: none !important; }`\n",
       "     so we also need the `!important` here to be able to override the\n",
       "     default hidden behavior on the sphinx rendered scikit-learn.org.\n",
       "     See: https://github.com/scikit-learn/scikit-learn/issues/21755 */\n",
       "  display: inline-block !important;\n",
       "  position: relative;\n",
       "}\n",
       "\n",
       "#sk-container-id-1 div.sk-text-repr-fallback {\n",
       "  display: none;\n",
       "}\n",
       "\n",
       "div.sk-parallel-item,\n",
       "div.sk-serial,\n",
       "div.sk-item {\n",
       "  /* draw centered vertical line to link estimators */\n",
       "  background-image: linear-gradient(var(--sklearn-color-text-on-default-background), var(--sklearn-color-text-on-default-background));\n",
       "  background-size: 2px 100%;\n",
       "  background-repeat: no-repeat;\n",
       "  background-position: center center;\n",
       "}\n",
       "\n",
       "/* Parallel-specific style estimator block */\n",
       "\n",
       "#sk-container-id-1 div.sk-parallel-item::after {\n",
       "  content: \"\";\n",
       "  width: 100%;\n",
       "  border-bottom: 2px solid var(--sklearn-color-text-on-default-background);\n",
       "  flex-grow: 1;\n",
       "}\n",
       "\n",
       "#sk-container-id-1 div.sk-parallel {\n",
       "  display: flex;\n",
       "  align-items: stretch;\n",
       "  justify-content: center;\n",
       "  background-color: var(--sklearn-color-background);\n",
       "  position: relative;\n",
       "}\n",
       "\n",
       "#sk-container-id-1 div.sk-parallel-item {\n",
       "  display: flex;\n",
       "  flex-direction: column;\n",
       "}\n",
       "\n",
       "#sk-container-id-1 div.sk-parallel-item:first-child::after {\n",
       "  align-self: flex-end;\n",
       "  width: 50%;\n",
       "}\n",
       "\n",
       "#sk-container-id-1 div.sk-parallel-item:last-child::after {\n",
       "  align-self: flex-start;\n",
       "  width: 50%;\n",
       "}\n",
       "\n",
       "#sk-container-id-1 div.sk-parallel-item:only-child::after {\n",
       "  width: 0;\n",
       "}\n",
       "\n",
       "/* Serial-specific style estimator block */\n",
       "\n",
       "#sk-container-id-1 div.sk-serial {\n",
       "  display: flex;\n",
       "  flex-direction: column;\n",
       "  align-items: center;\n",
       "  background-color: var(--sklearn-color-background);\n",
       "  padding-right: 1em;\n",
       "  padding-left: 1em;\n",
       "}\n",
       "\n",
       "\n",
       "/* Toggleable style: style used for estimator/Pipeline/ColumnTransformer box that is\n",
       "clickable and can be expanded/collapsed.\n",
       "- Pipeline and ColumnTransformer use this feature and define the default style\n",
       "- Estimators will overwrite some part of the style using the `sk-estimator` class\n",
       "*/\n",
       "\n",
       "/* Pipeline and ColumnTransformer style (default) */\n",
       "\n",
       "#sk-container-id-1 div.sk-toggleable {\n",
       "  /* Default theme specific background. It is overwritten whether we have a\n",
       "  specific estimator or a Pipeline/ColumnTransformer */\n",
       "  background-color: var(--sklearn-color-background);\n",
       "}\n",
       "\n",
       "/* Toggleable label */\n",
       "#sk-container-id-1 label.sk-toggleable__label {\n",
       "  cursor: pointer;\n",
       "  display: block;\n",
       "  width: 100%;\n",
       "  margin-bottom: 0;\n",
       "  padding: 0.5em;\n",
       "  box-sizing: border-box;\n",
       "  text-align: center;\n",
       "}\n",
       "\n",
       "#sk-container-id-1 label.sk-toggleable__label-arrow:before {\n",
       "  /* Arrow on the left of the label */\n",
       "  content: \"▸\";\n",
       "  float: left;\n",
       "  margin-right: 0.25em;\n",
       "  color: var(--sklearn-color-icon);\n",
       "}\n",
       "\n",
       "#sk-container-id-1 label.sk-toggleable__label-arrow:hover:before {\n",
       "  color: var(--sklearn-color-text);\n",
       "}\n",
       "\n",
       "/* Toggleable content - dropdown */\n",
       "\n",
       "#sk-container-id-1 div.sk-toggleable__content {\n",
       "  max-height: 0;\n",
       "  max-width: 0;\n",
       "  overflow: hidden;\n",
       "  text-align: left;\n",
       "  /* unfitted */\n",
       "  background-color: var(--sklearn-color-unfitted-level-0);\n",
       "}\n",
       "\n",
       "#sk-container-id-1 div.sk-toggleable__content.fitted {\n",
       "  /* fitted */\n",
       "  background-color: var(--sklearn-color-fitted-level-0);\n",
       "}\n",
       "\n",
       "#sk-container-id-1 div.sk-toggleable__content pre {\n",
       "  margin: 0.2em;\n",
       "  border-radius: 0.25em;\n",
       "  color: var(--sklearn-color-text);\n",
       "  /* unfitted */\n",
       "  background-color: var(--sklearn-color-unfitted-level-0);\n",
       "}\n",
       "\n",
       "#sk-container-id-1 div.sk-toggleable__content.fitted pre {\n",
       "  /* unfitted */\n",
       "  background-color: var(--sklearn-color-fitted-level-0);\n",
       "}\n",
       "\n",
       "#sk-container-id-1 input.sk-toggleable__control:checked~div.sk-toggleable__content {\n",
       "  /* Expand drop-down */\n",
       "  max-height: 200px;\n",
       "  max-width: 100%;\n",
       "  overflow: auto;\n",
       "}\n",
       "\n",
       "#sk-container-id-1 input.sk-toggleable__control:checked~label.sk-toggleable__label-arrow:before {\n",
       "  content: \"▾\";\n",
       "}\n",
       "\n",
       "/* Pipeline/ColumnTransformer-specific style */\n",
       "\n",
       "#sk-container-id-1 div.sk-label input.sk-toggleable__control:checked~label.sk-toggleable__label {\n",
       "  color: var(--sklearn-color-text);\n",
       "  background-color: var(--sklearn-color-unfitted-level-2);\n",
       "}\n",
       "\n",
       "#sk-container-id-1 div.sk-label.fitted input.sk-toggleable__control:checked~label.sk-toggleable__label {\n",
       "  background-color: var(--sklearn-color-fitted-level-2);\n",
       "}\n",
       "\n",
       "/* Estimator-specific style */\n",
       "\n",
       "/* Colorize estimator box */\n",
       "#sk-container-id-1 div.sk-estimator input.sk-toggleable__control:checked~label.sk-toggleable__label {\n",
       "  /* unfitted */\n",
       "  background-color: var(--sklearn-color-unfitted-level-2);\n",
       "}\n",
       "\n",
       "#sk-container-id-1 div.sk-estimator.fitted input.sk-toggleable__control:checked~label.sk-toggleable__label {\n",
       "  /* fitted */\n",
       "  background-color: var(--sklearn-color-fitted-level-2);\n",
       "}\n",
       "\n",
       "#sk-container-id-1 div.sk-label label.sk-toggleable__label,\n",
       "#sk-container-id-1 div.sk-label label {\n",
       "  /* The background is the default theme color */\n",
       "  color: var(--sklearn-color-text-on-default-background);\n",
       "}\n",
       "\n",
       "/* On hover, darken the color of the background */\n",
       "#sk-container-id-1 div.sk-label:hover label.sk-toggleable__label {\n",
       "  color: var(--sklearn-color-text);\n",
       "  background-color: var(--sklearn-color-unfitted-level-2);\n",
       "}\n",
       "\n",
       "/* Label box, darken color on hover, fitted */\n",
       "#sk-container-id-1 div.sk-label.fitted:hover label.sk-toggleable__label.fitted {\n",
       "  color: var(--sklearn-color-text);\n",
       "  background-color: var(--sklearn-color-fitted-level-2);\n",
       "}\n",
       "\n",
       "/* Estimator label */\n",
       "\n",
       "#sk-container-id-1 div.sk-label label {\n",
       "  font-family: monospace;\n",
       "  font-weight: bold;\n",
       "  display: inline-block;\n",
       "  line-height: 1.2em;\n",
       "}\n",
       "\n",
       "#sk-container-id-1 div.sk-label-container {\n",
       "  text-align: center;\n",
       "}\n",
       "\n",
       "/* Estimator-specific */\n",
       "#sk-container-id-1 div.sk-estimator {\n",
       "  font-family: monospace;\n",
       "  border: 1px dotted var(--sklearn-color-border-box);\n",
       "  border-radius: 0.25em;\n",
       "  box-sizing: border-box;\n",
       "  margin-bottom: 0.5em;\n",
       "  /* unfitted */\n",
       "  background-color: var(--sklearn-color-unfitted-level-0);\n",
       "}\n",
       "\n",
       "#sk-container-id-1 div.sk-estimator.fitted {\n",
       "  /* fitted */\n",
       "  background-color: var(--sklearn-color-fitted-level-0);\n",
       "}\n",
       "\n",
       "/* on hover */\n",
       "#sk-container-id-1 div.sk-estimator:hover {\n",
       "  /* unfitted */\n",
       "  background-color: var(--sklearn-color-unfitted-level-2);\n",
       "}\n",
       "\n",
       "#sk-container-id-1 div.sk-estimator.fitted:hover {\n",
       "  /* fitted */\n",
       "  background-color: var(--sklearn-color-fitted-level-2);\n",
       "}\n",
       "\n",
       "/* Specification for estimator info (e.g. \"i\" and \"?\") */\n",
       "\n",
       "/* Common style for \"i\" and \"?\" */\n",
       "\n",
       ".sk-estimator-doc-link,\n",
       "a:link.sk-estimator-doc-link,\n",
       "a:visited.sk-estimator-doc-link {\n",
       "  float: right;\n",
       "  font-size: smaller;\n",
       "  line-height: 1em;\n",
       "  font-family: monospace;\n",
       "  background-color: var(--sklearn-color-background);\n",
       "  border-radius: 1em;\n",
       "  height: 1em;\n",
       "  width: 1em;\n",
       "  text-decoration: none !important;\n",
       "  margin-left: 1ex;\n",
       "  /* unfitted */\n",
       "  border: var(--sklearn-color-unfitted-level-1) 1pt solid;\n",
       "  color: var(--sklearn-color-unfitted-level-1);\n",
       "}\n",
       "\n",
       ".sk-estimator-doc-link.fitted,\n",
       "a:link.sk-estimator-doc-link.fitted,\n",
       "a:visited.sk-estimator-doc-link.fitted {\n",
       "  /* fitted */\n",
       "  border: var(--sklearn-color-fitted-level-1) 1pt solid;\n",
       "  color: var(--sklearn-color-fitted-level-1);\n",
       "}\n",
       "\n",
       "/* On hover */\n",
       "div.sk-estimator:hover .sk-estimator-doc-link:hover,\n",
       ".sk-estimator-doc-link:hover,\n",
       "div.sk-label-container:hover .sk-estimator-doc-link:hover,\n",
       ".sk-estimator-doc-link:hover {\n",
       "  /* unfitted */\n",
       "  background-color: var(--sklearn-color-unfitted-level-3);\n",
       "  color: var(--sklearn-color-background);\n",
       "  text-decoration: none;\n",
       "}\n",
       "\n",
       "div.sk-estimator.fitted:hover .sk-estimator-doc-link.fitted:hover,\n",
       ".sk-estimator-doc-link.fitted:hover,\n",
       "div.sk-label-container:hover .sk-estimator-doc-link.fitted:hover,\n",
       ".sk-estimator-doc-link.fitted:hover {\n",
       "  /* fitted */\n",
       "  background-color: var(--sklearn-color-fitted-level-3);\n",
       "  color: var(--sklearn-color-background);\n",
       "  text-decoration: none;\n",
       "}\n",
       "\n",
       "/* Span, style for the box shown on hovering the info icon */\n",
       ".sk-estimator-doc-link span {\n",
       "  display: none;\n",
       "  z-index: 9999;\n",
       "  position: relative;\n",
       "  font-weight: normal;\n",
       "  right: .2ex;\n",
       "  padding: .5ex;\n",
       "  margin: .5ex;\n",
       "  width: min-content;\n",
       "  min-width: 20ex;\n",
       "  max-width: 50ex;\n",
       "  color: var(--sklearn-color-text);\n",
       "  box-shadow: 2pt 2pt 4pt #999;\n",
       "  /* unfitted */\n",
       "  background: var(--sklearn-color-unfitted-level-0);\n",
       "  border: .5pt solid var(--sklearn-color-unfitted-level-3);\n",
       "}\n",
       "\n",
       ".sk-estimator-doc-link.fitted span {\n",
       "  /* fitted */\n",
       "  background: var(--sklearn-color-fitted-level-0);\n",
       "  border: var(--sklearn-color-fitted-level-3);\n",
       "}\n",
       "\n",
       ".sk-estimator-doc-link:hover span {\n",
       "  display: block;\n",
       "}\n",
       "\n",
       "/* \"?\"-specific style due to the `<a>` HTML tag */\n",
       "\n",
       "#sk-container-id-1 a.estimator_doc_link {\n",
       "  float: right;\n",
       "  font-size: 1rem;\n",
       "  line-height: 1em;\n",
       "  font-family: monospace;\n",
       "  background-color: var(--sklearn-color-background);\n",
       "  border-radius: 1rem;\n",
       "  height: 1rem;\n",
       "  width: 1rem;\n",
       "  text-decoration: none;\n",
       "  /* unfitted */\n",
       "  color: var(--sklearn-color-unfitted-level-1);\n",
       "  border: var(--sklearn-color-unfitted-level-1) 1pt solid;\n",
       "}\n",
       "\n",
       "#sk-container-id-1 a.estimator_doc_link.fitted {\n",
       "  /* fitted */\n",
       "  border: var(--sklearn-color-fitted-level-1) 1pt solid;\n",
       "  color: var(--sklearn-color-fitted-level-1);\n",
       "}\n",
       "\n",
       "/* On hover */\n",
       "#sk-container-id-1 a.estimator_doc_link:hover {\n",
       "  /* unfitted */\n",
       "  background-color: var(--sklearn-color-unfitted-level-3);\n",
       "  color: var(--sklearn-color-background);\n",
       "  text-decoration: none;\n",
       "}\n",
       "\n",
       "#sk-container-id-1 a.estimator_doc_link.fitted:hover {\n",
       "  /* fitted */\n",
       "  background-color: var(--sklearn-color-fitted-level-3);\n",
       "}\n",
       "</style><div id=\"sk-container-id-1\" class=\"sk-top-container\"><div class=\"sk-text-repr-fallback\"><pre>KNeighborsRegressor()</pre><b>In a Jupyter environment, please rerun this cell to show the HTML representation or trust the notebook. <br />On GitHub, the HTML representation is unable to render, please try loading this page with nbviewer.org.</b></div><div class=\"sk-container\" hidden><div class=\"sk-item\"><div class=\"sk-estimator fitted sk-toggleable\"><input class=\"sk-toggleable__control sk-hidden--visually\" id=\"sk-estimator-id-1\" type=\"checkbox\" checked><label for=\"sk-estimator-id-1\" class=\"sk-toggleable__label fitted sk-toggleable__label-arrow fitted\">&nbsp;&nbsp;KNeighborsRegressor<a class=\"sk-estimator-doc-link fitted\" rel=\"noreferrer\" target=\"_blank\" href=\"https://scikit-learn.org/1.5/modules/generated/sklearn.neighbors.KNeighborsRegressor.html\">?<span>Documentation for KNeighborsRegressor</span></a><span class=\"sk-estimator-doc-link fitted\">i<span>Fitted</span></span></label><div class=\"sk-toggleable__content fitted\"><pre>KNeighborsRegressor()</pre></div> </div></div></div></div>"
      ],
      "text/plain": [
       "KNeighborsRegressor()"
      ]
     },
     "execution_count": 59,
     "metadata": {},
     "output_type": "execute_result"
    }
   ],
   "source": [
    "# Step 4: Train the KNN Model\n",
    "knn = KNeighborsRegressor(n_neighbors=5)  # You can change the number of neighbors\n",
    "knn.fit(X_train_scaled, y_train)"
   ]
  },
  {
   "cell_type": "code",
   "execution_count": 60,
   "metadata": {},
   "outputs": [],
   "source": [
    "# Step 5: Predict on Training and Testing Sets\n",
    "y_train_pred = knn.predict(X_train_scaled)\n",
    "y_test_pred = knn.predict(X_test_scaled)"
   ]
  },
  {
   "cell_type": "code",
   "execution_count": 61,
   "metadata": {},
   "outputs": [],
   "source": [
    "# Step 6: Evaluate the Model on Training Data\n",
    "train_mse = mean_squared_error(y_train, y_train_pred)\n",
    "train_rmse = np.sqrt(train_mse)\n",
    "train_r2 = r2_score(y_train, y_train_pred)"
   ]
  },
  {
   "cell_type": "code",
   "execution_count": 62,
   "metadata": {},
   "outputs": [],
   "source": [
    "# Step 7: Evaluate the Model on Testing Data\n",
    "test_mse = mean_squared_error(y_test, y_test_pred)\n",
    "test_rmse = np.sqrt(test_mse)\n",
    "test_r2 = r2_score(y_test, y_test_pred)"
   ]
  },
  {
   "cell_type": "code",
   "execution_count": 63,
   "metadata": {},
   "outputs": [
    {
     "name": "stdout",
     "output_type": "stream",
     "text": [
      "Performance on Training Data:\n",
<<<<<<< HEAD
      "Root Mean Squared Error (Train): 0.7168194493477478\n",
      "R^2 Score (Train): 0.9201503088233383\n",
      "\n",
      "Performance on Testing Data:\n",
      "Root Mean Squared Error (Test): 0.9075019059656707\n",
      "R^2 Score (Test): 0.8675041728584671\n"
=======
      "Root Mean Squared Error (Train): 0.7353196295593046\n",
      "R^2 Score (Train): 0.9154354412209131\n",
      "\n",
      "Performance on Testing Data:\n",
      "Root Mean Squared Error (Test): 0.904959728015984\n",
      "R^2 Score (Test): 0.8722396353173343\n"
>>>>>>> 53aea0c1d51bc0c4a4cd82dac7a618d60c096d25
     ]
    }
   ],
   "source": [
    "# Print the results\n",
    "print('Performance on Training Data:')\n",
    "print(f'Root Mean Squared Error (Train): {train_rmse}')\n",
    "print(f'R^2 Score (Train): {train_r2}')\n",
    "print('\\nPerformance on Testing Data:')\n",
    "print(f'Root Mean Squared Error (Test): {test_rmse}')\n",
    "print(f'R^2 Score (Test): {test_r2}')"
   ]
  },
  {
   "cell_type": "code",
   "execution_count": 64,
   "metadata": {},
   "outputs": [
    {
     "data": {
      "text/plain": [
<<<<<<< HEAD
       "array([[1.        , 0.74584069],\n",
       "       [0.74584069, 1.        ]])"
=======
       "array([[1.        , 0.71003566],\n",
       "       [0.71003566, 1.        ]])"
>>>>>>> 53aea0c1d51bc0c4a4cd82dac7a618d60c096d25
      ]
     },
     "execution_count": 64,
     "metadata": {},
     "output_type": "execute_result"
    }
   ],
   "source": [
    "# Re-transform logs to find R^2:\n",
    "np.corrcoef(np.exp(y_test_pred),np.exp(y_test))**2"
   ]
  },
  {
   "cell_type": "markdown",
   "metadata": {},
   "source": [
    "#### Ridge Regression"
   ]
  },
  {
   "cell_type": "code",
   "execution_count": 65,
   "metadata": {},
   "outputs": [
    {
     "name": "stdout",
     "output_type": "stream",
     "text": [
      "Performance on Training Data:\n",
      "Root Mean Squared Error (Train): 0.8387042862396168\n",
      "R^2 Score (Train): 0.8900740254285007\n",
      "\n",
      "Performance on Testing Data:\n",
      "Root Mean Squared Error (Test): 0.8442578995807831\n",
      "R^2 Score (Test): 0.888437839625491\n"
     ]
    }
   ],
   "source": [
    "from sklearn.linear_model import Ridge\n",
    "# Step 1: Prepare the Data\n",
    "X = df[['log_Target_Revenues', 'log_Target_EBITDA', 'Target_Region_Eastern Europe', 'Target_Region_Nordics', 'Target_Region_North America', 'Target_Region_Southern Europe', 'Target_Region_UK', 'Target_Region_Western Europe', 'Target_Industry_Macro_Consumer Products and Services', 'Target_Industry_Macro_Consumer Staples','Target_Industry_Macro_Energy and Power','Target_Industry_Macro_Financials','Target_Industry_Macro_Healthcare','Target_Industry_Macro_High Technology','Target_Industry_Macro_Industrials','Target_Industry_Macro_Materials','Target_Industry_Macro_Media and Entertainment','Target_Industry_Macro_Real Estate','Target_Industry_Macro_Retail','Target_Industry_Macro_Telecommunications']]\n",
    "y = df['log_Target_EV']\n",
    "# Step 2: Split the Data into Training and Testing Sets\n",
    "X_train, X_test, y_train, y_test = train_test_split(X, y, test_size=0.3, random_state=42)\n",
    "# Step 3: Standardize the Data (important for Ridge Regression)\n",
    "scaler = StandardScaler()\n",
    "X_train_scaled = scaler.fit_transform(X_train)\n",
    "X_test_scaled = scaler.transform(X_test)\n",
    "# Step 4: Train the Ridge Regression Model\n",
    "ridge_reg = Ridge(alpha=10)  # You can adjust alpha to control regularization strength\n",
    "ridge_reg.fit(X_train_scaled, y_train)\n",
    "# Step 5: Predict on Training and Testing Sets\n",
    "y_train_pred = ridge_reg.predict(X_train_scaled)\n",
    "y_test_pred = ridge_reg.predict(X_test_scaled)\n",
    "# Step 6: Evaluate the Model\n",
    "train_rmse = np.sqrt(mean_squared_error(y_train, y_train_pred))\n",
    "test_rmse = np.sqrt(mean_squared_error(y_test, y_test_pred))\n",
    "train_r2 = r2_score(y_train, y_train_pred)\n",
    "test_r2 = r2_score(y_test, y_test_pred)\n",
    "# Print the evaluation metrics\n",
    "print('Performance on Training Data:')\n",
    "print(f'Root Mean Squared Error (Train): {train_rmse}')\n",
    "print(f'R^2 Score (Train): {train_r2}')\n",
    "print('\\nPerformance on Testing Data:')\n",
    "print(f'Root Mean Squared Error (Test): {test_rmse}')\n",
    "print(f'R^2 Score (Test): {test_r2}')"
   ]
  },
  {
   "cell_type": "code",
   "execution_count": 66,
   "metadata": {},
   "outputs": [
    {
<<<<<<< HEAD
     "name": "stdout",
     "output_type": "stream",
     "text": [
      "(3222,)\n",
      "(3222,)\n"
     ]
=======
     "data": {
      "text/plain": [
       "array([[1.        , 0.75802919],\n",
       "       [0.75802919, 1.        ]])"
      ]
     },
     "execution_count": 66,
     "metadata": {},
     "output_type": "execute_result"
>>>>>>> 53aea0c1d51bc0c4a4cd82dac7a618d60c096d25
    }
   ],
   "source": [
    "# Re-transform logs to find R^2:\n",
    "np.corrcoef(np.exp(y_test_pred),np.exp(y_test))**2\n",
    "print(y_test_pred.shape)\n",
    "print(y_test.shape)"
   ]
  },
  {
   "cell_type": "markdown",
   "metadata": {},
   "source": [
    "## Scratch work below this point"
   ]
  },
  {
   "cell_type": "markdown",
   "metadata": {},
   "source": [
    "#### Rerun linear regression allowing for negative EBITDA"
   ]
  },
  {
   "cell_type": "code",
   "execution_count": 23,
   "metadata": {},
   "outputs": [],
   "source": [
    "logcatmodel2 = smf.ols(formula = 'log_Target_EV ~ log_Target_EBITDA + log_Target_Revenues + C(Target_Macro_A) + C(Target_Region_A) + Target_Status_Public', data=df)"
   ]
  },
  {
   "cell_type": "code",
   "execution_count": 25,
   "metadata": {},
   "outputs": [
    {
     "ename": "AttributeError",
     "evalue": "'OLSResults' object has no attribute 'fit'",
     "output_type": "error",
     "traceback": [
      "\u001b[0;31m---------------------------------------------------------------------------\u001b[0m",
      "\u001b[0;31mAttributeError\u001b[0m                            Traceback (most recent call last)",
      "Cell \u001b[0;32mIn[25], line 1\u001b[0m\n\u001b[0;32m----> 1\u001b[0m logcatmodel2 \u001b[38;5;241m=\u001b[39m \u001b[43mlogcatmodel2\u001b[49m\u001b[38;5;241;43m.\u001b[39;49m\u001b[43mfit\u001b[49m()\n\u001b[1;32m      2\u001b[0m \u001b[38;5;28mprint\u001b[39m(logcatmodel2\u001b[38;5;241m.\u001b[39mparams)\n",
      "File \u001b[0;32m~/.pyenv/versions/3.10.6/envs/ValToolenv/lib/python3.10/site-packages/statsmodels/base/wrapper.py:34\u001b[0m, in \u001b[0;36mResultsWrapper.__getattribute__\u001b[0;34m(self, attr)\u001b[0m\n\u001b[1;32m     31\u001b[0m \u001b[38;5;28;01mexcept\u001b[39;00m \u001b[38;5;167;01mAttributeError\u001b[39;00m:\n\u001b[1;32m     32\u001b[0m     \u001b[38;5;28;01mpass\u001b[39;00m\n\u001b[0;32m---> 34\u001b[0m obj \u001b[38;5;241m=\u001b[39m \u001b[38;5;28;43mgetattr\u001b[39;49m\u001b[43m(\u001b[49m\u001b[43mresults\u001b[49m\u001b[43m,\u001b[49m\u001b[43m \u001b[49m\u001b[43mattr\u001b[49m\u001b[43m)\u001b[49m\n\u001b[1;32m     35\u001b[0m data \u001b[38;5;241m=\u001b[39m results\u001b[38;5;241m.\u001b[39mmodel\u001b[38;5;241m.\u001b[39mdata\n\u001b[1;32m     36\u001b[0m how \u001b[38;5;241m=\u001b[39m \u001b[38;5;28mself\u001b[39m\u001b[38;5;241m.\u001b[39m_wrap_attrs\u001b[38;5;241m.\u001b[39mget(attr)\n",
      "\u001b[0;31mAttributeError\u001b[0m: 'OLSResults' object has no attribute 'fit'"
     ]
    }
   ],
   "source": [
    "logcatmodel2 = logcatmodel2.fit()\n",
    "print(logcatmodel2.params)"
   ]
  },
  {
   "cell_type": "code",
   "execution_count": null,
   "metadata": {},
   "outputs": [],
   "source": []
  },
  {
   "cell_type": "code",
   "execution_count": null,
   "metadata": {},
   "outputs": [],
   "source": []
  },
  {
   "cell_type": "markdown",
   "metadata": {},
   "source": [
    "#### Simplest model using Y (not log)"
   ]
  },
  {
   "cell_type": "code",
   "execution_count": 67,
   "metadata": {},
   "outputs": [
    {
     "name": "stdout",
     "output_type": "stream",
     "text": [
      "Intercept         -471.496962\n",
      "Target_EBITDA        8.794394\n",
      "Target_Revenues      0.562240\n",
      "dtype: float64\n"
     ]
    }
   ],
   "source": [
    "model = smf.ols(formula = 'Target_EV ~ Target_EBITDA + Target_Revenues', data=df)\n",
    "model = model.fit()\n",
    "print(model.params)"
   ]
  },
  {
   "cell_type": "code",
   "execution_count": 68,
   "metadata": {},
   "outputs": [
    {
     "data": {
      "text/html": [
       "<table class=\"simpletable\">\n",
       "<caption>OLS Regression Results</caption>\n",
       "<tr>\n",
       "  <th>Dep. Variable:</th>        <td>Target_EV</td>    <th>  R-squared:         </th>  <td>   0.647</td>  \n",
       "</tr>\n",
       "<tr>\n",
       "  <th>Model:</th>                   <td>OLS</td>       <th>  Adj. R-squared:    </th>  <td>   0.647</td>  \n",
       "</tr>\n",
       "<tr>\n",
       "  <th>Method:</th>             <td>Least Squares</td>  <th>  F-statistic:       </th>  <td>1.004e+04</td> \n",
       "</tr>\n",
       "<tr>\n",
       "  <th>Date:</th>             <td>Wed, 04 Sep 2024</td> <th>  Prob (F-statistic):</th>   <td>  0.00</td>   \n",
       "</tr>\n",
       "<tr>\n",
<<<<<<< HEAD
       "  <th>Time:</th>                 <td>11:05:06</td>     <th>  Log-Likelihood:    </th> <td>-1.2498e+05</td>\n",
=======
       "  <th>Time:</th>                 <td>16:26:52</td>     <th>  Log-Likelihood:    </th> <td>-1.2745e+05</td>\n",
>>>>>>> 53aea0c1d51bc0c4a4cd82dac7a618d60c096d25
       "</tr>\n",
       "<tr>\n",
       "  <th>No. Observations:</th>      <td> 10951</td>      <th>  AIC:               </th>  <td>2.549e+05</td> \n",
       "</tr>\n",
       "<tr>\n",
       "  <th>Df Residuals:</th>          <td> 10948</td>      <th>  BIC:               </th>  <td>2.549e+05</td> \n",
       "</tr>\n",
       "<tr>\n",
       "  <th>Df Model:</th>              <td>     2</td>      <th>                     </th>      <td> </td>     \n",
       "</tr>\n",
       "<tr>\n",
       "  <th>Covariance Type:</th>      <td>nonrobust</td>    <th>                     </th>      <td> </td>     \n",
       "</tr>\n",
       "</table>\n",
       "<table class=\"simpletable\">\n",
       "<tr>\n",
       "         <td></td>            <th>coef</th>     <th>std err</th>      <th>t</th>      <th>P>|t|</th>  <th>[0.025</th>    <th>0.975]</th>  \n",
       "</tr>\n",
       "<tr>\n",
       "  <th>Intercept</th>       <td> -471.4970</td> <td>  267.143</td> <td>   -1.765</td> <td> 0.078</td> <td> -995.145</td> <td>   52.151</td>\n",
       "</tr>\n",
       "<tr>\n",
       "  <th>Target_EBITDA</th>   <td>    8.7944</td> <td>    0.115</td> <td>   76.675</td> <td> 0.000</td> <td>    8.570</td> <td>    9.019</td>\n",
       "</tr>\n",
       "<tr>\n",
       "  <th>Target_Revenues</th> <td>    0.5622</td> <td>    0.030</td> <td>   18.931</td> <td> 0.000</td> <td>    0.504</td> <td>    0.620</td>\n",
       "</tr>\n",
       "</table>\n",
       "<table class=\"simpletable\">\n",
       "<tr>\n",
       "  <th>Omnibus:</th>       <td>20865.796</td> <th>  Durbin-Watson:     </th>   <td>   1.892</td>   \n",
       "</tr>\n",
       "<tr>\n",
       "  <th>Prob(Omnibus):</th>  <td> 0.000</td>   <th>  Jarque-Bera (JB):  </th> <td>785058349.714</td>\n",
       "</tr>\n",
       "<tr>\n",
       "  <th>Skew:</th>           <td>13.457</td>   <th>  Prob(JB):          </th>   <td>    0.00</td>   \n",
       "</tr>\n",
       "<tr>\n",
       "  <th>Kurtosis:</th>      <td>1314.409</td>  <th>  Cond. No.          </th>   <td>1.44e+04</td>   \n",
       "</tr>\n",
       "</table><br/><br/>Notes:<br/>[1] Standard Errors assume that the covariance matrix of the errors is correctly specified.<br/>[2] The condition number is large, 1.44e+04. This might indicate that there are<br/>strong multicollinearity or other numerical problems."
      ],
      "text/latex": [
       "\\begin{center}\n",
       "\\begin{tabular}{lclc}\n",
       "\\toprule\n",
<<<<<<< HEAD
       "\\textbf{Dep. Variable:}    &    Target\\_EV    & \\textbf{  R-squared:         } &       0.651    \\\\\n",
       "\\textbf{Model:}            &       OLS        & \\textbf{  Adj. R-squared:    } &       0.651    \\\\\n",
       "\\textbf{Method:}           &  Least Squares   & \\textbf{  F-statistic:       } &   1.001e+04    \\\\\n",
       "\\textbf{Date:}             & Wed, 04 Sep 2024 & \\textbf{  Prob (F-statistic):} &       0.00     \\\\\n",
       "\\textbf{Time:}             &     11:05:06     & \\textbf{  Log-Likelihood:    } &  -1.2498e+05   \\\\\n",
       "\\textbf{No. Observations:} &       10740      & \\textbf{  AIC:               } &   2.500e+05    \\\\\n",
       "\\textbf{Df Residuals:}     &       10737      & \\textbf{  BIC:               } &   2.500e+05    \\\\\n",
=======
       "\\textbf{Dep. Variable:}    &    Target\\_EV    & \\textbf{  R-squared:         } &       0.647    \\\\\n",
       "\\textbf{Model:}            &       OLS        & \\textbf{  Adj. R-squared:    } &       0.647    \\\\\n",
       "\\textbf{Method:}           &  Least Squares   & \\textbf{  F-statistic:       } &   1.004e+04    \\\\\n",
       "\\textbf{Date:}             & Tue, 03 Sep 2024 & \\textbf{  Prob (F-statistic):} &       0.00     \\\\\n",
       "\\textbf{Time:}             &     16:26:52     & \\textbf{  Log-Likelihood:    } &  -1.2745e+05   \\\\\n",
       "\\textbf{No. Observations:} &       10951      & \\textbf{  AIC:               } &   2.549e+05    \\\\\n",
       "\\textbf{Df Residuals:}     &       10948      & \\textbf{  BIC:               } &   2.549e+05    \\\\\n",
>>>>>>> 53aea0c1d51bc0c4a4cd82dac7a618d60c096d25
       "\\textbf{Df Model:}         &           2      & \\textbf{                     } &                \\\\\n",
       "\\textbf{Covariance Type:}  &    nonrobust     & \\textbf{                     } &                \\\\\n",
       "\\bottomrule\n",
       "\\end{tabular}\n",
       "\\begin{tabular}{lcccccc}\n",
       "                          & \\textbf{coef} & \\textbf{std err} & \\textbf{t} & \\textbf{P$> |$t$|$} & \\textbf{[0.025} & \\textbf{0.975]}  \\\\\n",
       "\\midrule\n",
       "\\textbf{Intercept}        &    -471.4970  &      267.143     &    -1.765  &         0.078        &     -995.145    &       52.151     \\\\\n",
       "\\textbf{Target\\_EBITDA}   &       8.7944  &        0.115     &    76.675  &         0.000        &        8.570    &        9.019     \\\\\n",
       "\\textbf{Target\\_Revenues} &       0.5622  &        0.030     &    18.931  &         0.000        &        0.504    &        0.620     \\\\\n",
       "\\bottomrule\n",
       "\\end{tabular}\n",
       "\\begin{tabular}{lclc}\n",
       "\\textbf{Omnibus:}       & 20865.796 & \\textbf{  Durbin-Watson:     } &       1.892    \\\\\n",
       "\\textbf{Prob(Omnibus):} &    0.000  & \\textbf{  Jarque-Bera (JB):  } & 785058349.714  \\\\\n",
       "\\textbf{Skew:}          &   13.457  & \\textbf{  Prob(JB):          } &        0.00    \\\\\n",
       "\\textbf{Kurtosis:}      &  1314.409 & \\textbf{  Cond. No.          } &    1.44e+04    \\\\\n",
       "\\bottomrule\n",
       "\\end{tabular}\n",
       "%\\caption{OLS Regression Results}\n",
       "\\end{center}\n",
       "\n",
       "Notes: \\newline\n",
       " [1] Standard Errors assume that the covariance matrix of the errors is correctly specified. \\newline\n",
       " [2] The condition number is large, 1.44e+04. This might indicate that there are \\newline\n",
       " strong multicollinearity or other numerical problems."
      ],
      "text/plain": [
       "<class 'statsmodels.iolib.summary.Summary'>\n",
       "\"\"\"\n",
       "                            OLS Regression Results                            \n",
       "==============================================================================\n",
<<<<<<< HEAD
       "Dep. Variable:              Target_EV   R-squared:                       0.651\n",
       "Model:                            OLS   Adj. R-squared:                  0.651\n",
       "Method:                 Least Squares   F-statistic:                 1.001e+04\n",
       "Date:                Wed, 04 Sep 2024   Prob (F-statistic):               0.00\n",
       "Time:                        11:05:06   Log-Likelihood:            -1.2498e+05\n",
       "No. Observations:               10740   AIC:                         2.500e+05\n",
       "Df Residuals:                   10737   BIC:                         2.500e+05\n",
=======
       "Dep. Variable:              Target_EV   R-squared:                       0.647\n",
       "Model:                            OLS   Adj. R-squared:                  0.647\n",
       "Method:                 Least Squares   F-statistic:                 1.004e+04\n",
       "Date:                Tue, 03 Sep 2024   Prob (F-statistic):               0.00\n",
       "Time:                        16:26:52   Log-Likelihood:            -1.2745e+05\n",
       "No. Observations:               10951   AIC:                         2.549e+05\n",
       "Df Residuals:                   10948   BIC:                         2.549e+05\n",
>>>>>>> 53aea0c1d51bc0c4a4cd82dac7a618d60c096d25
       "Df Model:                           2                                         \n",
       "Covariance Type:            nonrobust                                         \n",
       "===================================================================================\n",
       "                      coef    std err          t      P>|t|      [0.025      0.975]\n",
       "-----------------------------------------------------------------------------------\n",
       "Intercept        -471.4970    267.143     -1.765      0.078    -995.145      52.151\n",
       "Target_EBITDA       8.7944      0.115     76.675      0.000       8.570       9.019\n",
       "Target_Revenues     0.5622      0.030     18.931      0.000       0.504       0.620\n",
       "==============================================================================\n",
       "Omnibus:                    20865.796   Durbin-Watson:                   1.892\n",
       "Prob(Omnibus):                  0.000   Jarque-Bera (JB):        785058349.714\n",
       "Skew:                          13.457   Prob(JB):                         0.00\n",
       "Kurtosis:                    1314.409   Cond. No.                     1.44e+04\n",
       "==============================================================================\n",
       "\n",
       "Notes:\n",
       "[1] Standard Errors assume that the covariance matrix of the errors is correctly specified.\n",
       "[2] The condition number is large, 1.44e+04. This might indicate that there are\n",
       "strong multicollinearity or other numerical problems.\n",
       "\"\"\""
      ]
     },
     "execution_count": 68,
     "metadata": {},
     "output_type": "execute_result"
    }
   ],
   "source": [
    "model.summary()"
   ]
  },
  {
   "cell_type": "markdown",
   "metadata": {},
   "source": [
    "### Rerun log-model with removing outliers"
   ]
  },
  {
   "cell_type": "code",
   "execution_count": 69,
   "metadata": {},
   "outputs": [
    {
     "data": {
      "text/plain": [
       "(10341, 40)"
      ]
     },
     "execution_count": 69,
     "metadata": {},
     "output_type": "execute_result"
    }
   ],
   "source": [
    "#Keep EV_Rev < 100\n",
    "df = df[df['EV_Rev'] < 20] # was 100\n",
    "#Keep EV_EBITDA >-100 and <500\n",
    "df = df[df['EV_EBITDA'] > 0] # was -100\n",
    "df = df[df['EV_EBITDA'] < 50] # was 500\n",
    "df.shape"
   ]
  },
  {
   "cell_type": "markdown",
   "metadata": {},
   "source": [
    "- 14776 - 10341 = 4435 removed"
   ]
  },
  {
   "cell_type": "code",
   "execution_count": 70,
   "metadata": {},
   "outputs": [
    {
     "name": "stdout",
     "output_type": "stream",
     "text": [
      "Intercept          5.644237\n",
      "Target_EBITDA      0.000067\n",
      "Target_Revenues    0.000050\n",
      "dtype: float64\n"
     ]
    }
   ],
   "source": [
    "logmodel = smf.ols(formula = 'log_Target_EV ~ Target_EBITDA + Target_Revenues', data=df)\n",
    "logmodel = logmodel.fit()\n",
    "print(logmodel.params)"
   ]
  },
  {
   "cell_type": "code",
   "execution_count": 71,
   "metadata": {},
   "outputs": [
    {
     "data": {
      "text/html": [
       "<table class=\"simpletable\">\n",
       "<caption>OLS Regression Results</caption>\n",
       "<tr>\n",
       "  <th>Dep. Variable:</th>      <td>log_Target_EV</td>  <th>  R-squared:         </th> <td>   0.126</td> \n",
       "</tr>\n",
       "<tr>\n",
       "  <th>Model:</th>                   <td>OLS</td>       <th>  Adj. R-squared:    </th> <td>   0.126</td> \n",
       "</tr>\n",
       "<tr>\n",
       "  <th>Method:</th>             <td>Least Squares</td>  <th>  F-statistic:       </th> <td>   745.6</td> \n",
       "</tr>\n",
       "<tr>\n",
       "  <th>Date:</th>             <td>Wed, 04 Sep 2024</td> <th>  Prob (F-statistic):</th> <td>3.18e-303</td>\n",
       "</tr>\n",
       "<tr>\n",
<<<<<<< HEAD
       "  <th>Time:</th>                 <td>11:05:06</td>     <th>  Log-Likelihood:    </th> <td> -23610.</td> \n",
=======
       "  <th>Time:</th>                 <td>16:26:53</td>     <th>  Log-Likelihood:    </th> <td> -23610.</td> \n",
>>>>>>> 53aea0c1d51bc0c4a4cd82dac7a618d60c096d25
       "</tr>\n",
       "<tr>\n",
       "  <th>No. Observations:</th>      <td> 10341</td>      <th>  AIC:               </th> <td>4.723e+04</td>\n",
       "</tr>\n",
       "<tr>\n",
       "  <th>Df Residuals:</th>          <td> 10338</td>      <th>  BIC:               </th> <td>4.725e+04</td>\n",
       "</tr>\n",
       "<tr>\n",
       "  <th>Df Model:</th>              <td>     2</td>      <th>                     </th>     <td> </td>    \n",
       "</tr>\n",
       "<tr>\n",
       "  <th>Covariance Type:</th>      <td>nonrobust</td>    <th>                     </th>     <td> </td>    \n",
       "</tr>\n",
       "</table>\n",
       "<table class=\"simpletable\">\n",
       "<tr>\n",
       "         <td></td>            <th>coef</th>     <th>std err</th>      <th>t</th>      <th>P>|t|</th>  <th>[0.025</th>    <th>0.975]</th>  \n",
       "</tr>\n",
       "<tr>\n",
       "  <th>Intercept</th>       <td>    5.6442</td> <td>    0.024</td> <td>  237.050</td> <td> 0.000</td> <td>    5.598</td> <td>    5.691</td>\n",
       "</tr>\n",
       "<tr>\n",
       "  <th>Target_EBITDA</th>   <td>  6.73e-05</td> <td> 9.94e-06</td> <td>    6.773</td> <td> 0.000</td> <td> 4.78e-05</td> <td> 8.68e-05</td>\n",
       "</tr>\n",
       "<tr>\n",
       "  <th>Target_Revenues</th> <td> 5.023e-05</td> <td> 2.57e-06</td> <td>   19.510</td> <td> 0.000</td> <td> 4.52e-05</td> <td> 5.53e-05</td>\n",
       "</tr>\n",
       "</table>\n",
       "<table class=\"simpletable\">\n",
       "<tr>\n",
       "  <th>Omnibus:</th>       <td>382.406</td> <th>  Durbin-Watson:     </th> <td>   0.246</td>\n",
       "</tr>\n",
       "<tr>\n",
       "  <th>Prob(Omnibus):</th> <td> 0.000</td>  <th>  Jarque-Bera (JB):  </th> <td> 431.904</td>\n",
       "</tr>\n",
       "<tr>\n",
       "  <th>Skew:</th>          <td>-0.467</td>  <th>  Prob(JB):          </th> <td>1.63e-94</td>\n",
       "</tr>\n",
       "<tr>\n",
       "  <th>Kurtosis:</th>      <td> 3.362</td>  <th>  Cond. No.          </th> <td>1.48e+04</td>\n",
       "</tr>\n",
       "</table><br/><br/>Notes:<br/>[1] Standard Errors assume that the covariance matrix of the errors is correctly specified.<br/>[2] The condition number is large, 1.48e+04. This might indicate that there are<br/>strong multicollinearity or other numerical problems."
      ],
      "text/latex": [
       "\\begin{center}\n",
       "\\begin{tabular}{lclc}\n",
       "\\toprule\n",
       "\\textbf{Dep. Variable:}    & log\\_Target\\_EV  & \\textbf{  R-squared:         } &     0.126   \\\\\n",
       "\\textbf{Model:}            &       OLS        & \\textbf{  Adj. R-squared:    } &     0.126   \\\\\n",
       "\\textbf{Method:}           &  Least Squares   & \\textbf{  F-statistic:       } &     745.6   \\\\\n",
<<<<<<< HEAD
       "\\textbf{Date:}             & Wed, 04 Sep 2024 & \\textbf{  Prob (F-statistic):} & 3.18e-303   \\\\\n",
       "\\textbf{Time:}             &     11:05:06     & \\textbf{  Log-Likelihood:    } &   -23610.   \\\\\n",
=======
       "\\textbf{Date:}             & Tue, 03 Sep 2024 & \\textbf{  Prob (F-statistic):} & 3.18e-303   \\\\\n",
       "\\textbf{Time:}             &     16:26:53     & \\textbf{  Log-Likelihood:    } &   -23610.   \\\\\n",
>>>>>>> 53aea0c1d51bc0c4a4cd82dac7a618d60c096d25
       "\\textbf{No. Observations:} &       10341      & \\textbf{  AIC:               } & 4.723e+04   \\\\\n",
       "\\textbf{Df Residuals:}     &       10338      & \\textbf{  BIC:               } & 4.725e+04   \\\\\n",
       "\\textbf{Df Model:}         &           2      & \\textbf{                     } &             \\\\\n",
       "\\textbf{Covariance Type:}  &    nonrobust     & \\textbf{                     } &             \\\\\n",
       "\\bottomrule\n",
       "\\end{tabular}\n",
       "\\begin{tabular}{lcccccc}\n",
       "                          & \\textbf{coef} & \\textbf{std err} & \\textbf{t} & \\textbf{P$> |$t$|$} & \\textbf{[0.025} & \\textbf{0.975]}  \\\\\n",
       "\\midrule\n",
       "\\textbf{Intercept}        &       5.6442  &        0.024     &   237.050  &         0.000        &        5.598    &        5.691     \\\\\n",
       "\\textbf{Target\\_EBITDA}   &     6.73e-05  &     9.94e-06     &     6.773  &         0.000        &     4.78e-05    &     8.68e-05     \\\\\n",
       "\\textbf{Target\\_Revenues} &    5.023e-05  &     2.57e-06     &    19.510  &         0.000        &     4.52e-05    &     5.53e-05     \\\\\n",
       "\\bottomrule\n",
       "\\end{tabular}\n",
       "\\begin{tabular}{lclc}\n",
       "\\textbf{Omnibus:}       & 382.406 & \\textbf{  Durbin-Watson:     } &    0.246  \\\\\n",
       "\\textbf{Prob(Omnibus):} &   0.000 & \\textbf{  Jarque-Bera (JB):  } &  431.904  \\\\\n",
       "\\textbf{Skew:}          &  -0.467 & \\textbf{  Prob(JB):          } & 1.63e-94  \\\\\n",
       "\\textbf{Kurtosis:}      &   3.362 & \\textbf{  Cond. No.          } & 1.48e+04  \\\\\n",
       "\\bottomrule\n",
       "\\end{tabular}\n",
       "%\\caption{OLS Regression Results}\n",
       "\\end{center}\n",
       "\n",
       "Notes: \\newline\n",
       " [1] Standard Errors assume that the covariance matrix of the errors is correctly specified. \\newline\n",
       " [2] The condition number is large, 1.48e+04. This might indicate that there are \\newline\n",
       " strong multicollinearity or other numerical problems."
      ],
      "text/plain": [
       "<class 'statsmodels.iolib.summary.Summary'>\n",
       "\"\"\"\n",
       "                            OLS Regression Results                            \n",
       "==============================================================================\n",
       "Dep. Variable:          log_Target_EV   R-squared:                       0.126\n",
       "Model:                            OLS   Adj. R-squared:                  0.126\n",
       "Method:                 Least Squares   F-statistic:                     745.6\n",
<<<<<<< HEAD
       "Date:                Wed, 04 Sep 2024   Prob (F-statistic):          3.18e-303\n",
       "Time:                        11:05:06   Log-Likelihood:                -23610.\n",
=======
       "Date:                Tue, 03 Sep 2024   Prob (F-statistic):          3.18e-303\n",
       "Time:                        16:26:53   Log-Likelihood:                -23610.\n",
>>>>>>> 53aea0c1d51bc0c4a4cd82dac7a618d60c096d25
       "No. Observations:               10341   AIC:                         4.723e+04\n",
       "Df Residuals:                   10338   BIC:                         4.725e+04\n",
       "Df Model:                           2                                         \n",
       "Covariance Type:            nonrobust                                         \n",
       "===================================================================================\n",
       "                      coef    std err          t      P>|t|      [0.025      0.975]\n",
       "-----------------------------------------------------------------------------------\n",
       "Intercept           5.6442      0.024    237.050      0.000       5.598       5.691\n",
       "Target_EBITDA     6.73e-05   9.94e-06      6.773      0.000    4.78e-05    8.68e-05\n",
       "Target_Revenues  5.023e-05   2.57e-06     19.510      0.000    4.52e-05    5.53e-05\n",
       "==============================================================================\n",
       "Omnibus:                      382.406   Durbin-Watson:                   0.246\n",
       "Prob(Omnibus):                  0.000   Jarque-Bera (JB):              431.904\n",
       "Skew:                          -0.467   Prob(JB):                     1.63e-94\n",
       "Kurtosis:                       3.362   Cond. No.                     1.48e+04\n",
       "==============================================================================\n",
       "\n",
       "Notes:\n",
       "[1] Standard Errors assume that the covariance matrix of the errors is correctly specified.\n",
       "[2] The condition number is large, 1.48e+04. This might indicate that there are\n",
       "strong multicollinearity or other numerical problems.\n",
       "\"\"\""
      ]
     },
     "execution_count": 71,
     "metadata": {},
     "output_type": "execute_result"
    }
   ],
   "source": [
    "logmodel.summary()"
   ]
  },
  {
   "cell_type": "code",
   "execution_count": 72,
   "metadata": {},
   "outputs": [
    {
     "data": {
      "text/plain": [
       "array([[1.        , 0.28216323],\n",
       "       [0.28216323, 1.        ]])"
      ]
     },
     "execution_count": 72,
     "metadata": {},
     "output_type": "execute_result"
    }
   ],
   "source": [
    "np.corrcoef(np.exp(logmodel.fittedvalues),np.exp(df.log_Target_EV))**2"
   ]
  },
  {
   "cell_type": "code",
   "execution_count": 73,
   "metadata": {},
   "outputs": [
    {
     "data": {
      "text/html": [
       "<div>\n",
       "<style scoped>\n",
       "    .dataframe tbody tr th:only-of-type {\n",
       "        vertical-align: middle;\n",
       "    }\n",
       "\n",
       "    .dataframe tbody tr th {\n",
       "        vertical-align: top;\n",
       "    }\n",
       "\n",
       "    .dataframe thead th {\n",
       "        text-align: right;\n",
       "    }\n",
       "</style>\n",
       "<table border=\"1\" class=\"dataframe\">\n",
       "  <thead>\n",
       "    <tr style=\"text-align: right;\">\n",
       "      <th></th>\n",
       "      <th>Date</th>\n",
       "      <th>Target_Name</th>\n",
       "      <th>Target_Industry_Mid</th>\n",
       "      <th>Target_Nation</th>\n",
       "      <th>Buyer_Name</th>\n",
       "      <th>Buyer_Industry_Macro</th>\n",
       "      <th>Buyer_Industry_Mid</th>\n",
       "      <th>Buyer_Nation</th>\n",
       "      <th>Target_Revenues</th>\n",
       "      <th>Target_EBITDA</th>\n",
       "      <th>...</th>\n",
       "      <th>Target_Industry_Macro_Industrials</th>\n",
       "      <th>Target_Industry_Macro_Materials</th>\n",
       "      <th>Target_Industry_Macro_Media and Entertainment</th>\n",
       "      <th>Target_Industry_Macro_Real Estate</th>\n",
       "      <th>Target_Industry_Macro_Retail</th>\n",
       "      <th>Target_Industry_Macro_Telecommunications</th>\n",
       "      <th>Target_Status_Public</th>\n",
       "      <th>log_Target_EV</th>\n",
       "      <th>log_Target_EBITDA</th>\n",
       "      <th>log_Target_Revenues</th>\n",
       "    </tr>\n",
       "  </thead>\n",
       "  <tbody>\n",
       "    <tr>\n",
       "      <th>3</th>\n",
       "      <td>2024-08-03</td>\n",
       "      <td>Big Cheese Studio SA</td>\n",
       "      <td>Software</td>\n",
       "      <td>Poland</td>\n",
       "      <td>Investor Group</td>\n",
       "      <td>Financials</td>\n",
       "      <td>Other Financials</td>\n",
       "      <td>Poland</td>\n",
       "      <td>2.71</td>\n",
       "      <td>1.05</td>\n",
       "      <td>...</td>\n",
       "      <td>0</td>\n",
       "      <td>0</td>\n",
       "      <td>0</td>\n",
       "      <td>0</td>\n",
       "      <td>0</td>\n",
       "      <td>0</td>\n",
       "      <td>1</td>\n",
       "      <td>2.423917</td>\n",
       "      <td>0.048790</td>\n",
       "      <td>0.996949</td>\n",
       "    </tr>\n",
       "    <tr>\n",
       "      <th>6</th>\n",
       "      <td>2024-07-31</td>\n",
       "      <td>Lusa Agencia De Noticias De Portugal Sa</td>\n",
       "      <td>Publishing</td>\n",
       "      <td>Portugal</td>\n",
       "      <td>Republic of Portugal</td>\n",
       "      <td>Government and Agencies</td>\n",
       "      <td>National Government</td>\n",
       "      <td>Portugal</td>\n",
       "      <td>17.20</td>\n",
       "      <td>0.84</td>\n",
       "      <td>...</td>\n",
       "      <td>0</td>\n",
       "      <td>0</td>\n",
       "      <td>1</td>\n",
       "      <td>0</td>\n",
       "      <td>0</td>\n",
       "      <td>0</td>\n",
       "      <td>0</td>\n",
       "      <td>1.640937</td>\n",
       "      <td>-0.174353</td>\n",
       "      <td>2.844909</td>\n",
       "    </tr>\n",
       "    <tr>\n",
       "      <th>9</th>\n",
       "      <td>2024-07-17</td>\n",
       "      <td>Jelsingrad Livar Livnica Celika Ad Banja Luka</td>\n",
       "      <td>Metals &amp; Mining</td>\n",
       "      <td>Bosnia and Herzegovina</td>\n",
       "      <td>Bll Steel Doo</td>\n",
       "      <td>Materials</td>\n",
       "      <td>Metals &amp; Mining</td>\n",
       "      <td>Bosnia and Herzegovina</td>\n",
       "      <td>5.44</td>\n",
       "      <td>0.44</td>\n",
       "      <td>...</td>\n",
       "      <td>0</td>\n",
       "      <td>1</td>\n",
       "      <td>0</td>\n",
       "      <td>0</td>\n",
       "      <td>0</td>\n",
       "      <td>0</td>\n",
       "      <td>1</td>\n",
       "      <td>-2.207275</td>\n",
       "      <td>-0.820981</td>\n",
       "      <td>1.693779</td>\n",
       "    </tr>\n",
       "    <tr>\n",
       "      <th>11</th>\n",
       "      <td>2024-07-12</td>\n",
       "      <td>Stil Termica Termo Idraulica Laziale Srl</td>\n",
       "      <td>Building/Construction &amp; Engineering</td>\n",
       "      <td>Italy</td>\n",
       "      <td>Renovalo SpA</td>\n",
       "      <td>Industrials</td>\n",
       "      <td>Building/Construction &amp; Engineering</td>\n",
       "      <td>Italy</td>\n",
       "      <td>1.16</td>\n",
       "      <td>0.39</td>\n",
       "      <td>...</td>\n",
       "      <td>1</td>\n",
       "      <td>0</td>\n",
       "      <td>0</td>\n",
       "      <td>0</td>\n",
       "      <td>0</td>\n",
       "      <td>0</td>\n",
       "      <td>0</td>\n",
       "      <td>-2.207275</td>\n",
       "      <td>-0.941609</td>\n",
       "      <td>0.148420</td>\n",
       "    </tr>\n",
       "    <tr>\n",
       "      <th>12</th>\n",
       "      <td>2024-07-11</td>\n",
       "      <td>Resscapital AB</td>\n",
       "      <td>Other Financials</td>\n",
       "      <td>Sweden</td>\n",
       "      <td>Mangold AB</td>\n",
       "      <td>Financials</td>\n",
       "      <td>Brokerage</td>\n",
       "      <td>Sweden</td>\n",
       "      <td>8.33</td>\n",
       "      <td>5.76</td>\n",
       "      <td>...</td>\n",
       "      <td>0</td>\n",
       "      <td>0</td>\n",
       "      <td>0</td>\n",
       "      <td>0</td>\n",
       "      <td>0</td>\n",
       "      <td>0</td>\n",
       "      <td>0</td>\n",
       "      <td>2.334084</td>\n",
       "      <td>1.750937</td>\n",
       "      <td>2.119863</td>\n",
       "    </tr>\n",
       "  </tbody>\n",
       "</table>\n",
       "<p>5 rows × 40 columns</p>\n",
       "</div>"
      ],
      "text/plain": [
       "         Date                                    Target_Name  \\\n",
       "3  2024-08-03                           Big Cheese Studio SA   \n",
       "6  2024-07-31        Lusa Agencia De Noticias De Portugal Sa   \n",
       "9  2024-07-17  Jelsingrad Livar Livnica Celika Ad Banja Luka   \n",
       "11 2024-07-12       Stil Termica Termo Idraulica Laziale Srl   \n",
       "12 2024-07-11                                 Resscapital AB   \n",
       "\n",
       "                    Target_Industry_Mid           Target_Nation  \\\n",
       "3                              Software                  Poland   \n",
       "6                            Publishing                Portugal   \n",
       "9                       Metals & Mining  Bosnia and Herzegovina   \n",
       "11  Building/Construction & Engineering                   Italy   \n",
       "12                     Other Financials                  Sweden   \n",
       "\n",
       "              Buyer_Name     Buyer_Industry_Macro  \\\n",
       "3         Investor Group               Financials   \n",
       "6   Republic of Portugal  Government and Agencies   \n",
       "9          Bll Steel Doo                Materials   \n",
       "11          Renovalo SpA              Industrials   \n",
       "12            Mangold AB               Financials   \n",
       "\n",
       "                     Buyer_Industry_Mid            Buyer_Nation  \\\n",
       "3                      Other Financials                  Poland   \n",
       "6                   National Government                Portugal   \n",
       "9                       Metals & Mining  Bosnia and Herzegovina   \n",
       "11  Building/Construction & Engineering                   Italy   \n",
       "12                            Brokerage                  Sweden   \n",
       "\n",
       "    Target_Revenues  Target_EBITDA  ...  Target_Industry_Macro_Industrials  \\\n",
       "3              2.71           1.05  ...                                  0   \n",
       "6             17.20           0.84  ...                                  0   \n",
       "9              5.44           0.44  ...                                  0   \n",
       "11             1.16           0.39  ...                                  1   \n",
       "12             8.33           5.76  ...                                  0   \n",
       "\n",
       "   Target_Industry_Macro_Materials  \\\n",
       "3                                0   \n",
       "6                                0   \n",
       "9                                1   \n",
       "11                               0   \n",
       "12                               0   \n",
       "\n",
       "    Target_Industry_Macro_Media and Entertainment  \\\n",
       "3                                               0   \n",
       "6                                               1   \n",
       "9                                               0   \n",
       "11                                              0   \n",
       "12                                              0   \n",
       "\n",
       "    Target_Industry_Macro_Real Estate  Target_Industry_Macro_Retail  \\\n",
       "3                                   0                             0   \n",
       "6                                   0                             0   \n",
       "9                                   0                             0   \n",
       "11                                  0                             0   \n",
       "12                                  0                             0   \n",
       "\n",
       "   Target_Industry_Macro_Telecommunications Target_Status_Public  \\\n",
       "3                                         0                    1   \n",
       "6                                         0                    0   \n",
       "9                                         0                    1   \n",
       "11                                        0                    0   \n",
       "12                                        0                    0   \n",
       "\n",
       "   log_Target_EV  log_Target_EBITDA  log_Target_Revenues  \n",
       "3       2.423917           0.048790             0.996949  \n",
       "6       1.640937          -0.174353             2.844909  \n",
       "9      -2.207275          -0.820981             1.693779  \n",
       "11     -2.207275          -0.941609             0.148420  \n",
       "12      2.334084           1.750937             2.119863  \n",
       "\n",
       "[5 rows x 40 columns]"
      ]
     },
     "execution_count": 73,
     "metadata": {},
     "output_type": "execute_result"
    }
   ],
   "source": [
    "df.head()"
   ]
  },
  {
   "cell_type": "code",
   "execution_count": 74,
   "metadata": {},
   "outputs": [
    {
     "name": "stdout",
     "output_type": "stream",
     "text": [
      "Performance on Training Data:\n",
      "Root Mean Squared Error (Train): 0.6793652094249516\n",
      "R^2 Score (Train): 0.9286464975712236\n",
      "\n",
      "Performance on Testing Data:\n",
      "Root Mean Squared Error (Test): 0.7688431167011307\n",
      "R^2 Score (Train): 0.9286464975712236\n",
      "\n",
      "R^2 Score (Test) in Original Scale:\n",
      "R^2 Score (Test) in Original Scale: 0.5955669327275137\n"
     ]
    }
   ],
   "source": [
    "import xgboost as xgb\n",
    "from sklearn.model_selection import train_test_split\n",
    "from sklearn.metrics import mean_squared_error\n",
    "\n",
    "\n",
    "df['log_Target_EBITDA'] = df['Target_EBITDA'].apply(lambda x: np.log(x))\n",
    "df['log_Target_Revenues'] = df['Target_Revenues'].apply(lambda x: np.log(x))\n",
    "\n",
    "X = df[['log_Target_Revenues',\n",
    "        'log_Target_EBITDA',\n",
    "        'Target_Region_Eastern Europe',\n",
    "        'Target_Region_Nordics',\n",
    "        'Target_Region_North America',\n",
    "        'Target_Region_Southern Europe',\n",
    "        'Target_Region_UK',\n",
    "        'Target_Region_Western Europe',\n",
    "        'Target_Industry_Macro_Consumer Products and Services',\n",
    "        'Target_Industry_Macro_Consumer Staples',\n",
    "        'Target_Industry_Macro_Energy and Power',\n",
    "        'Target_Industry_Macro_Financials',\n",
    "        'Target_Industry_Macro_Healthcare',\n",
    "        'Target_Industry_Macro_High Technology',\n",
    "        'Target_Industry_Macro_Industrials',\n",
    "        'Target_Industry_Macro_Materials',\n",
    "        'Target_Industry_Macro_Media and Entertainment',\n",
    "        'Target_Industry_Macro_Real Estate',\n",
    "        'Target_Industry_Macro_Retail',\n",
    "        'Target_Industry_Macro_Telecommunications']]\n",
    "y = df['log_Target_EV']\n",
    "\n",
    "#Split data\n",
    "X_train, X_test, Y_train, Y_test = train_test_split(X, y, test_size=0.2, random_state=42)\n",
    "\n",
    "# XGBoost\n",
    "model = xgb.XGBRegressor(objective='reg:squarederror', n_estimators=100, learning_rate=0.1, max_depth=5, random_state=42)\n",
    "\n",
    "# Trainning model\n",
    "model.fit(X_train, Y_train)\n",
    "\n",
    "# Predictions\n",
    "y_train_pred = model.predict(X_train)\n",
    "y_test_pred = model.predict(X_test)\n",
    "\n",
    "# RMSE y R^2 with  train\n",
    "train_rmse = np.sqrt(mean_squared_error(Y_train, y_train_pred))\n",
    "train_r2 = r2_score(Y_train, y_train_pred)\n",
    "\n",
    "# RMSE y R^2 with test\n",
    "test_rmse = np.sqrt(mean_squared_error(Y_test, y_test_pred))\n",
    "test_r2 = r2_score(Y_test, y_test_pred)\n",
    "\n",
    "\n",
    "# Metrics\n",
    "print('Performance on Training Data:')\n",
    "print(f'Root Mean Squared Error (Train): {train_rmse}')\n",
    "print(f'R^2 Score (Train): {train_r2}')\n",
    "print('\\nPerformance on Testing Data:')\n",
    "print(f'Root Mean Squared Error (Test): {test_rmse}')\n",
    "print(f'R^2 Score (Train): {train_r2}')\n",
    "\n",
    "# Re-transform logs to find R^2:\n",
    "y_test_pred_exp = np.exp(y_test_pred)\n",
    "Y_test_exp = np.exp(Y_test)\n",
    "\n",
    "# Calculate R^2 on the original scale\n",
    "correlation_matrix = np.corrcoef(y_test_pred_exp, Y_test_exp)\n",
    "r_squared_original_scale = correlation_matrix[0, 1] ** 2\n",
    "\n",
    "print('\\nR^2 Score (Test) in Original Scale:')\n",
    "print(f'R^2 Score (Test) in Original Scale: {r_squared_original_scale}')\n"
   ]
  },
  {
   "cell_type": "code",
   "execution_count": 75,
   "metadata": {},
   "outputs": [
    {
     "ename": "ValueError",
     "evalue": "all the input array dimensions for the concatenation axis must match exactly, but along dimension 1, the array at index 0 has size 2069 and the array at index 1 has size 3222",
     "output_type": "error",
     "traceback": [
      "\u001b[0;31m---------------------------------------------------------------------------\u001b[0m",
      "\u001b[0;31mValueError\u001b[0m                                Traceback (most recent call last)",
      "Cell \u001b[0;32mIn[75], line 1\u001b[0m\n\u001b[0;32m----> 1\u001b[0m \u001b[43mnp\u001b[49m\u001b[38;5;241;43m.\u001b[39;49m\u001b[43mcorrcoef\u001b[49m\u001b[43m(\u001b[49m\u001b[43mnp\u001b[49m\u001b[38;5;241;43m.\u001b[39;49m\u001b[43mexp\u001b[49m\u001b[43m(\u001b[49m\u001b[43my_test_pred\u001b[49m\u001b[43m)\u001b[49m\u001b[43m,\u001b[49m\u001b[43mnp\u001b[49m\u001b[38;5;241;43m.\u001b[39;49m\u001b[43mexp\u001b[49m\u001b[43m(\u001b[49m\u001b[43my_test\u001b[49m\u001b[43m)\u001b[49m\u001b[43m)\u001b[49m\u001b[38;5;241m*\u001b[39m\u001b[38;5;241m*\u001b[39m\u001b[38;5;241m2\u001b[39m\n",
      "File \u001b[0;32m<__array_function__ internals>:180\u001b[0m, in \u001b[0;36mcorrcoef\u001b[0;34m(*args, **kwargs)\u001b[0m\n",
      "File \u001b[0;32m~/.pyenv/versions/3.10.6/envs/ValToolenv/lib/python3.10/site-packages/numpy/lib/function_base.py:2845\u001b[0m, in \u001b[0;36mcorrcoef\u001b[0;34m(x, y, rowvar, bias, ddof, dtype)\u001b[0m\n\u001b[1;32m   2841\u001b[0m \u001b[38;5;28;01mif\u001b[39;00m bias \u001b[38;5;129;01mis\u001b[39;00m \u001b[38;5;129;01mnot\u001b[39;00m np\u001b[38;5;241m.\u001b[39m_NoValue \u001b[38;5;129;01mor\u001b[39;00m ddof \u001b[38;5;129;01mis\u001b[39;00m \u001b[38;5;129;01mnot\u001b[39;00m np\u001b[38;5;241m.\u001b[39m_NoValue:\n\u001b[1;32m   2842\u001b[0m     \u001b[38;5;66;03m# 2015-03-15, 1.10\u001b[39;00m\n\u001b[1;32m   2843\u001b[0m     warnings\u001b[38;5;241m.\u001b[39mwarn(\u001b[38;5;124m'\u001b[39m\u001b[38;5;124mbias and ddof have no effect and are deprecated\u001b[39m\u001b[38;5;124m'\u001b[39m,\n\u001b[1;32m   2844\u001b[0m                   \u001b[38;5;167;01mDeprecationWarning\u001b[39;00m, stacklevel\u001b[38;5;241m=\u001b[39m\u001b[38;5;241m3\u001b[39m)\n\u001b[0;32m-> 2845\u001b[0m c \u001b[38;5;241m=\u001b[39m \u001b[43mcov\u001b[49m\u001b[43m(\u001b[49m\u001b[43mx\u001b[49m\u001b[43m,\u001b[49m\u001b[43m \u001b[49m\u001b[43my\u001b[49m\u001b[43m,\u001b[49m\u001b[43m \u001b[49m\u001b[43mrowvar\u001b[49m\u001b[43m,\u001b[49m\u001b[43m \u001b[49m\u001b[43mdtype\u001b[49m\u001b[38;5;241;43m=\u001b[39;49m\u001b[43mdtype\u001b[49m\u001b[43m)\u001b[49m\n\u001b[1;32m   2846\u001b[0m \u001b[38;5;28;01mtry\u001b[39;00m:\n\u001b[1;32m   2847\u001b[0m     d \u001b[38;5;241m=\u001b[39m diag(c)\n",
      "File \u001b[0;32m<__array_function__ internals>:180\u001b[0m, in \u001b[0;36mcov\u001b[0;34m(*args, **kwargs)\u001b[0m\n",
      "File \u001b[0;32m~/.pyenv/versions/3.10.6/envs/ValToolenv/lib/python3.10/site-packages/numpy/lib/function_base.py:2639\u001b[0m, in \u001b[0;36mcov\u001b[0;34m(m, y, rowvar, bias, ddof, fweights, aweights, dtype)\u001b[0m\n\u001b[1;32m   2637\u001b[0m     \u001b[38;5;28;01mif\u001b[39;00m \u001b[38;5;129;01mnot\u001b[39;00m rowvar \u001b[38;5;129;01mand\u001b[39;00m y\u001b[38;5;241m.\u001b[39mshape[\u001b[38;5;241m0\u001b[39m] \u001b[38;5;241m!=\u001b[39m \u001b[38;5;241m1\u001b[39m:\n\u001b[1;32m   2638\u001b[0m         y \u001b[38;5;241m=\u001b[39m y\u001b[38;5;241m.\u001b[39mT\n\u001b[0;32m-> 2639\u001b[0m     X \u001b[38;5;241m=\u001b[39m \u001b[43mnp\u001b[49m\u001b[38;5;241;43m.\u001b[39;49m\u001b[43mconcatenate\u001b[49m\u001b[43m(\u001b[49m\u001b[43m(\u001b[49m\u001b[43mX\u001b[49m\u001b[43m,\u001b[49m\u001b[43m \u001b[49m\u001b[43my\u001b[49m\u001b[43m)\u001b[49m\u001b[43m,\u001b[49m\u001b[43m \u001b[49m\u001b[43maxis\u001b[49m\u001b[38;5;241;43m=\u001b[39;49m\u001b[38;5;241;43m0\u001b[39;49m\u001b[43m)\u001b[49m\n\u001b[1;32m   2641\u001b[0m \u001b[38;5;28;01mif\u001b[39;00m ddof \u001b[38;5;129;01mis\u001b[39;00m \u001b[38;5;28;01mNone\u001b[39;00m:\n\u001b[1;32m   2642\u001b[0m     \u001b[38;5;28;01mif\u001b[39;00m bias \u001b[38;5;241m==\u001b[39m \u001b[38;5;241m0\u001b[39m:\n",
      "File \u001b[0;32m<__array_function__ internals>:180\u001b[0m, in \u001b[0;36mconcatenate\u001b[0;34m(*args, **kwargs)\u001b[0m\n",
      "\u001b[0;31mValueError\u001b[0m: all the input array dimensions for the concatenation axis must match exactly, but along dimension 1, the array at index 0 has size 2069 and the array at index 1 has size 3222"
     ]
    }
   ],
   "source": [
    "np.corrcoef(np.exp(y_test_pred),np.exp(y_test))**2\n"
   ]
  },
  {
   "cell_type": "code",
   "execution_count": null,
   "metadata": {},
   "outputs": [
    {
     "name": "stdout",
     "output_type": "stream",
     "text": [
      "Performance on Training Data:\n",
      "Root Mean Squared Error (Train): 0.6555257826366765\n",
      "R^2 Score (Train): 0.9331698346291146\n",
      "\n",
      "Performance on Testing Data:\n",
      "Root Mean Squared Error (Test): 0.7728179516914614\n",
      "R^2 Score (Test): 0.9077544996890813\n",
      "\n",
      "R^2 Score (Test) in Original Scale:\n",
      "R^2 Score (Test) in Original Scale: 0.5707797857718941\n",
      "(3103,)\n",
      "(3222,)\n"
     ]
    }
   ],
   "source": [
    "from sklearn.ensemble import GradientBoostingRegressor\n",
    "\n",
    "# Apply log transformation to the variables\n",
    "df['log_Target_EBITDA'] = np.log(df['Target_EBITDA'])\n",
    "df['log_Target_Revenues'] = np.log(df['Target_Revenues'])\n",
    "\n",
    "# Define predictors (X) and target variable (y)\n",
    "X = df[['log_Target_Revenues',\n",
    "        'log_Target_EBITDA',\n",
    "        'Target_Region_Eastern Europe',\n",
    "        'Target_Region_Nordics',\n",
    "        'Target_Region_North America',\n",
    "        'Target_Region_Southern Europe',\n",
    "        'Target_Region_UK',\n",
    "        'Target_Region_Western Europe',\n",
    "        'Target_Industry_Macro_Consumer Products and Services',\n",
    "        'Target_Industry_Macro_Consumer Staples',\n",
    "        'Target_Industry_Macro_Energy and Power',\n",
    "        'Target_Industry_Macro_Financials',\n",
    "        'Target_Industry_Macro_Healthcare',\n",
    "        'Target_Industry_Macro_High Technology',\n",
    "        'Target_Industry_Macro_Industrials',\n",
    "        'Target_Industry_Macro_Materials',\n",
    "        'Target_Industry_Macro_Media and Entertainment',\n",
    "        'Target_Industry_Macro_Real Estate',\n",
    "        'Target_Industry_Macro_Retail',\n",
    "        'Target_Industry_Macro_Telecommunications']]\n",
    "y = df['log_Target_EV']\n",
    "\n",
    "# Split data into training and test sets\n",
    "X_train, X_test, Y_train, Y_test = train_test_split(X, y, test_size=0.3, random_state=42)\n",
    "\n",
    "# Create the Gradient Boosting model\n",
    "model = GradientBoostingRegressor(n_estimators=100, learning_rate=0.1, max_depth=5, random_state=42)\n",
    "\n",
    "# Train the model\n",
    "model.fit(X_train, Y_train)\n",
    "\n",
    "# Predictions\n",
    "y_train_pred = model.predict(X_train)\n",
    "y_test_pred = model.predict(X_test)\n",
    "\n",
    "# RMSE and R^2 with training data\n",
    "train_rmse = np.sqrt(mean_squared_error(Y_train, y_train_pred))\n",
    "train_r2 = r2_score(Y_train, y_train_pred)\n",
    "\n",
    "# RMSE and R^2 with test data\n",
    "test_rmse = np.sqrt(mean_squared_error(Y_test, y_test_pred))\n",
    "test_r2 = r2_score(Y_test, y_test_pred)\n",
    "\n",
    "# Results\n",
    "print('Performance on Training Data:')\n",
    "print(f'Root Mean Squared Error (Train): {train_rmse}')\n",
    "print(f'R^2 Score (Train): {train_r2}')\n",
    "print('\\nPerformance on Testing Data:')\n",
    "print(f'Root Mean Squared Error (Test): {test_rmse}')\n",
    "print(f'R^2 Score (Test): {test_r2}')\n",
    "\n",
    "# Re-transform logs to find R^2:\n",
    "y_test_pred_exp = np.exp(y_test_pred)\n",
    "Y_test_exp = np.exp(Y_test)\n",
    "\n",
    "# Calculate R^2 on the original scale\n",
    "correlation_matrix = np.corrcoef(y_test_pred_exp, Y_test_exp)\n",
    "r_squared_original_scale = correlation_matrix[0, 1] ** 2\n",
    "test_r2 = r2_score(Y_test_exp, y_test_pred_exp)\n",
    "\n",
    "#Results\n",
    "print('\\nR^2 Score (Test) in Original Scale:')\n",
    "print(f'R^2 Score (Test) in Original Scale: {r_squared_original_scale}')\n",
    "print(y_test_pred.shape)\n",
    "print(y_test.shape)\n"
   ]
  },
  {
   "cell_type": "code",
   "execution_count": null,
   "metadata": {},
   "outputs": [
    {
     "ename": "ValueError",
     "evalue": "all the input array dimensions for the concatenation axis must match exactly, but along dimension 1, the array at index 0 has size 3103 and the array at index 1 has size 3222",
     "output_type": "error",
     "traceback": [
      "\u001b[0;31m---------------------------------------------------------------------------\u001b[0m",
      "\u001b[0;31mValueError\u001b[0m                                Traceback (most recent call last)",
      "Cell \u001b[0;32mIn[78], line 1\u001b[0m\n\u001b[0;32m----> 1\u001b[0m \u001b[43mnp\u001b[49m\u001b[38;5;241;43m.\u001b[39;49m\u001b[43mcorrcoef\u001b[49m\u001b[43m(\u001b[49m\u001b[43mnp\u001b[49m\u001b[38;5;241;43m.\u001b[39;49m\u001b[43mexp\u001b[49m\u001b[43m(\u001b[49m\u001b[43my_test_pred\u001b[49m\u001b[43m)\u001b[49m\u001b[43m,\u001b[49m\u001b[43mnp\u001b[49m\u001b[38;5;241;43m.\u001b[39;49m\u001b[43mexp\u001b[49m\u001b[43m(\u001b[49m\u001b[43my_test\u001b[49m\u001b[43m)\u001b[49m\u001b[43m)\u001b[49m\u001b[38;5;241m*\u001b[39m\u001b[38;5;241m*\u001b[39m\u001b[38;5;241m2\u001b[39m\n",
      "File \u001b[0;32m<__array_function__ internals>:180\u001b[0m, in \u001b[0;36mcorrcoef\u001b[0;34m(*args, **kwargs)\u001b[0m\n",
      "File \u001b[0;32m~/.pyenv/versions/3.10.6/envs/ValToolenv/lib/python3.10/site-packages/numpy/lib/function_base.py:2845\u001b[0m, in \u001b[0;36mcorrcoef\u001b[0;34m(x, y, rowvar, bias, ddof, dtype)\u001b[0m\n\u001b[1;32m   2841\u001b[0m \u001b[38;5;28;01mif\u001b[39;00m bias \u001b[38;5;129;01mis\u001b[39;00m \u001b[38;5;129;01mnot\u001b[39;00m np\u001b[38;5;241m.\u001b[39m_NoValue \u001b[38;5;129;01mor\u001b[39;00m ddof \u001b[38;5;129;01mis\u001b[39;00m \u001b[38;5;129;01mnot\u001b[39;00m np\u001b[38;5;241m.\u001b[39m_NoValue:\n\u001b[1;32m   2842\u001b[0m     \u001b[38;5;66;03m# 2015-03-15, 1.10\u001b[39;00m\n\u001b[1;32m   2843\u001b[0m     warnings\u001b[38;5;241m.\u001b[39mwarn(\u001b[38;5;124m'\u001b[39m\u001b[38;5;124mbias and ddof have no effect and are deprecated\u001b[39m\u001b[38;5;124m'\u001b[39m,\n\u001b[1;32m   2844\u001b[0m                   \u001b[38;5;167;01mDeprecationWarning\u001b[39;00m, stacklevel\u001b[38;5;241m=\u001b[39m\u001b[38;5;241m3\u001b[39m)\n\u001b[0;32m-> 2845\u001b[0m c \u001b[38;5;241m=\u001b[39m \u001b[43mcov\u001b[49m\u001b[43m(\u001b[49m\u001b[43mx\u001b[49m\u001b[43m,\u001b[49m\u001b[43m \u001b[49m\u001b[43my\u001b[49m\u001b[43m,\u001b[49m\u001b[43m \u001b[49m\u001b[43mrowvar\u001b[49m\u001b[43m,\u001b[49m\u001b[43m \u001b[49m\u001b[43mdtype\u001b[49m\u001b[38;5;241;43m=\u001b[39;49m\u001b[43mdtype\u001b[49m\u001b[43m)\u001b[49m\n\u001b[1;32m   2846\u001b[0m \u001b[38;5;28;01mtry\u001b[39;00m:\n\u001b[1;32m   2847\u001b[0m     d \u001b[38;5;241m=\u001b[39m diag(c)\n",
      "File \u001b[0;32m<__array_function__ internals>:180\u001b[0m, in \u001b[0;36mcov\u001b[0;34m(*args, **kwargs)\u001b[0m\n",
      "File \u001b[0;32m~/.pyenv/versions/3.10.6/envs/ValToolenv/lib/python3.10/site-packages/numpy/lib/function_base.py:2639\u001b[0m, in \u001b[0;36mcov\u001b[0;34m(m, y, rowvar, bias, ddof, fweights, aweights, dtype)\u001b[0m\n\u001b[1;32m   2637\u001b[0m     \u001b[38;5;28;01mif\u001b[39;00m \u001b[38;5;129;01mnot\u001b[39;00m rowvar \u001b[38;5;129;01mand\u001b[39;00m y\u001b[38;5;241m.\u001b[39mshape[\u001b[38;5;241m0\u001b[39m] \u001b[38;5;241m!=\u001b[39m \u001b[38;5;241m1\u001b[39m:\n\u001b[1;32m   2638\u001b[0m         y \u001b[38;5;241m=\u001b[39m y\u001b[38;5;241m.\u001b[39mT\n\u001b[0;32m-> 2639\u001b[0m     X \u001b[38;5;241m=\u001b[39m \u001b[43mnp\u001b[49m\u001b[38;5;241;43m.\u001b[39;49m\u001b[43mconcatenate\u001b[49m\u001b[43m(\u001b[49m\u001b[43m(\u001b[49m\u001b[43mX\u001b[49m\u001b[43m,\u001b[49m\u001b[43m \u001b[49m\u001b[43my\u001b[49m\u001b[43m)\u001b[49m\u001b[43m,\u001b[49m\u001b[43m \u001b[49m\u001b[43maxis\u001b[49m\u001b[38;5;241;43m=\u001b[39;49m\u001b[38;5;241;43m0\u001b[39;49m\u001b[43m)\u001b[49m\n\u001b[1;32m   2641\u001b[0m \u001b[38;5;28;01mif\u001b[39;00m ddof \u001b[38;5;129;01mis\u001b[39;00m \u001b[38;5;28;01mNone\u001b[39;00m:\n\u001b[1;32m   2642\u001b[0m     \u001b[38;5;28;01mif\u001b[39;00m bias \u001b[38;5;241m==\u001b[39m \u001b[38;5;241m0\u001b[39m:\n",
      "File \u001b[0;32m<__array_function__ internals>:180\u001b[0m, in \u001b[0;36mconcatenate\u001b[0;34m(*args, **kwargs)\u001b[0m\n",
      "\u001b[0;31mValueError\u001b[0m: all the input array dimensions for the concatenation axis must match exactly, but along dimension 1, the array at index 0 has size 3103 and the array at index 1 has size 3222"
     ]
    }
   ],
   "source": [
    "np.corrcoef(np.exp(y_test_pred),np.exp(y_test))**2"
   ]
  },
  {
   "cell_type": "code",
   "execution_count": null,
   "metadata": {},
   "outputs": [],
   "source": []
  }
 ],
 "metadata": {
  "kernelspec": {
   "display_name": "Python 3 (ipykernel)",
   "language": "python",
   "name": "python3"
  },
  "language_info": {
   "codemirror_mode": {
    "name": "ipython",
    "version": 3
   },
   "file_extension": ".py",
   "mimetype": "text/x-python",
   "name": "python",
   "nbconvert_exporter": "python",
   "pygments_lexer": "ipython3",
   "version": "3.10.6"
  }
 },
 "nbformat": 4,
 "nbformat_minor": 4
}
